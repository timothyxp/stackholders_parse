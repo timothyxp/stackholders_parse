{
 "cells": [
  {
   "cell_type": "code",
   "execution_count": 1,
   "metadata": {},
   "outputs": [],
   "source": [
    "import os\n",
    "from bs4 import BeautifulSoup\n",
    "import bs4\n",
    "import pandas as pd\n",
    "import numpy as np\n",
    "import json\n",
    "import requests"
   ]
  },
  {
   "cell_type": "code",
   "execution_count": 2,
   "metadata": {},
   "outputs": [],
   "source": [
    "docs = open('список.html').read()\n",
    "page = BeautifulSoup(docs, \"lxml\")"
   ]
  },
  {
   "cell_type": "code",
   "execution_count": 39,
   "metadata": {},
   "outputs": [
    {
     "name": "stdout",
     "output_type": "stream",
     "text": [
      "find 2400 elements\n"
     ]
    }
   ],
   "source": [
    "list_elem = page.find_all(\"div\", {\"id\": \"cont_wrap\"})[0]\n",
    "elements = list_elem.find_all(\"td\")\n",
    "print(f\"find {len(elements)} elements\")\n",
    "\n",
    "articles = []\n",
    "\n",
    "for elem in elements:\n",
    "    childrens = list(elem.children)\n",
    "    if len(childrens) == 1:\n",
    "        continue\n",
    "    if len(childrens) != 7:\n",
    "        print(len(childrens))\n",
    "    \n",
    "    articles.append(childrens[3].attrs['href'])"
   ]
  },
  {
   "cell_type": "code",
   "execution_count": 40,
   "metadata": {},
   "outputs": [
    {
     "data": {
      "text/plain": [
       "['https://e-disclosure.ru/portal/event.aspx?EventId=JZxDIlEOckyp8Yz8qqUhZQ-B-B',\n",
       " 'https://e-disclosure.ru/portal/event.aspx?EventId=TtVblFxL00ySd5EZnSCvbA-B-B',\n",
       " 'https://e-disclosure.ru/portal/event.aspx?EventId=s-AB-CeN5iuU2Pl7orCYZfcg-B-B',\n",
       " 'https://e-disclosure.ru/portal/event.aspx?EventId=7ygNWI4CUESgwD4n-CTvLNQ-B-B',\n",
       " 'https://e-disclosure.ru/portal/event.aspx?EventId=rQuGi9L-CI0qEXsEwFMUxQw-B-B']"
      ]
     },
     "execution_count": 40,
     "metadata": {},
     "output_type": "execute_result"
    }
   ],
   "source": [
    "articles[:5]"
   ]
  },
  {
   "cell_type": "code",
   "execution_count": 54,
   "metadata": {},
   "outputs": [
    {
     "data": {
      "text/plain": [
       "96777"
      ]
     },
     "execution_count": 54,
     "metadata": {},
     "output_type": "execute_result"
    }
   ],
   "source": [
    "open(\"articles.json\", \"w\").write(json.dumps(articles))"
   ]
  },
  {
   "cell_type": "code",
   "execution_count": 4,
   "metadata": {},
   "outputs": [
    {
     "name": "stdout",
     "output_type": "stream",
     "text": [
      "[\"https://e-disclosure.ru/portal/event.aspx?EventId=JZxDIlEOckyp8Yz8qqUhZQ-B-B\", \"https://e-disclosure.ru/portal/event.aspx?EventId=TtVblFxL00ySd5EZnSCvbA-B-B\", \"https://e-disclosure.ru/portal/event.aspx?EventId=s-AB-CeN5iuU2Pl7orCYZfcg-B-B\", \"https://e-disclosure.ru/portal/event.aspx?EventId=7ygNWI4CUESgwD4n-CTvLNQ-B-B\", \"https://e-disclosure.ru/portal/event.aspx?EventId=rQuGi9L-CI0qEXsEwFMUxQw-B-B\", \"https://e-disclosure.ru/portal/event.aspx?EventId=zHJjwE24-CkuLvuN5WagKig-B-B\", \"https://e-disclosure.ru/portal/event.aspx?EventId=BOUlalNDxEur4xnFL9XRow-B-B\", \"https://e-disclosure.ru/portal/event.aspx?EventId=zMIc-CXoE-CUW-ATlH33qlXcw-B-B\", \"https://e-disclosure.ru/portal/event.aspx?EventId=ehCzwUDr9ki2FuuO5jCm9g-B-B\", \"https://e-disclosure.ru/portal/event.aspx?EventId=XGC2UuqDVUKJS2kEgSdqpQ-B-B\", \"https://e-disclosure.ru/portal/event.aspx?EventId=TT7tS7IxGEG8ckhkQyHvrQ-B-B\", \"https://e-disclosure.ru/portal/event.aspx?EventId=-Ar-A-CwL0UkUyzZhRkFB2XzA-B-B\", \"https://e-disclosure.ru/portal/event.aspx?EventId=o3KHR137Fkm2xWvnpj9ubw-B-B\", \"https://e-disclosure.ru/portal/event.aspx?EventId=AgojH7oUKUassWTNwcbieQ-B-B\", \"https://e-disclosure.ru/portal/event.aspx?EventId=GoUnU6J7YkeYkywCSQBV4Q-B-B\", \"https://e-disclosure.ru/portal/event.aspx?EventId=6iIZ2aJDzEax9rQy9Kz8Yg-B-B\", \"https://e-disclosure.ru/portal/event.aspx?EventId=fAa1dNzVGEaRnbEdmk1bZA-B-B\", \"https://e-disclosure.ru/portal/event.aspx?EventId=-CH-Ax-C7zV3UqPZDHhaGSY-CA-B-B\", \"https://e-disclosure.ru/portal/event.aspx?EventId=-AqeH81gC7U-C03Ogmb95ZUQ-B-B\", \"https://e-disclosure.ru/portal/event.aspx?EventId=OplOniahNUOg6zdJojmwRw-B-B\", \"https://e-disclosure.ru/portal/event.aspx?EventId=ciVsvJJpUEO-Cw6j82cQ8lw-B-B\", \"https://e-disclosure.ru/portal/event.aspx?EventId=6225TuHGSUKyehCVcLmTpQ-B-B\", \"https://e-disclosure.ru/portal/event.aspx?EventId=k-CA0Dx1QoUKo9HhcpfaQGA-B-B\", \"https://e-disclosure.ru/portal/event.aspx?EventId=-Cd-CI-CdvL6EqMNNFWwdNaTA-B-B\", \"https://e-disclosure.ru/portal/event.aspx?EventId=6UI8PAmX-AkCTqXQu5koruQ-B-B\", \"https://e-disclosure.ru/portal/event.aspx?EventId=DHuj-A1WdbEC1uysxvDGFAQ-B-B\", \"https://e-disclosure.ru/portal/event.aspx?EventId=I-AYWMt-ATOUu8Kk4RI9AMBw-B-B\", \"https://e-disclosure.ru/portal/event.aspx?EventId=-AUIJUFYWVkarCLLJMoPJUA-B-B\", \"https://e-disclosure.ru/portal/event.aspx?EventId=XaSO0rljlU-Cn2coNAHec0w-B-B\", \"https://e-disclosure.ru/portal/event.aspx?EventId=a9D0Rq9na0mfk7FBTAi6LA-B-B\", \"https://e-disclosure.ru/portal/event.aspx?EventId=OeXAnGBlZkS-C7rGVCAv8UQ-B-B\", \"https://e-disclosure.ru/portal/event.aspx?EventId=JYOlkAN-A6UyMNXK7RaUzSg-B-B\", \"https://e-disclosure.ru/portal/event.aspx?EventId=GND-ApEFRG0i80rcOL9v0TA-B-B\", \"https://e-disclosure.ru/portal/event.aspx?EventId=zIg8fwHyHUG63pMND04Pdw-B-B\", \"https://e-disclosure.ru/portal/event.aspx?EventId=bOJp0p0fj0-C6FwxOAJt3ew-B-B\", \"https://e-disclosure.ru/portal/event.aspx?EventId=VNXgYWPP00yovbW6xNAK6A-B-B\", \"https://e-disclosure.ru/portal/event.aspx?EventId=eusfS-CGtcUqcnKMbDA95dw-B-B\", \"https://e-disclosure.ru/portal/event.aspx?EventId=6rxvMmyAWkS0nwoFVhFsSA-B-B\", \"https://e-disclosure.ru/portal/event.aspx?EventId=ffr0wNgvDkeGfYrOiBY3ww-B-B\", \"https://e-disclosure.ru/portal/event.aspx?EventId=wzV-Afmv0rUe3Mxbx8cbwEQ-B-B\", \"https://e-disclosure.ru/portal/event.aspx?EventId=OUO8dlnUcEmUlCufEv7crA-B-B\", \"https://e-disclosure.ru/portal/event.aspx?EventId=Sn6OQtsf8USQWgElbF3mRg-B-B\", \"https://e-disclosure.ru/portal/event.aspx?EventId=ia5pSTC1E0qFF97TJQ2Raw-B-B\", \"https://e-disclosure.ru/portal/event.aspx?EventId=wBIgPfuQc0CrozsoAIFguQ-B-B\", \"https://e-disclosure.ru/portal/event.aspx?EventId=kKYv1rg1lkGEraqYOKq-AAg-B-B\", \"https://e-disclosure.ru/portal/event.aspx?EventId=P05FQ4sWPEOyn3SFGQkoSw-B-B\", \"https://e-disclosure.ru/portal/event.aspx?EventId=MkRAzm0c3UuGl4evAyU-Csw-B-B\", \"https://e-disclosure.ru/portal/event.aspx?EventId=CIPbnYcBNUSPfqxcHRHkYQ-B-B\", \"https://e-disclosure.ru/portal/event.aspx?EventId=cdPHnliqMUWdm-CPwrABMBQ-B-B\", \"https://e-disclosure.ru/portal/event.aspx?EventId=Ad-AroELf5kGBVm0bTP4DYw-B-B\", \"https://e-disclosure.ru/portal/event.aspx?EventId=n-CDb95-ClC0O-AdzI6qPxaWw-B-B\", \"https://e-disclosure.ru/portal/event.aspx?EventId=jY-CQTadEQ02DbkM54O8vkA-B-B\", \"https://e-disclosure.ru/portal/event.aspx?EventId=Ts8gmP79jUuo4QJo9Vtz1Q-B-B\", \"https://e-disclosure.ru/portal/event.aspx?EventId=Cggt7gZpAkWLOVhKehf6AQ-B-B\", \"https://e-disclosure.ru/portal/event.aspx?EventId=I-AWOtaA30UuQJynPKBDyUQ-B-B\", \"https://e-disclosure.ru/portal/event.aspx?EventId=I0IteXM3PUy5rnVlV1surg-B-B\", \"https://e-disclosure.ru/portal/event.aspx?EventId=GXEHJLiRBEy4oz2zGYewiQ-B-B\", \"https://e-disclosure.ru/portal/event.aspx?EventId=mkMfssR6h0SuW6itrPqXeA-B-B\", \"https://e-disclosure.ru/portal/event.aspx?EventId=jg6LxHuqaUq8u25kge9dzg-B-B\", \"https://e-disclosure.ru/portal/event.aspx?EventId=XqcIIAXoB02NoKQZYBHaUg-B-B\", \"https://e-disclosure.ru/portal/event.aspx?EventId=jH-ApapGMZkWForI6lpXSBQ-B-B\", \"https://e-disclosure.ru/portal/event.aspx?EventId=1PFy6DnMx0W8nJp1QRJLEQ-B-B\", \"https://e-disclosure.ru/portal/event.aspx?EventId=mR6UAxdz4ESYfYFdDXNXEQ-B-B\", \"https://e-disclosure.ru/portal/event.aspx?EventId=8SyUg-CROnUevRmHFoORiFA-B-B\", \"https://e-disclosure.ru/portal/event.aspx?EventId=N8ZmD8m5Yk607cnmQLmESA-B-B\", \"https://e-disclosure.ru/portal/event.aspx?EventId=gMpIG6Iy9EOB3-AGts4Tq9w-B-B\", \"https://e-disclosure.ru/portal/event.aspx?EventId=y07olfbEokqIY9UtDboXyw-B-B\", \"https://e-disclosure.ru/portal/event.aspx?EventId=IzVs0NKfn0WYHnbF0E1dfQ-B-B\", \"https://e-disclosure.ru/portal/event.aspx?EventId=avlJwMMcuU-CHaIPb1-CmyPw-B-B\", \"https://e-disclosure.ru/portal/event.aspx?EventId=bJczdSlLREmZb65-CePsIsw-B-B\", \"https://e-disclosure.ru/portal/event.aspx?EventId=28yiZguKe0-CsxwcO3I4qxA-B-B\", \"https://e-disclosure.ru/portal/event.aspx?EventId=zYZW7pRdoUafsXzU-AEaJPw-B-B\", \"https://e-disclosure.ru/portal/event.aspx?EventId=03uCqSBtGESFiy4QsMr-Aow-B-B\", \"https://e-disclosure.ru/portal/event.aspx?EventId=rl8RBLO1qU2abDOSEzXhbQ-B-B\", \"https://e-disclosure.ru/portal/event.aspx?EventId=BsGDMnzX4UO1kqCgiY1hhw-B-B\", \"https://e-disclosure.ru/portal/event.aspx?EventId=XaafPrsJwkeAc900ThcmIg-B-B\", \"https://e-disclosure.ru/portal/event.aspx?EventId=2h5JhSQlUE2FytEDy60dBw-B-B\", \"https://e-disclosure.ru/portal/event.aspx?EventId=P-AswhVwgcUmBTycXgOH98Q-B-B\", \"https://e-disclosure.ru/portal/event.aspx?EventId=UarZyuuqmUqGz6xstIlvFA-B-B\", \"https://e-disclosure.ru/portal/event.aspx?EventId=98c8-CdgI4EGyEHeVqmsoWQ-B-B\", \"https://e-disclosure.ru/portal/event.aspx?EventId=YkkJWmcTCESZq1xvwdYNgA-B-B\", \"https://e-disclosure.ru/portal/event.aspx?EventId=ByP7qQiys0WJ-A965z15XsQ-B-B\", \"https://e-disclosure.ru/portal/event.aspx?EventId=nJGSybQ1VEm7ZGk9WM9Dww-B-B\", \"https://e-disclosure.ru/portal/event.aspx?EventId=Dyx5-A5VT3UmrQHJM62ZVmA-B-B\", \"https://e-disclosure.ru/portal/event.aspx?EventId=fqrqkxLG0UmD0m9fvxQI6Q-B-B\", \"https://e-disclosure.ru/portal/event.aspx?EventId=5IB3EhIv70W8CJnrsYUw9Q-B-B\", \"https://e-disclosure.ru/portal/event.aspx?EventId=fj1TqKqDqUO3nCqw8GvNBw-B-B\", \"https://e-disclosure.ru/portal/event.aspx?EventId=o3aMYtu1NU2Pjc-Ag2kNgLg-B-B\", \"https://e-disclosure.ru/portal/event.aspx?EventId=Z25k-CgQZBEyQYXRFW3f56Q-B-B\", \"https://e-disclosure.ru/portal/event.aspx?EventId=iHT4tJ6qF0OzducicxYrsQ-B-B\", \"https://e-disclosure.ru/portal/event.aspx?EventId=vrmaE7Feok-C4aGnkvFSefQ-B-B\", \"https://e-disclosure.ru/portal/event.aspx?EventId=ieSq18XPu0qc4pfvxGScFA-B-B\", \"https://e-disclosure.ru/portal/event.aspx?EventId=NFOnT7SzjkC-CvFv1JAbabQ-B-B\", \"https://e-disclosure.ru/portal/event.aspx?EventId=e1cARTMNQEq9r2L7nMXDqg-B-B\", \"https://e-disclosure.ru/portal/event.aspx?EventId=VBfjz-CwXq0yTIc-CrLK8tXw-B-B\", \"https://e-disclosure.ru/portal/event.aspx?EventId=IqxqPSuKX06gOfgILw1r-AA-B-B\", \"https://e-disclosure.ru/portal/event.aspx?EventId=rLNMnmZ2XkGB7feT0vo9Hw-B-B\", \"https://e-disclosure.ru/portal/event.aspx?EventId=LZWTH8Tz4EqeyYK6qBLGig-B-B\", \"https://e-disclosure.ru/portal/event.aspx?EventId=aIoIU6mZYkCFtVkqWywUWQ-B-B\", \"https://e-disclosure.ru/portal/event.aspx?EventId=p6Umzl-C68UiPWfE7DWOyvw-B-B\", \"https://e-disclosure.ru/portal/event.aspx?EventId=B65bktut40OFRehutE1w4w-B-B\", \"https://e-disclosure.ru/portal/event.aspx?EventId=4ZthH5tXA0KCbTS9cXQeCA-B-B\", \"https://e-disclosure.ru/portal/event.aspx?EventId=e-CJjSDzqDkymCU-Ch3jG-CmA-B-B\", \"https://e-disclosure.ru/portal/event.aspx?EventId=xcm9Oa4iyE-Cf5d7EzOm3xA-B-B\", \"https://e-disclosure.ru/portal/event.aspx?EventId=j2lFK93WNEeVKJ47O0fd6w-B-B\", \"https://e-disclosure.ru/portal/event.aspx?EventId=YM1ktNeotUmHHwAzbrYSmQ-B-B\", \"https://e-disclosure.ru/portal/event.aspx?EventId=JSkRqusp7EmPxWMpULV4ug-B-B\", \"https://e-disclosure.ru/portal/event.aspx?EventId=sf00uowesEWYyGieYdTXTw-B-B\", \"https://e-disclosure.ru/portal/event.aspx?EventId=aa37wZiG50iRL3G5mTu7TA-B-B\", \"https://e-disclosure.ru/portal/event.aspx?EventId=Z09BNZhUO0K5kfzblkyfvQ-B-B\", \"https://e-disclosure.ru/portal/event.aspx?EventId=QfRo1TE4skKAyo3SEofrAw-B-B\", \"https://e-disclosure.ru/portal/event.aspx?EventId=z8avl1GD30S3vhA-AnPzexw-B-B\", \"https://e-disclosure.ru/portal/event.aspx?EventId=6gToJ9-Ard0ucPiJj7X13lw-B-B\", \"https://e-disclosure.ru/portal/event.aspx?EventId=FcUPYXWkREOynU6i-CF9FfA-B-B\", \"https://e-disclosure.ru/portal/event.aspx?EventId=RepliLyVBUi8-C1N69ca9YQ-B-B\", \"https://e-disclosure.ru/portal/event.aspx?EventId=PjUGWI2yXU6Uwwr4fS6aMA-B-B\", \"https://e-disclosure.ru/portal/event.aspx?EventId=NUNyqdK5FkG-Cwh-CvGY-CO6A-B-B\", \"https://e-disclosure.ru/portal/event.aspx?EventId=DcRjis7PME-CqiBIwikCGiQ-B-B\", \"https://e-disclosure.ru/portal/event.aspx?EventId=iFusO6Ae7kWsECoCytw7lg-B-B\", \"https://e-disclosure.ru/portal/event.aspx?EventId=0OhICVC8xke2vrFn6Xt-Adg-B-B\", \"https://e-disclosure.ru/portal/event.aspx?EventId=49Sn1PYbWESBqI334umIcw-B-B\", \"https://e-disclosure.ru/portal/event.aspx?EventId=yvJhBWhlEkyN6-CQjKhBasw-B-B\", \"https://e-disclosure.ru/portal/event.aspx?EventId=yVgdjBo55kSIHIiLBo06YA-B-B\", \"https://e-disclosure.ru/portal/event.aspx?EventId=-CNUXJOE2dk2jnbZ8AvOh-Aw-B-B\", \"https://e-disclosure.ru/portal/event.aspx?EventId=YdlAGntlQUyHGadnksSc6g-B-B\", \"https://e-disclosure.ru/portal/event.aspx?EventId=-CgGKG6tOP0GoLjN9I5dGSA-B-B\", \"https://e-disclosure.ru/portal/event.aspx?EventId=uKoCaz0nDEut5guM7DWsNw-B-B\", \"https://e-disclosure.ru/portal/event.aspx?EventId=4-AnLZNVvl0CmyZrKQBAzGg-B-B\", \"https://e-disclosure.ru/portal/event.aspx?EventId=axIrvnLYfUWNDR6pA2U-Ckw-B-B\", \"https://e-disclosure.ru/portal/event.aspx?EventId=14KLEuompEa1DxJ-ATBGWlA-B-B\", \"https://e-disclosure.ru/portal/event.aspx?EventId=EGtWtpGM2Um1r4WgR7bVCA-B-B\", \"https://e-disclosure.ru/portal/event.aspx?EventId=20urA01bT0Wbn7QZX-CLqhg-B-B\", \"https://e-disclosure.ru/portal/event.aspx?EventId=3z6zDAZNQEeHeOJYfQQ2fA-B-B\", \"https://e-disclosure.ru/portal/event.aspx?EventId=yU4RoAr2EE6-CKdobCr0VAA-B-B\", \"https://e-disclosure.ru/portal/event.aspx?EventId=GcPYlBKWakqh39ta6OXQtg-B-B\", \"https://e-disclosure.ru/portal/event.aspx?EventId=1VkxD6zOyUGfLIpQ0FESzg-B-B\", \"https://e-disclosure.ru/portal/event.aspx?EventId=swkS-AVcc5UC4tNhYFrI6sw-B-B\", \"https://e-disclosure.ru/portal/event.aspx?EventId=XdgURD-C7AUGAs48aC6k6Og-B-B\", \"https://e-disclosure.ru/portal/event.aspx?EventId=dVVLarUW6ECxFZlEzcl-Aew-B-B\", \"https://e-disclosure.ru/portal/event.aspx?EventId=HcfOicq5DUqc9cksMJncdw-B-B\", \"https://e-disclosure.ru/portal/event.aspx?EventId=R1hWuzLOQUWyHdeTEghm5w-B-B\", \"https://e-disclosure.ru/portal/event.aspx?EventId=osN1lhJ7lEmI7uoxFEA9jA-B-B\", \"https://e-disclosure.ru/portal/event.aspx?EventId=gaz7mtUcQE-CrVgBFTJNRjg-B-B\", \"https://e-disclosure.ru/portal/event.aspx?EventId=ReO1md-CLckCadcJbGbEz1Q-B-B\", \"https://e-disclosure.ru/portal/event.aspx?EventId=MV9OTEmrYUGdsF-A-C-AF4CsQ-B-B\", \"https://e-disclosure.ru/portal/event.aspx?EventId=-CT7rnwc-Aak-CxKm9rgYtNCw-B-B\", \"https://e-disclosure.ru/portal/event.aspx?EventId=Fz4kyrmpd0yw2grQxc0tIw-B-B\", \"https://e-disclosure.ru/portal/event.aspx?EventId=Vjv41vLULUCOCZDmayUAWA-B-B\", \"https://e-disclosure.ru/portal/event.aspx?EventId=ZcAwfFJr0EqmOww1-AEhLYQ-B-B\", \"https://e-disclosure.ru/portal/event.aspx?EventId=yMeXPUHe2keje1W1n59jMQ-B-B\", \"https://e-disclosure.ru/portal/event.aspx?EventId=ObelrecOUkOjMd8Ww-C9fDg-B-B\", \"https://e-disclosure.ru/portal/event.aspx?EventId=McO58GKYxE-Cx3DHHNBTSHw-B-B\", \"https://e-disclosure.ru/portal/event.aspx?EventId=48NE-Az-CSW0O2FkiL5m70fw-B-B\", \"https://e-disclosure.ru/portal/event.aspx?EventId=hrN71HNPC0WlrMJAIVk-AEQ-B-B\", \"https://e-disclosure.ru/portal/event.aspx?EventId=bxtgASuPJkKuwRQ0PoMgwg-B-B\", \"https://e-disclosure.ru/portal/event.aspx?EventId=t4EvlVcB20eSNZ97jau-CJg-B-B\", \"https://e-disclosure.ru/portal/event.aspx?EventId=6funuNIuPk216u24BuYFCw-B-B\", \"https://e-disclosure.ru/portal/event.aspx?EventId=Wq6YcNEzK0iOEe5c8VsyEQ-B-B\", \"https://e-disclosure.ru/portal/event.aspx?EventId=blaYFOl6ykqxpm2H9ah25A-B-B\", \"https://e-disclosure.ru/portal/event.aspx?EventId=6INhynCG7kyaJJ-CVLHxzNA-B-B\", \"https://e-disclosure.ru/portal/event.aspx?EventId=hr6O-AFRKm06ZwuYafAdFXQ-B-B\", \"https://e-disclosure.ru/portal/event.aspx?EventId=wL6pJtOyfE6MgJ4-AfHSjDA-B-B\", \"https://e-disclosure.ru/portal/event.aspx?EventId=OmrSGRIp2kO3kI2GbtZaGg-B-B\", \"https://e-disclosure.ru/portal/event.aspx?EventId=CVUX-CUSjLkaVADSJtw6CtQ-B-B\", \"https://e-disclosure.ru/portal/event.aspx?EventId=-CP5jvH5wjk21-CFMePC96vg-B-B\", \"https://e-disclosure.ru/portal/event.aspx?EventId=ryYuDhMQEka9N0HV-C7YAbw-B-B\", \"https://e-disclosure.ru/portal/event.aspx?EventId=RLTFnEhbu0e6vOIjtWNZXA-B-B\", \"https://e-disclosure.ru/portal/event.aspx?EventId=24S-CGwRXO0qjswRteB0-A8A-B-B\", \"https://e-disclosure.ru/portal/event.aspx?EventId=1AGzOM3cI0Kr0lge-CpO7yA-B-B\", \"https://e-disclosure.ru/portal/event.aspx?EventId=nL21nG2KGUm-CNOBg1G1WhA-B-B\", \"https://e-disclosure.ru/portal/event.aspx?EventId=89Eou-AbX-CUSO381Esaa9KQ-B-B\", \"https://e-disclosure.ru/portal/event.aspx?EventId=M-C08BSv2rkmXWh6GVhGAQQ-B-B\", \"https://e-disclosure.ru/portal/event.aspx?EventId=CDT6Sl8odUeUNUHGZwuC6A-B-B\", \"https://e-disclosure.ru/portal/event.aspx?EventId=rwjzWluh7k6Xqxd9FQVZJg-B-B\", \"https://e-disclosure.ru/portal/event.aspx?EventId=3TQDsQ48-CkqXhwSX2Kiy6A-B-B\", \"https://e-disclosure.ru/portal/event.aspx?EventId=npRzJo1Of0OmFSdktxBbDQ-B-B\", \"https://e-disclosure.ru/portal/event.aspx?EventId=qQ4EOtiiM0aZkVuA7poVwg-B-B\", \"https://e-disclosure.ru/portal/event.aspx?EventId=hVprQpZ6S0SPd7UfoXFcjg-B-B\", \"https://e-disclosure.ru/portal/event.aspx?EventId=V2g9J7UwWU-CA-AijBBzmDPw-B-B\", \"https://e-disclosure.ru/portal/event.aspx?EventId=9CU29Ukkkk-CvGnHP79emCQ-B-B\", \"https://e-disclosure.ru/portal/event.aspx?EventId=rYt5LuxI10KKFj-AoIdMHhw-B-B\", \"https://e-disclosure.ru/portal/event.aspx?EventId=pTE1n3-CAIEuf1FUi-CESiAg-B-B\", \"https://e-disclosure.ru/portal/event.aspx?EventId=Y31vVufoa0GsbBv4yAu6zA-B-B\", \"https://e-disclosure.ru/portal/event.aspx?EventId=QNj2Zkb9vECNzCQfb2NJVg-B-B\", \"https://e-disclosure.ru/portal/event.aspx?EventId=UUGh3y1xKkCsxA9QDSWz-CA-B-B\", \"https://e-disclosure.ru/portal/event.aspx?EventId=YCHO3lc4UkGAPtECQBk8PA-B-B\", \"https://e-disclosure.ru/portal/event.aspx?EventId=S4HK79FW50Kh5db-A9DD36A-B-B\", \"https://e-disclosure.ru/portal/event.aspx?EventId=D9kQPAGoQE6loPjzWPmqDw-B-B\", \"https://e-disclosure.ru/portal/event.aspx?EventId=RbbFxfD5jE-C4-CrzdgRjrpQ-B-B\", \"https://e-disclosure.ru/portal/event.aspx?EventId=MqKSeIuYFk2E-CFGf-CgVNGw-B-B\", \"https://e-disclosure.ru/portal/event.aspx?EventId=Tgp2ipg0iEWIDfnq4meTAA-B-B\", \"https://e-disclosure.ru/portal/event.aspx?EventId=XJgnO0ekCkmZbuhYcbceFA-B-B\", \"https://e-disclosure.ru/portal/event.aspx?EventId=VhfrtzoyGUa-AlEFg68MZ9Q-B-B\", \"https://e-disclosure.ru/portal/event.aspx?EventId=KmMol-CLk-Cky-C2gqalfpq3A-B-B\", \"https://e-disclosure.ru/portal/event.aspx?EventId=QFlXS81D9kOc97hcRWudzQ-B-B\", \"https://e-disclosure.ru/portal/event.aspx?EventId=9JUNHfuHtke-Cupqzt1P74g-B-B\", \"https://e-disclosure.ru/portal/event.aspx?EventId=kPpCEcVwyU65i2FFm1Ng-CA-B-B\", \"https://e-disclosure.ru/portal/event.aspx?EventId=-CseNQVUwA0-CwmKUdTPoBQg-B-B\", \"https://e-disclosure.ru/portal/event.aspx?EventId=iFrTL9rbOU27bopBdn5oRw-B-B\", \"https://e-disclosure.ru/portal/event.aspx?EventId=aeKxkWpHtEKCO2lga-CvsOg-B-B\", \"https://e-disclosure.ru/portal/event.aspx?EventId=aaDTSC7-Aak6aj6jIfBCVHA-B-B\", \"https://e-disclosure.ru/portal/event.aspx?EventId=sphPuuTQdkWDlX1gPRzSLg-B-B\", \"https://e-disclosure.ru/portal/event.aspx?EventId=ZomZtaP-AhUmdl-Cg2-ARlyng-B-B\", \"https://e-disclosure.ru/portal/event.aspx?EventId=QssjEA0Bu06AvZgnpwsSDw-B-B\", \"https://e-disclosure.ru/portal/event.aspx?EventId=nL0tZzHSZ0qFn-AhWJenxfQ-B-B\", \"https://e-disclosure.ru/portal/event.aspx?EventId=Uji-CrsfSSESqfZ2KrkY1Dw-B-B\", \"https://e-disclosure.ru/portal/event.aspx?EventId=f-CpYU2QOCEWzA2-Apf0Hsxw-B-B\", \"https://e-disclosure.ru/portal/event.aspx?EventId=uwszBgiFC0GhiABzFGT0IQ-B-B\", \"https://e-disclosure.ru/portal/event.aspx?EventId=uxRYDmgsvEul-COW7AI0tMw-B-B\", \"https://e-disclosure.ru/portal/event.aspx?EventId=w9w6kHZqPUODFTfMdNgaRg-B-B\", \"https://e-disclosure.ru/portal/event.aspx?EventId=8xr9IxTk-A06OU4VvM7ePeA-B-B\", \"https://e-disclosure.ru/portal/event.aspx?EventId=w6VNmEglPEy86zkv1F9vcg-B-B\", \"https://e-disclosure.ru/portal/event.aspx?EventId=UtpOcwM5pkinUihVlI0amQ-B-B\", \"https://e-disclosure.ru/portal/event.aspx?EventId=-AL1cOLPuDkGfYo9CETBP7g-B-B\", \"https://e-disclosure.ru/portal/event.aspx?EventId=q276dtz8-AEGgLbNahrDG3w-B-B\", \"https://e-disclosure.ru/portal/event.aspx?EventId=B8ckZHQMfEOYmcQHZlnCAw-B-B\", \"https://e-disclosure.ru/portal/event.aspx?EventId=1-CEUYv-CgTEW1zkNKX9Cb-CA-B-B\", \"https://e-disclosure.ru/portal/event.aspx?EventId=X7noBRh2mEiGkFI4g5VYCg-B-B\", \"https://e-disclosure.ru/portal/event.aspx?EventId=hH67bdEi-A0ScePTgtGuDbQ-B-B\", \"https://e-disclosure.ru/portal/event.aspx?EventId=0nMvXbrPk0OgPRQ2mMJ6vg-B-B\", \"https://e-disclosure.ru/portal/event.aspx?EventId=86nlC0aw0Ey9-CC-AF1XzPMA-B-B\", \"https://e-disclosure.ru/portal/event.aspx?EventId=Czh6mfu2KUGSBT0NHUXUxA-B-B\", \"https://e-disclosure.ru/portal/event.aspx?EventId=SC5tDLfnwkSOpuSZzgPzVg-B-B\", \"https://e-disclosure.ru/portal/event.aspx?EventId=QAULaycWw0eSwnOXaBwDvw-B-B\", \"https://e-disclosure.ru/portal/event.aspx?EventId=TeEXUzXFLEuUK-C8GzHwFag-B-B\", \"https://e-disclosure.ru/portal/event.aspx?EventId=zjWrJ8DhO0elAh9q7HpAhg-B-B\", \"https://e-disclosure.ru/portal/event.aspx?EventId=nJCn9Oc-A6Um0jmIRu-CkRsQ-B-B\", \"https://e-disclosure.ru/portal/event.aspx?EventId=n2b6jhvLl0y4-ATApPppTvA-B-B\", \"https://e-disclosure.ru/portal/event.aspx?EventId=u1dgyswybE-CA4WO-AXCPFzw-B-B\", \"https://e-disclosure.ru/portal/event.aspx?EventId=4uGZUgEgy0S4jjqOfhtBnQ-B-B\", \"https://e-disclosure.ru/portal/event.aspx?EventId=tQAaHV271kWZCAsZA0bVlA-B-B\", \"https://e-disclosure.ru/portal/event.aspx?EventId=ZLkE6mFPfUmOY7QQ0RUOTQ-B-B\", \"https://e-disclosure.ru/portal/event.aspx?EventId=x6syfBpJvk62Q8JnDkpyIg-B-B\", \"https://e-disclosure.ru/portal/event.aspx?EventId=D3PLW6srcUuN1f7OJNgMZg-B-B\", \"https://e-disclosure.ru/portal/event.aspx?EventId=d2qP-CLnu4UyqLxgf6OBB5A-B-B\", \"https://e-disclosure.ru/portal/event.aspx?EventId=gGdYpakzkkOmOnokjU5BqA-B-B\", \"https://e-disclosure.ru/portal/event.aspx?EventId=6tVzW6QGNkyblyaWrhBU2Q-B-B\", \"https://e-disclosure.ru/portal/event.aspx?EventId=pjl8ep8zlkWp701knEwaqg-B-B\", \"https://e-disclosure.ru/portal/event.aspx?EventId=sb8vJAnkdkikqMUp5zNQdQ-B-B\", \"https://e-disclosure.ru/portal/event.aspx?EventId=DlfsHFSqD0SSpR-CKbUdCfg-B-B\", \"https://e-disclosure.ru/portal/event.aspx?EventId=l9ucxj454EKRA3yoETBpbg-B-B\", \"https://e-disclosure.ru/portal/event.aspx?EventId=BbuDytgVAUO0-CpTG2wTVhg-B-B\", \"https://e-disclosure.ru/portal/event.aspx?EventId=ioxRqzvmBkGRsDTu8l7KgA-B-B\", \"https://e-disclosure.ru/portal/event.aspx?EventId=7cOQvSl9d0md-As02o9a6zw-B-B\", \"https://e-disclosure.ru/portal/event.aspx?EventId=iuu5CcVFXEKgPCCmfO7JVQ-B-B\", \"https://e-disclosure.ru/portal/event.aspx?EventId=5IgZQW9sfEC9M1N-CgNagyw-B-B\", \"https://e-disclosure.ru/portal/event.aspx?EventId=B4rp9m-A5Vkq-AK9xGQVG2Lg-B-B\", \"https://e-disclosure.ru/portal/event.aspx?EventId=A7mLxtxYZEm-CpvSFL3h2tg-B-B\", \"https://e-disclosure.ru/portal/event.aspx?EventId=CoN2t8jpsUOUaa7QP52lFQ-B-B\", \"https://e-disclosure.ru/portal/event.aspx?EventId=Kku5UgF9u0yufIJy7i1XjA-B-B\", \"https://e-disclosure.ru/portal/event.aspx?EventId=S4TICGym0kS7zN4Hx7-AWQg-B-B\", \"https://e-disclosure.ru/portal/event.aspx?EventId=ectfhMIdXkWEj2F6WBDB6g-B-B\", \"https://e-disclosure.ru/portal/event.aspx?EventId=LL0r5ME2TUSAsCmr7fk9bA-B-B\", \"https://e-disclosure.ru/portal/event.aspx?EventId=YR-CKUDesZU2Emib7Ed94IQ-B-B\", \"https://e-disclosure.ru/portal/event.aspx?EventId=IXZ6XyS-C5kOfOg1yaK5CNQ-B-B\", \"https://e-disclosure.ru/portal/event.aspx?EventId=alsgpFvdtkW0Tg7Bi1bZyA-B-B\", \"https://e-disclosure.ru/portal/event.aspx?EventId=hqcnFHSDgUWZqwBHe0Damg-B-B\", \"https://e-disclosure.ru/portal/event.aspx?EventId=8QMz0dcbeU2apfw1Ml2ahg-B-B\", \"https://e-disclosure.ru/portal/event.aspx?EventId=RFQMvaM6AUy95zabTyN4Ww-B-B\", \"https://e-disclosure.ru/portal/event.aspx?EventId=xU61GpXNM0uk-CzDXMbAuQA-B-B\", \"https://e-disclosure.ru/portal/event.aspx?EventId=pyjVzj7-A50uF3p7vHR603g-B-B\", \"https://e-disclosure.ru/portal/event.aspx?EventId=i1gSuaU50Ea9JySkh025YQ-B-B\", \"https://e-disclosure.ru/portal/event.aspx?EventId=VGuPAtlOSU6FIT2StJ9p7g-B-B\", \"https://e-disclosure.ru/portal/event.aspx?EventId=9ohiTNEB90K-CiZYSEkOM0A-B-B\", \"https://e-disclosure.ru/portal/event.aspx?EventId=127luAQGg0erLY9SNGD8XA-B-B\", \"https://e-disclosure.ru/portal/event.aspx?EventId=rSf99lB8k0-CDqZfPmpe4dQ-B-B\", \"https://e-disclosure.ru/portal/event.aspx?EventId=UtsS3I7xWUqPXAmM6AkWcA-B-B\", \"https://e-disclosure.ru/portal/event.aspx?EventId=8CW5yyMCTkS5LqlLdZ279Q-B-B\", \"https://e-disclosure.ru/portal/event.aspx?EventId=tnTQ-AA-ARNEKVS9iXaegB4Q-B-B\", \"https://e-disclosure.ru/portal/event.aspx?EventId=hWSH6MHt6keytlTs49mQ-CQ-B-B\", \"https://e-disclosure.ru/portal/event.aspx?EventId=Bqa4n7UhjUG3XnsIE-Ayq-Ag-B-B\", \"https://e-disclosure.ru/portal/event.aspx?EventId=Y1Ybsdg7ZEy3TPiTSu3Omw-B-B\", \"https://e-disclosure.ru/portal/event.aspx?EventId=Cyrv1l4iuUW7X-AMkOgDtVQ-B-B\", \"https://e-disclosure.ru/portal/event.aspx?EventId=59bdbVqps0aogOjWOGzEvA-B-B\", \"https://e-disclosure.ru/portal/event.aspx?EventId=9CeT0dYMZE68R-C0YBnl4lQ-B-B\", \"https://e-disclosure.ru/portal/event.aspx?EventId=MSF6bFkhuECGfLMsS4vYCA-B-B\", \"https://e-disclosure.ru/portal/event.aspx?EventId=6q0jE7mxZUmYu76pVtfXdw-B-B\", \"https://e-disclosure.ru/portal/event.aspx?EventId=MHDkhp2md0afGHEoag-CbVQ-B-B\", \"https://e-disclosure.ru/portal/event.aspx?EventId=pm-CEu-AiDVkCxKYvWWzHoFQ-B-B\", \"https://e-disclosure.ru/portal/event.aspx?EventId=8GL4ZlnNfE2P92i3G-A2Zaw-B-B\", \"https://e-disclosure.ru/portal/event.aspx?EventId=GFsqZoFu4E-CWXX0IpIJKeQ-B-B\", \"https://e-disclosure.ru/portal/event.aspx?EventId=I-ADOkecHSEGSMozMhef9yw-B-B\", \"https://e-disclosure.ru/portal/event.aspx?EventId=ZOJJYFuMjUmHY4Hyg8eDlg-B-B\", \"https://e-disclosure.ru/portal/event.aspx?EventId=7JOPLOm60EKytowrb1gmkQ-B-B\", \"https://e-disclosure.ru/portal/event.aspx?EventId=U9U6ITIJs0qIQGqrOCZecw-B-B\", \"https://e-disclosure.ru/portal/event.aspx?EventId=Ks4xfTMtmUuFJiHEaQU9YA-B-B\", \"https://e-disclosure.ru/portal/event.aspx?EventId=2gydYDY4a0y-AAcz4LJld6Q-B-B\", \"https://e-disclosure.ru/portal/event.aspx?EventId=MdPR2-CqCoUqW-Chv41uAlrg-B-B\", \"https://e-disclosure.ru/portal/event.aspx?EventId=N9-Aw4Md8GkGTKzihOiypfQ-B-B\", \"https://e-disclosure.ru/portal/event.aspx?EventId=kClmdjEMS0KJ0W8sVJeecw-B-B\", \"https://e-disclosure.ru/portal/event.aspx?EventId=4GFjFro6sEqwq3-C9xpcwCw-B-B\", \"https://e-disclosure.ru/portal/event.aspx?EventId=Qm0gFoj6M0Og1ff3-AzPXcQ-B-B\", \"https://e-disclosure.ru/portal/event.aspx?EventId=xtANlEHVH06VZ7CyOl1UyQ-B-B\", \"https://e-disclosure.ru/portal/event.aspx?EventId=m60WfpsSG06dENSHAlewTg-B-B\", \"https://e-disclosure.ru/portal/event.aspx?EventId=EiDZ9wFxfEOnj3DQAnI64g-B-B\", \"https://e-disclosure.ru/portal/event.aspx?EventId=sTvnWdk8ykWExRADHjO-CFg-B-B\", \"https://e-disclosure.ru/portal/event.aspx?EventId=oMtF3HgZSEmE5LyrDMg7Zg-B-B\", \"https://e-disclosure.ru/portal/event.aspx?EventId=0dEvRhghdE2W7K-AdedUaPg-B-B\", \"https://e-disclosure.ru/portal/event.aspx?EventId=nj3hoRRV-CkmD8-AaiO-Cpt4g-B-B\", \"https://e-disclosure.ru/portal/event.aspx?EventId=Gl0o-CCtrPkqrNLALnhNDVQ-B-B\", \"https://e-disclosure.ru/portal/event.aspx?EventId=zdAjA8hPKUiyflKFonSHXA-B-B\", \"https://e-disclosure.ru/portal/event.aspx?EventId=-CfhTTceb4U-C1N-A2qamPJ-Cg-B-B\", \"https://e-disclosure.ru/portal/event.aspx?EventId=W4V6SiyuB0-CD28oQaeENXw-B-B\", \"https://e-disclosure.ru/portal/event.aspx?EventId=WUZLILh5FEudW5Y1XD5-Adw-B-B\", \"https://e-disclosure.ru/portal/event.aspx?EventId=I5lHtLQjnk-Ca8GwNYFe20A-B-B\", \"https://e-disclosure.ru/portal/event.aspx?EventId=RdGPHRJxlE-CEehelzNTRHQ-B-B\", \"https://e-disclosure.ru/portal/event.aspx?EventId=U-CIYZqXeLUu-CaN5DJb1BCQ-B-B\", \"https://e-disclosure.ru/portal/event.aspx?EventId=M0NSdUbofE6H2iYtg5iMYQ-B-B\", \"https://e-disclosure.ru/portal/event.aspx?EventId=MNadn9M32kWj1kfr8J6bpw-B-B\", \"https://e-disclosure.ru/portal/event.aspx?EventId=9WoRMU7Y0UuEU9i2VjIObA-B-B\", \"https://e-disclosure.ru/portal/event.aspx?EventId=kPpo8Bs51EOy3Eh8XuQYhA-B-B\", \"https://e-disclosure.ru/portal/event.aspx?EventId=jxP1XP2VkU-CV0hWIuJrYLQ-B-B\", \"https://e-disclosure.ru/portal/event.aspx?EventId=yZNZwg7-CaU2Q6RwLmTZ1MQ-B-B\", \"https://e-disclosure.ru/portal/event.aspx?EventId=FsgOUgLouUCPO-C6-Ay9GPhg-B-B\", \"https://e-disclosure.ru/portal/event.aspx?EventId=92dMwkMiiUqVSe5oxJ-A4MA-B-B\", \"https://e-disclosure.ru/portal/event.aspx?EventId=OMVu4C1Uwk64mtLiByoicQ-B-B\", \"https://e-disclosure.ru/portal/event.aspx?EventId=x5qvhfPv90eeqqRk-AMvpvw-B-B\", \"https://e-disclosure.ru/portal/event.aspx?EventId=6YbUQgTLwkm-AWaOwE0ecYQ-B-B\", \"https://e-disclosure.ru/portal/event.aspx?EventId=AZauxPMl5kuuOM-C0CPoyvQ-B-B\", \"https://e-disclosure.ru/portal/event.aspx?EventId=JT224DwfM0apBEkJsD2HGg-B-B\", \"https://e-disclosure.ru/portal/event.aspx?EventId=lV5AUbPUS062Zzj2MefOyA-B-B\", \"https://e-disclosure.ru/portal/event.aspx?EventId=qUdLYXXaTECivFr4Wottew-B-B\", \"https://e-disclosure.ru/portal/event.aspx?EventId=up9wDb7S2kKlRJeFNjmq5g-B-B\", \"https://e-disclosure.ru/portal/event.aspx?EventId=N-Cd3xz7EwUi38ZXPtqHuFA-B-B\", \"https://e-disclosure.ru/portal/event.aspx?EventId=nnyIcdboQkSBV2YmePe0RQ-B-B\", \"https://e-disclosure.ru/portal/event.aspx?EventId=B8-A46yw-AzkGa2BEyMUoQJg-B-B\", \"https://e-disclosure.ru/portal/event.aspx?EventId=yeE8lFAa8E-CtLX42X2QmKg-B-B\", \"https://e-disclosure.ru/portal/event.aspx?EventId=Y8P7d7pgT0Ss8qr-CujBasQ-B-B\", \"https://e-disclosure.ru/portal/event.aspx?EventId=ttUtxP9nCkGm-CrZIHpGpwg-B-B\", \"https://e-disclosure.ru/portal/event.aspx?EventId=18noxq5WT0qzKPuj-CecbMA-B-B\", \"https://e-disclosure.ru/portal/event.aspx?EventId=4O1-C0CHJ1k-CHdEpvGcMvvw-B-B\", \"https://e-disclosure.ru/portal/event.aspx?EventId=qgA7d2reR0KbLbUoCxCcFA-B-B\", \"https://e-disclosure.ru/portal/event.aspx?EventId=tbNH2b8b4EqHH-CswKPkTMA-B-B\", \"https://e-disclosure.ru/portal/event.aspx?EventId=T8okk0VFdEmpyIhJoe8KjA-B-B\", \"https://e-disclosure.ru/portal/event.aspx?EventId=wFf4gGeVUEmD-A7lLV6dVvg-B-B\", \"https://e-disclosure.ru/portal/event.aspx?EventId=oVZdXU3DsEa25Muw0-ALD-CA-B-B\", \"https://e-disclosure.ru/portal/event.aspx?EventId=gDwo02ASA0ivMYD8tFqrCg-B-B\", \"https://e-disclosure.ru/portal/event.aspx?EventId=CReStvnV1kCQI-AmSa1s6kQ-B-B\", \"https://e-disclosure.ru/portal/event.aspx?EventId=tAVuxY10XUqErR8-ALTUjbQ-B-B\", \"https://e-disclosure.ru/portal/event.aspx?EventId=xd8WIzH1Y0G1ailmRSwifw-B-B\", \"https://e-disclosure.ru/portal/event.aspx?EventId=J-CFMd-Aj6fE6B3xXvWVImOQ-B-B\", \"https://e-disclosure.ru/portal/event.aspx?EventId=8oN0eJxdHU6snSDFbgMMYg-B-B\", \"https://e-disclosure.ru/portal/event.aspx?EventId=I9nKWJDje02MCWnckq8t4g-B-B\", \"https://e-disclosure.ru/portal/event.aspx?EventId=1mnjfHeMsk2t-CV3QFND-A2Q-B-B\", \"https://e-disclosure.ru/portal/event.aspx?EventId=L-CXERKtNfUeXnqrEKtwu8w-B-B\", \"https://e-disclosure.ru/portal/event.aspx?EventId=vv7MhBGcjUWJWEv7JgWvhw-B-B\", \"https://e-disclosure.ru/portal/event.aspx?EventId=qUapFZ4bcUKGgNHYg1zhqQ-B-B\", \"https://e-disclosure.ru/portal/event.aspx?EventId=Bn4Ol1N8p02BXDYuHCwxEg-B-B\", \"https://e-disclosure.ru/portal/event.aspx?EventId=n6W6Q7VbV0uB42SgXwBvCw-B-B\", \"https://e-disclosure.ru/portal/event.aspx?EventId=lMm42-ABT9UmiWus4Z7uHwQ-B-B\", \"https://e-disclosure.ru/portal/event.aspx?EventId=NrUEESCyq0mOCYCY-Aenu1w-B-B\", \"https://e-disclosure.ru/portal/event.aspx?EventId=SR4FmSY4S0Oa-A9HGU-AbyxA-B-B\", \"https://e-disclosure.ru/portal/event.aspx?EventId=yXkruif9dkO42JZXdJ3TmQ-B-B\", \"https://e-disclosure.ru/portal/event.aspx?EventId=-ChtTT1PwgEmAbhz3eBt1nA-B-B\", \"https://e-disclosure.ru/portal/event.aspx?EventId=v6JjiQQeRE6Vo67nNcIXnw-B-B\", \"https://e-disclosure.ru/portal/event.aspx?EventId=v1MkaDc9V0CQvlYzCp9O1g-B-B\", \"https://e-disclosure.ru/portal/event.aspx?EventId=-CdgWimjfPUW64p8PWw3DrA-B-B\", \"https://e-disclosure.ru/portal/event.aspx?EventId=W2E9sXHYXkG0xDv60o10OA-B-B\", \"https://e-disclosure.ru/portal/event.aspx?EventId=kawYorRDsUOVifF9YPGSbg-B-B\", \"https://e-disclosure.ru/portal/event.aspx?EventId=9ktVwDs83keIAUyXyNgwuA-B-B\", \"https://e-disclosure.ru/portal/event.aspx?EventId=C1cydvQalUG8TgdTgSCZqw-B-B\", \"https://e-disclosure.ru/portal/event.aspx?EventId=BugINHMgTk-CUa8k117iijw-B-B\", \"https://e-disclosure.ru/portal/event.aspx?EventId=DbllLJMmUk2t7igDoNZ9jg-B-B\", \"https://e-disclosure.ru/portal/event.aspx?EventId=PBcS5Y2-AQkKB2ZjvznjNTw-B-B\", \"https://e-disclosure.ru/portal/event.aspx?EventId=Z9uQaUo1QkaT1yBQw2wGaQ-B-B\", \"https://e-disclosure.ru/portal/event.aspx?EventId=Qgitl8hqJE6cFVJh4RMvlw-B-B\", \"https://e-disclosure.ru/portal/event.aspx?EventId=tBoDJ24zYkqlpPQ3LVvtIw-B-B\", \"https://e-disclosure.ru/portal/event.aspx?EventId=BE3BTy-CrTUaZocfPXQlvLg-B-B\", \"https://e-disclosure.ru/portal/event.aspx?EventId=UvxuBIu-AVk2nRmNXcCeA7Q-B-B\", \"https://e-disclosure.ru/portal/event.aspx?EventId=7M7rL3qg6kq4nrDQCAYSpw-B-B\", \"https://e-disclosure.ru/portal/event.aspx?EventId=30mH2QWOY0eoDA6Iyaniow-B-B\", \"https://e-disclosure.ru/portal/event.aspx?EventId=uoYX9vNjikOMkjZD4BYA8Q-B-B\", \"https://e-disclosure.ru/portal/event.aspx?EventId=bsogJ31G-CUeoyNDXKlLnoA-B-B\", \"https://e-disclosure.ru/portal/event.aspx?EventId=0eF-Aa48Wn0eAMNAr91BQ4g-B-B\", \"https://e-disclosure.ru/portal/event.aspx?EventId=ts-A1hSh2e0iCho-Caqt5Xzg-B-B\", \"https://e-disclosure.ru/portal/event.aspx?EventId=Wsr3eOjw5UepoZXFlIYlTA-B-B\", \"https://e-disclosure.ru/portal/event.aspx?EventId=aryHPovOEEeBbhQRPqaBkw-B-B\", \"https://e-disclosure.ru/portal/event.aspx?EventId=1JKyjUKWrUqhkj1m5y3prg-B-B\", \"https://e-disclosure.ru/portal/event.aspx?EventId=IHfBEQW5xUmr3NGuPgA9WA-B-B\", \"https://e-disclosure.ru/portal/event.aspx?EventId=o7ADdlvYDUK1PlWGMJCesQ-B-B\", \"https://e-disclosure.ru/portal/event.aspx?EventId=K6GuTZ4ED0mSvUoAfK75sw-B-B\", \"https://e-disclosure.ru/portal/event.aspx?EventId=tw9IMn-C0kUeD5639t5aTZA-B-B\", \"https://e-disclosure.ru/portal/event.aspx?EventId=mLswVTP1X0mgBZrvUbzeGA-B-B\", \"https://e-disclosure.ru/portal/event.aspx?EventId=A-Achn7aGXEaK2zwk-CvKZSg-B-B\", \"https://e-disclosure.ru/portal/event.aspx?EventId=6BrRmg1V0UeWgFr3LRqscw-B-B\", \"https://e-disclosure.ru/portal/event.aspx?EventId=Qsy1eEXaRkGO83jdJ-Ci38Q-B-B\", \"https://e-disclosure.ru/portal/event.aspx?EventId=aZXxaHzMckekJ6XFH-AI-ARw-B-B\", \"https://e-disclosure.ru/portal/event.aspx?EventId=CdhflaNnLEGaVZs-Am0ScVw-B-B\", \"https://e-disclosure.ru/portal/event.aspx?EventId=KCxQ-AxsPv06WGGMZmx6-CUQ-B-B\", \"https://e-disclosure.ru/portal/event.aspx?EventId=mJXaEpAS3kGsDcLWN8Fddw-B-B\", \"https://e-disclosure.ru/portal/event.aspx?EventId=FR2Mnij-AR0yQhULurvyY9g-B-B\", \"https://e-disclosure.ru/portal/event.aspx?EventId=l31GnhtRqkaXa0WEB7Yc-Ag-B-B\", \"https://e-disclosure.ru/portal/event.aspx?EventId=C20gSnnHzEGtL1QtF00QiA-B-B\", \"https://e-disclosure.ru/portal/event.aspx?EventId=iElgb02hEE-CUuGX23ZmF8Q-B-B\", \"https://e-disclosure.ru/portal/event.aspx?EventId=6QiaKE51L0i3dMAtgG17Gw-B-B\", \"https://e-disclosure.ru/portal/event.aspx?EventId=PvZW5zp9GEqTCzHifQlLhA-B-B\", \"https://e-disclosure.ru/portal/event.aspx?EventId=Hqdsdw8R-CkS2Wd1SmGjBcw-B-B\", \"https://e-disclosure.ru/portal/event.aspx?EventId=pNAhoJU3-CUK3H9xdSDunaA-B-B\", \"https://e-disclosure.ru/portal/event.aspx?EventId=-CMFxjVJHIEawzCgYP9pEkQ-B-B\", \"https://e-disclosure.ru/portal/event.aspx?EventId=FPdAQhdTIEG7UxXXtSqBDA-B-B\", \"https://e-disclosure.ru/portal/event.aspx?EventId=-CIubAzRnn0uQLCbQMyM3NA-B-B\", \"https://e-disclosure.ru/portal/event.aspx?EventId=-AsWMNOShz069U5FXGCK-AAA-B-B\", \"https://e-disclosure.ru/portal/event.aspx?EventId=EpQg8A5eBEKv9AeF3ldtlA-B-B\", \"https://e-disclosure.ru/portal/event.aspx?EventId=bLKK-Ae9YSE-CTIZVOwzsXKA-B-B\", \"https://e-disclosure.ru/portal/event.aspx?EventId=HEuRpwIVp0KXfQ9e80s5Jw-B-B\", \"https://e-disclosure.ru/portal/event.aspx?EventId=WBPCzKh6wkKjLgZzXL-ChjA-B-B\", \"https://e-disclosure.ru/portal/event.aspx?EventId=jc9ajlqrP0CF88Xr4RHdLQ-B-B\", \"https://e-disclosure.ru/portal/event.aspx?EventId=oQah6DRdjUmxCktIZ7BsCA-B-B\", \"https://e-disclosure.ru/portal/event.aspx?EventId=wZPXfw7nU0O007C5VPrqCw-B-B\", \"https://e-disclosure.ru/portal/event.aspx?EventId=c3j-A12-AXSEKBYOL9eAQfuw-B-B\", \"https://e-disclosure.ru/portal/event.aspx?EventId=jyy3zStQNEqQBpKpvi898w-B-B\", \"https://e-disclosure.ru/portal/event.aspx?EventId=RQXJsBtLHE-Che2Hz-CDVKLg-B-B\", \"https://e-disclosure.ru/portal/event.aspx?EventId=0-CIPTXtrwk2GMPcwp7fJmg-B-B\", \"https://e-disclosure.ru/portal/event.aspx?EventId=1f5w0y7GrkaeMdW1F58aDg-B-B\", \"https://e-disclosure.ru/portal/event.aspx?EventId=KaMN6tkpjE25vdNd4G9bBw-B-B\", \"https://e-disclosure.ru/portal/event.aspx?EventId=05CAmZamfka1sBpgWMRmgQ-B-B\", \"https://e-disclosure.ru/portal/event.aspx?EventId=YRlkS6uXREutgvV-AuHNcyA-B-B\", \"https://e-disclosure.ru/portal/event.aspx?EventId=ZQZnyFZQYkqayERKFV-Ch-CA-B-B\", \"https://e-disclosure.ru/portal/event.aspx?EventId=TwhQgR8rH0OJpgJwAmbsQw-B-B\", \"https://e-disclosure.ru/portal/event.aspx?EventId=wQSVZ48u5keUf7PEFTYnew-B-B\", \"https://e-disclosure.ru/portal/event.aspx?EventId=tp-AMxzuLaE2ey4yvC1mYOg-B-B\", \"https://e-disclosure.ru/portal/event.aspx?EventId=tnn2a-Cy8QU28ozWf4pWPwQ-B-B\", \"https://e-disclosure.ru/portal/event.aspx?EventId=AbjjXmqGq0eEgjhrQaOjTw-B-B\", \"https://e-disclosure.ru/portal/event.aspx?EventId=OaGWPsIVQEK8xIqIJEqG5A-B-B\", \"https://e-disclosure.ru/portal/event.aspx?EventId=pZTWPcrLXUCDubHbxj4k1w-B-B\", \"https://e-disclosure.ru/portal/event.aspx?EventId=nthioyHjfUSSk8y7Ta-CEoQ-B-B\", \"https://e-disclosure.ru/portal/event.aspx?EventId=fOaZvVlBtk2jrTzSr-ATgeA-B-B\", \"https://e-disclosure.ru/portal/event.aspx?EventId=5y6dmgrBqEyRuamLGEn-AcQ-B-B\", \"https://e-disclosure.ru/portal/event.aspx?EventId=oKCJbpa7iUOgVa0kYD2-CJQ-B-B\", \"https://e-disclosure.ru/portal/event.aspx?EventId=cnpAZtX4VkC6ELKZLI0kMg-B-B\", \"https://e-disclosure.ru/portal/event.aspx?EventId=mc0M4pUMS0SEXhctKYVl4w-B-B\", \"https://e-disclosure.ru/portal/event.aspx?EventId=3JRhS-AF-AHUexq5C7v9iHwQ-B-B\", \"https://e-disclosure.ru/portal/event.aspx?EventId=7sRCERSzxkWNI1mIA7YA6g-B-B\", \"https://e-disclosure.ru/portal/event.aspx?EventId=YhwSUNt1NU6922cKa63deQ-B-B\", \"https://e-disclosure.ru/portal/event.aspx?EventId=0jDfW1VGP0WRfc-CKarqOfw-B-B\", \"https://e-disclosure.ru/portal/event.aspx?EventId=5vD6FjZf5kaA7jjomff5Ew-B-B\", \"https://e-disclosure.ru/portal/event.aspx?EventId=AcC8-AxU5a0OK-AMFViB9dAQ-B-B\", \"https://e-disclosure.ru/portal/event.aspx?EventId=bMCLCJaZFU2cRI-CYXhArgg-B-B\", \"https://e-disclosure.ru/portal/event.aspx?EventId=iPkGeMkwEUus8jD-AQ0ldfg-B-B\", \"https://e-disclosure.ru/portal/event.aspx?EventId=sauXNgpCV0mXlWVt3c72Qg-B-B\", \"https://e-disclosure.ru/portal/event.aspx?EventId=zjZT8XfDq02HgzqtSyzyUw-B-B\", \"https://e-disclosure.ru/portal/event.aspx?EventId=dGqL9b7F6kuIkD9rTGgpAg-B-B\", \"https://e-disclosure.ru/portal/event.aspx?EventId=Bv3uz-AksN0SUt4EzD86bJA-B-B\", \"https://e-disclosure.ru/portal/event.aspx?EventId=f6kFNzjWg0ehibuvG2Mbww-B-B\", \"https://e-disclosure.ru/portal/event.aspx?EventId=0uUpqcJCn0uScQkYn7jH9A-B-B\", \"https://e-disclosure.ru/portal/event.aspx?EventId=Ff0JGqXgjEaXAT5MIf-CgMQ-B-B\", \"https://e-disclosure.ru/portal/event.aspx?EventId=fycFOoXADUqKoq24-Caodfg-B-B\", \"https://e-disclosure.ru/portal/event.aspx?EventId=taJIAyR2tU23ekxXe9fMXA-B-B\", \"https://e-disclosure.ru/portal/event.aspx?EventId=80qWMWlEak6dzBydAY7rfA-B-B\", \"https://e-disclosure.ru/portal/event.aspx?EventId=Aqt3tyzYwUS9K1Tx43S-AxA-B-B\", \"https://e-disclosure.ru/portal/event.aspx?EventId=ChdVo7tIXkWbllY9IR2Z7g-B-B\", \"https://e-disclosure.ru/portal/event.aspx?EventId=fr8Mf6w7Y06c9j32JDEAew-B-B\", \"https://e-disclosure.ru/portal/event.aspx?EventId=1q-CupRNLAUm0no2kHHT2MQ-B-B\", \"https://e-disclosure.ru/portal/event.aspx?EventId=T4-AxvC-COvkmrvkuNx0c8Hg-B-B\", \"https://e-disclosure.ru/portal/event.aspx?EventId=VDeHrAnjGk-CnkXhPH6OOsQ-B-B\", \"https://e-disclosure.ru/portal/event.aspx?EventId=IQy73Un0-A0e6RXnksILskQ-B-B\", \"https://e-disclosure.ru/portal/event.aspx?EventId=yGi-CxhwnkEemFl-AbBTkXhw-B-B\", \"https://e-disclosure.ru/portal/event.aspx?EventId=XZIHo9FiNUKP08CP4NF2qA-B-B\", \"https://e-disclosure.ru/portal/event.aspx?EventId=q-A8bcC-CXtkGBwUEWlhE5Vg-B-B\", \"https://e-disclosure.ru/portal/event.aspx?EventId=AAV3TUY78kmB2VVKPQBe5A-B-B\", \"https://e-disclosure.ru/portal/event.aspx?EventId=d4GKBmFYO0ez-Csfv1X5AzA-B-B\", \"https://e-disclosure.ru/portal/event.aspx?EventId=N-Au9I7VH9UGoZrkVJKfQTg-B-B\", \"https://e-disclosure.ru/portal/event.aspx?EventId=zk54p6A2dkmlisSn6fyUDg-B-B\", \"https://e-disclosure.ru/portal/event.aspx?EventId=oDW6XfBpTE-CXltwTuQJKYw-B-B\", \"https://e-disclosure.ru/portal/event.aspx?EventId=URsAhdXbZ06JZiciUSN-APw-B-B\", \"https://e-disclosure.ru/portal/event.aspx?EventId=zZS73D79Ek-Cz9ZPsQp4rbQ-B-B\", \"https://e-disclosure.ru/portal/event.aspx?EventId=hyGxI-Ama3kGXvIMCkYiF1w-B-B\", \"https://e-disclosure.ru/portal/event.aspx?EventId=EkndNudmZ0GmK-CG30j6brQ-B-B\", \"https://e-disclosure.ru/portal/event.aspx?EventId=YRJVtRluf02tgYGRkAOJ4g-B-B\", \"https://e-disclosure.ru/portal/event.aspx?EventId=OSyhvzRI4UWzUbVU0TM8OQ-B-B\", \"https://e-disclosure.ru/portal/event.aspx?EventId=52hN9C1ZR0O-ADqSnRjWRag-B-B\", \"https://e-disclosure.ru/portal/event.aspx?EventId=21feJWqnr0meHumaTsNyaw-B-B\", \"https://e-disclosure.ru/portal/event.aspx?EventId=2mpRfjSGrEKFgNQfTk5qrg-B-B\", \"https://e-disclosure.ru/portal/event.aspx?EventId=L0IXrJB2W0mZ7-Arv6T49xA-B-B\", \"https://e-disclosure.ru/portal/event.aspx?EventId=hcyQ9J3bG0KbaAsR8G8YOg-B-B\", \"https://e-disclosure.ru/portal/event.aspx?EventId=2YfEZdVoMk-CmGIT1J6TShg-B-B\", \"https://e-disclosure.ru/portal/event.aspx?EventId=fzWPc2qpNkqjqLXp1KJ6pQ-B-B\", \"https://e-disclosure.ru/portal/event.aspx?EventId=aAVBJ7hAQUK99HrjJq0gsw-B-B\", \"https://e-disclosure.ru/portal/event.aspx?EventId=iM-AfYvCHl0K-CWW0qfB1dag-B-B\", \"https://e-disclosure.ru/portal/event.aspx?EventId=wsvVXREnqkyBMuiTOKJxkA-B-B\", \"https://e-disclosure.ru/portal/event.aspx?EventId=2Of72OsP-C0e80LwjU7Q0rg-B-B\", \"https://e-disclosure.ru/portal/event.aspx?EventId=iDYCJJjETEuYT5uqUsCvpA-B-B\", \"https://e-disclosure.ru/portal/event.aspx?EventId=T0GkQE2xXEm9-AnLrnoz93w-B-B\", \"https://e-disclosure.ru/portal/event.aspx?EventId=hzGGYAW-C-CUSJfa9aZiEFdg-B-B\", \"https://e-disclosure.ru/portal/event.aspx?EventId=wfwMfyGNTEem2wKJB8wXAQ-B-B\", \"https://e-disclosure.ru/portal/event.aspx?EventId=TrSy-AJDLJUeBQj2OebIrng-B-B\", \"https://e-disclosure.ru/portal/event.aspx?EventId=7q64y1BKSEW68bSKHMnS2A-B-B\", \"https://e-disclosure.ru/portal/event.aspx?EventId=1awrS6phD0KVHynw6AWrxw-B-B\", \"https://e-disclosure.ru/portal/event.aspx?EventId=4LuQC6dWOUyaRZLOUjB88A-B-B\", \"https://e-disclosure.ru/portal/event.aspx?EventId=RZZCfFNNb0CIy0-Awl53MwA-B-B\", \"https://e-disclosure.ru/portal/event.aspx?EventId=YuWVsJ5XNEuVIw49DeDRAQ-B-B\", \"https://e-disclosure.ru/portal/event.aspx?EventId=JGllRb5eH0qH050YQ-AoarQ-B-B\", \"https://e-disclosure.ru/portal/event.aspx?EventId=gFvfy5wS2E6dX1YmC8MIrA-B-B\", \"https://e-disclosure.ru/portal/event.aspx?EventId=9Qg-C-A1ozF0qEI0QPLVQdsg-B-B\", \"https://e-disclosure.ru/portal/event.aspx?EventId=3Zz3gWNBBUSIqjJg5aFAhw-B-B\", \"https://e-disclosure.ru/portal/event.aspx?EventId=5YCdsswnFUij5iT6gWbI-CA-B-B\", \"https://e-disclosure.ru/portal/event.aspx?EventId=Ue6LNBHOZE-CRQ-CFBTbdtFQ-B-B\", \"https://e-disclosure.ru/portal/event.aspx?EventId=Am5HKjvxZ0OSYqomwFySpA-B-B\", \"https://e-disclosure.ru/portal/event.aspx?EventId=GxjlVNSv10q1YjAlwYppvw-B-B\", \"https://e-disclosure.ru/portal/event.aspx?EventId=GxLnqlgkl0Wcx4JqM9Ui3g-B-B\", \"https://e-disclosure.ru/portal/event.aspx?EventId=XShJh0qe2keO7X3I6eRzrg-B-B\", \"https://e-disclosure.ru/portal/event.aspx?EventId=b-CA1kCmlKUOJDXsS7hEwgg-B-B\", \"https://e-disclosure.ru/portal/event.aspx?EventId=J1CBej82qUKUUFqKz5Vvtw-B-B\", \"https://e-disclosure.ru/portal/event.aspx?EventId=i1ZmxGVSkka8tqEkfk-AX8g-B-B\", \"https://e-disclosure.ru/portal/event.aspx?EventId=txsMY4nq0kaZn8shRX1n0w-B-B\", \"https://e-disclosure.ru/portal/event.aspx?EventId=jNCli2RvVkKhPPd9lERMNQ-B-B\", \"https://e-disclosure.ru/portal/event.aspx?EventId=u6rKDQd7tUevfsKgjmqSgw-B-B\", \"https://e-disclosure.ru/portal/event.aspx?EventId=YdtXEuwc4E6BiQ0K6JF-ABA-B-B\", \"https://e-disclosure.ru/portal/event.aspx?EventId=4IoxFrFNxEavPipH58XZ5g-B-B\", \"https://e-disclosure.ru/portal/event.aspx?EventId=i4e86-AxSFU6LxB-AFfR0vEw-B-B\", \"https://e-disclosure.ru/portal/event.aspx?EventId=PnvpQ2g1QUeIR5gcaWWhSQ-B-B\", \"https://e-disclosure.ru/portal/event.aspx?EventId=ZY1qwzJyn0OR3lliDUw6eQ-B-B\", \"https://e-disclosure.ru/portal/event.aspx?EventId=0Cu1So9KQkiuM-C4F9T-ArOA-B-B\", \"https://e-disclosure.ru/portal/event.aspx?EventId=TtJvFIZuiECjMqVAUbVMeg-B-B\", \"https://e-disclosure.ru/portal/event.aspx?EventId=2z5EspiKwEWNen-AftQaG5A-B-B\", \"https://e-disclosure.ru/portal/event.aspx?EventId=c1DAaWPK-CEGRXw-AlUx-CC0g-B-B\", \"https://e-disclosure.ru/portal/event.aspx?EventId=-AvRbkS8VjkKYZneynCUP7A-B-B\", \"https://e-disclosure.ru/portal/event.aspx?EventId=kC6gKmxQGEuCPEgq-A1loYQ-B-B\", \"https://e-disclosure.ru/portal/event.aspx?EventId=mr42uI96zkC4h8z4F0cbFQ-B-B\", \"https://e-disclosure.ru/portal/event.aspx?EventId=-ATveP9StEEe8KqNB0gucnA-B-B\", \"https://e-disclosure.ru/portal/event.aspx?EventId=FZKVw-CwKIkSphXmgxRyg-AA-B-B\", \"https://e-disclosure.ru/portal/event.aspx?EventId=xjeWlu3jckW3fyA3Q2iWZg-B-B\", \"https://e-disclosure.ru/portal/event.aspx?EventId=QRxOWcLzXkiPx0Y0bY3o0g-B-B\", \"https://e-disclosure.ru/portal/event.aspx?EventId=nOcfFNU32kGrw7r9QxHzoA-B-B\", \"https://e-disclosure.ru/portal/event.aspx?EventId=FgZpaxAZHky-Al530JdnFcA-B-B\", \"https://e-disclosure.ru/portal/event.aspx?EventId=Zv9-ApcsCLkCCgNaXxpDqNA-B-B\", \"https://e-disclosure.ru/portal/event.aspx?EventId=9jWO3aJtMUiRjjDJ-AG6L2A-B-B\", \"https://e-disclosure.ru/portal/event.aspx?EventId=kVKrFfdrGUezGgNTKJ7OAg-B-B\", \"https://e-disclosure.ru/portal/event.aspx?EventId=-AHBqTFJvwU-CzsuTSDR-A4ng-B-B\", \"https://e-disclosure.ru/portal/event.aspx?EventId=qRHlu-AjPV0eDO6VCzmk8AA-B-B\", \"https://e-disclosure.ru/portal/event.aspx?EventId=9X9ys3oumU2-AD1ZfPHT-Aog-B-B\", \"https://e-disclosure.ru/portal/event.aspx?EventId=Xn6ewD6x9kWqZj7m5FMNgw-B-B\", \"https://e-disclosure.ru/portal/event.aspx?EventId=EGmc00eNLUuNcQ-AxIfEI0A-B-B\", \"https://e-disclosure.ru/portal/event.aspx?EventId=p7i4rzvO2kuxpTl563bZLw-B-B\", \"https://e-disclosure.ru/portal/event.aspx?EventId=zmnKVpq9QEGv7fhD3khcJw-B-B\", \"https://e-disclosure.ru/portal/event.aspx?EventId=-ATnQnPd-AVUy-CPPy0Z7Ierw-B-B\", \"https://e-disclosure.ru/portal/event.aspx?EventId=1mgTf0FnOkySuq4wIiXFaw-B-B\", \"https://e-disclosure.ru/portal/event.aspx?EventId=zx-CGVD4ze0S0-CxTjcg498Q-B-B\", \"https://e-disclosure.ru/portal/event.aspx?EventId=jHrSeo-Cd-CEiPJPCwy-AlCkQ-B-B\", \"https://e-disclosure.ru/portal/event.aspx?EventId=BxXHdAHBW0y1NrWf8KLVrQ-B-B\", \"https://e-disclosure.ru/portal/event.aspx?EventId=qS2C1HuBU06Lke8whwSbDQ-B-B\", \"https://e-disclosure.ru/portal/event.aspx?EventId=dXop1Y4GSEeIjNkOX0ayGA-B-B\", \"https://e-disclosure.ru/portal/event.aspx?EventId=YPJPd2CTu0qtfEY-CXKR6Ew-B-B\", \"https://e-disclosure.ru/portal/event.aspx?EventId=jEHpolfc-CkycIRSWtlgskg-B-B\", \"https://e-disclosure.ru/portal/event.aspx?EventId=uHAI6TVtWkmd-AXm4aDse1w-B-B\", \"https://e-disclosure.ru/portal/event.aspx?EventId=uguqCQ5QAke2EN8zDgvm3A-B-B\", \"https://e-disclosure.ru/portal/event.aspx?EventId=-CvFEO5KuPUOmVQNG8ll-A7A-B-B\", \"https://e-disclosure.ru/portal/event.aspx?EventId=BLUXX-AD0ZkyPA3Vi8EsFhg-B-B\", \"https://e-disclosure.ru/portal/event.aspx?EventId=RPuMtr-AQvkC-CnDbSiyAAMA-B-B\", \"https://e-disclosure.ru/portal/event.aspx?EventId=pLpm9O1m30ygKxxyFhTKgw-B-B\", \"https://e-disclosure.ru/portal/event.aspx?EventId=KSd3yH5pf0SZDAxNKGmyFQ-B-B\", \"https://e-disclosure.ru/portal/event.aspx?EventId=pNpeU43NdEOnQxvt-C0Dz3g-B-B\", \"https://e-disclosure.ru/portal/event.aspx?EventId=etWBl4FO4UyxfyMLIJ6bjw-B-B\", \"https://e-disclosure.ru/portal/event.aspx?EventId=G5uyD9aNVkKioAUX8jkUYw-B-B\", \"https://e-disclosure.ru/portal/event.aspx?EventId=aa23Xola-AkiFpxsMV3WmUQ-B-B\", \"https://e-disclosure.ru/portal/event.aspx?EventId=JNTTEhWSmUurdioE6TW26Q-B-B\", \"https://e-disclosure.ru/portal/event.aspx?EventId=QUuFdOXZdEyCIZ7OSYGIUg-B-B\", \"https://e-disclosure.ru/portal/event.aspx?EventId=4VHZ5q5-AwkCasnvp7qpvTg-B-B\", \"https://e-disclosure.ru/portal/event.aspx?EventId=jXGUSAGjCkqRZybQvve6cA-B-B\", \"https://e-disclosure.ru/portal/event.aspx?EventId=GCRaeMIVJE2IyIdPAKN4bA-B-B\", \"https://e-disclosure.ru/portal/event.aspx?EventId=hFf9MxmmskCzzBecpgAi7g-B-B\", \"https://e-disclosure.ru/portal/event.aspx?EventId=qxCEEuyUE0uXPx5wQ4-CM4A-B-B\", \"https://e-disclosure.ru/portal/event.aspx?EventId=vkwkHMESZEas-As-AzoUYkDg-B-B\", \"https://e-disclosure.ru/portal/event.aspx?EventId=VzTzw4gUxUmVwGfDE9TrYQ-B-B\", \"https://e-disclosure.ru/portal/event.aspx?EventId=YT7HB5NKyk6FND2g6iVmdg-B-B\", \"https://e-disclosure.ru/portal/event.aspx?EventId=3h4EkePk002PAdF0DS-A38w-B-B\", \"https://e-disclosure.ru/portal/event.aspx?EventId=ErVY8rDwP0CSP-AHV8u1W8A-B-B\", \"https://e-disclosure.ru/portal/event.aspx?EventId=wkhi-CVHqvkKBc4b-AUTXjrg-B-B\", \"https://e-disclosure.ru/portal/event.aspx?EventId=hJ9kdJO6t0ykAMFagZAD5w-B-B\", \"https://e-disclosure.ru/portal/event.aspx?EventId=-CI2C-CtooqUWh38aHbPNbzQ-B-B\", \"https://e-disclosure.ru/portal/event.aspx?EventId=Rw6ghVmfI0qwgcnOj5O1CQ-B-B\", \"https://e-disclosure.ru/portal/event.aspx?EventId=PPJp8-Axe50eSAmWJiccAng-B-B\", \"https://e-disclosure.ru/portal/event.aspx?EventId=1fKv2WC5XEuSuLTgmApYag-B-B\", \"https://e-disclosure.ru/portal/event.aspx?EventId=H0-AtDIbFD0y4IanNu93HTg-B-B\", \"https://e-disclosure.ru/portal/event.aspx?EventId=loR2-A6E9DUG14hXQE6CSVw-B-B\", \"https://e-disclosure.ru/portal/event.aspx?EventId=M-AaYAG0kSkeNA0axAT-Ap0Q-B-B\", \"https://e-disclosure.ru/portal/event.aspx?EventId=SzCy4l0mfEmb6PQfj7lQjA-B-B\", \"https://e-disclosure.ru/portal/event.aspx?EventId=DTiDDMG-CLkyFDDkQrYIqaw-B-B\", \"https://e-disclosure.ru/portal/event.aspx?EventId=kPXS11u3aEWagaGo4RkBRA-B-B\", \"https://e-disclosure.ru/portal/event.aspx?EventId=WkO7K-CFnbkm4-C7akDkdNqA-B-B\", \"https://e-disclosure.ru/portal/event.aspx?EventId=EL6eQJWOz0C-ARE52p-CtMCw-B-B\", \"https://e-disclosure.ru/portal/event.aspx?EventId=qPNhDVWxL0iaakyONyec2w-B-B\", \"https://e-disclosure.ru/portal/event.aspx?EventId=aZsLAkQgTEO2fs2i6EtXvQ-B-B\", \"https://e-disclosure.ru/portal/event.aspx?EventId=FlENDF2RkUC8uMBQETK9hA-B-B\", \"https://e-disclosure.ru/portal/event.aspx?EventId=wRR79Gbdx0WhwKAXONpnaA-B-B\", \"https://e-disclosure.ru/portal/event.aspx?EventId=GCFDupbz50-C42miveByxsg-B-B\", \"https://e-disclosure.ru/portal/event.aspx?EventId=5hUN6zR5TEaqTYBdOA-AHeg-B-B\", \"https://e-disclosure.ru/portal/event.aspx?EventId=CsGNAwHWvkuoh9U4bnVGMA-B-B\", \"https://e-disclosure.ru/portal/event.aspx?EventId=-CRJjMtnYi0S3gSZtRGy3Jw-B-B\", \"https://e-disclosure.ru/portal/event.aspx?EventId=FpftryJQD0CyZhjzwhUTpg-B-B\", \"https://e-disclosure.ru/portal/event.aspx?EventId=Ws6mWF6TK0qmin0J-CfeLMA-B-B\", \"https://e-disclosure.ru/portal/event.aspx?EventId=tkngkLVklkyNG0UEIWnxpw-B-B\", \"https://e-disclosure.ru/portal/event.aspx?EventId=nmaIYHWMtkqCn-COXu1Xv3g-B-B\", \"https://e-disclosure.ru/portal/event.aspx?EventId=NUQZA0bz4k-CkRKRIDJypPQ-B-B\", \"https://e-disclosure.ru/portal/event.aspx?EventId=DXS3RAteSkegAGB3CCu7-AA-B-B\", \"https://e-disclosure.ru/portal/event.aspx?EventId=xh7oVqmG-AUeE5505UlqjZA-B-B\", \"https://e-disclosure.ru/portal/event.aspx?EventId=xeDpYl421E2MGGpxrZELdA-B-B\", \"https://e-disclosure.ru/portal/event.aspx?EventId=uREeR6HBAEOET-CZ4cif31w-B-B\", \"https://e-disclosure.ru/portal/event.aspx?EventId=a4kf4datwkqHCAfGWsBJTw-B-B\", \"https://e-disclosure.ru/portal/event.aspx?EventId=YirEVsRkm0GVcmZ5MKZIug-B-B\", \"https://e-disclosure.ru/portal/event.aspx?EventId=2gGB3N86WUupLAg4oZPrcw-B-B\", \"https://e-disclosure.ru/portal/event.aspx?EventId=ync6mzpjBkuO-CNNi3np92w-B-B\", \"https://e-disclosure.ru/portal/event.aspx?EventId=eOBk16XApU2ZpdEzKAYGQw-B-B\", \"https://e-disclosure.ru/portal/event.aspx?EventId=b9qN9zzGmUW4ilnOYGMxTQ-B-B\", \"https://e-disclosure.ru/portal/event.aspx?EventId=zwUegM0KMk6WB2iPkcoZjQ-B-B\", \"https://e-disclosure.ru/portal/event.aspx?EventId=FSMMHf-A5VkyLJOQ6B6zIkg-B-B\", \"https://e-disclosure.ru/portal/event.aspx?EventId=tfWUNNOHvUqmvTcJHC4IRA-B-B\", \"https://e-disclosure.ru/portal/event.aspx?EventId=z-APnyZ4x9k2pnCZP4h8efQ-B-B\", \"https://e-disclosure.ru/portal/event.aspx?EventId=QTtPAkvYHkGBgnMHBdsXfg-B-B\", \"https://e-disclosure.ru/portal/event.aspx?EventId=qZHKOC8oDEGTUsXObUhPpg-B-B\", \"https://e-disclosure.ru/portal/event.aspx?EventId=NQ6fyb4BwEeZp00eG6YV6A-B-B\", \"https://e-disclosure.ru/portal/event.aspx?EventId=LDCS6AZ4HUKur3f52ba0Kg-B-B\", \"https://e-disclosure.ru/portal/event.aspx?EventId=WSuH35GERkOUZMwmrg0gzg-B-B\", \"https://e-disclosure.ru/portal/event.aspx?EventId=QM-Aj6pjEqE-ChT8Vf4ndwRw-B-B\", \"https://e-disclosure.ru/portal/event.aspx?EventId=RDRayBJwL06e9jiR074Rjw-B-B\", \"https://e-disclosure.ru/portal/event.aspx?EventId=tGUjdBNz4Uuh4T-AsYYaRMg-B-B\", \"https://e-disclosure.ru/portal/event.aspx?EventId=W2NP-ALMmsUOidN3LtnHjcg-B-B\", \"https://e-disclosure.ru/portal/event.aspx?EventId=vP2DzBFPi0iPbnJWu5fWJw-B-B\", \"https://e-disclosure.ru/portal/event.aspx?EventId=JXCvI3hj9U6XlrEIjThPTg-B-B\", \"https://e-disclosure.ru/portal/event.aspx?EventId=pQyLzhOz4EyQ2DySmUq-ChQ-B-B\", \"https://e-disclosure.ru/portal/event.aspx?EventId=3iX3JQZnlkeLQ037YYtvwQ-B-B\", \"https://e-disclosure.ru/portal/event.aspx?EventId=c0UVBUb7vk2AuyNp2frHSA-B-B\", \"https://e-disclosure.ru/portal/event.aspx?EventId=hGN5uO3F1EWtmRCJzldM2A-B-B\", \"https://e-disclosure.ru/portal/event.aspx?EventId=8boDj2R060yWLI2gmfsitQ-B-B\", \"https://e-disclosure.ru/portal/event.aspx?EventId=wRVRvklxYEqMB-CCqvVjf9A-B-B\", \"https://e-disclosure.ru/portal/event.aspx?EventId=wx-CL7D-Am1UuXxZTNvF1NtA-B-B\", \"https://e-disclosure.ru/portal/event.aspx?EventId=WETHHOcOv0WwDRkicT24gg-B-B\", \"https://e-disclosure.ru/portal/event.aspx?EventId=qALlU843O0-CVaEW9bm0IIQ-B-B\", \"https://e-disclosure.ru/portal/event.aspx?EventId=Y8MZYrEGxUG8OM1UmnkzoA-B-B\", \"https://e-disclosure.ru/portal/event.aspx?EventId=rF2XwAF8aUOMGLHnQnxt1w-B-B\", \"https://e-disclosure.ru/portal/event.aspx?EventId=ahlCeFA5gEGRmpDV2SNk2Q-B-B\", \"https://e-disclosure.ru/portal/event.aspx?EventId=JEuibXna4ESDD9yoWd-CKtQ-B-B\", \"https://e-disclosure.ru/portal/event.aspx?EventId=Eae6ll-CE7E2WbbRHRehikw-B-B\", \"https://e-disclosure.ru/portal/event.aspx?EventId=mRPNOc9pqEu-CIGGhUlum1Q-B-B\", \"https://e-disclosure.ru/portal/event.aspx?EventId=WTYuTy5Xg0az7-AKUWqLoxQ-B-B\", \"https://e-disclosure.ru/portal/event.aspx?EventId=-CbiWsev1kkSVvXWlRMJRYA-B-B\", \"https://e-disclosure.ru/portal/event.aspx?EventId=bTkVeSZYTUOVzs-C4j4PZIQ-B-B\", \"https://e-disclosure.ru/portal/event.aspx?EventId=XX-C4EsY7Q0WQH3rNSBVAPA-B-B\", \"https://e-disclosure.ru/portal/event.aspx?EventId=LTEoUQ1tx0i8Y-CsMm0RO5w-B-B\", \"https://e-disclosure.ru/portal/event.aspx?EventId=sSIBI1hDNEmJ8uEWBP37Sw-B-B\", \"https://e-disclosure.ru/portal/event.aspx?EventId=vSUvpn58WEGnoLePDKH6WA-B-B\", \"https://e-disclosure.ru/portal/event.aspx?EventId=AR8q1-Au48U64Nage1NKcaA-B-B\", \"https://e-disclosure.ru/portal/event.aspx?EventId=6g71e5fnd0uJnLr7O13G-Cg-B-B\", \"https://e-disclosure.ru/portal/event.aspx?EventId=SYl3kZzu2EWAf42SJUgo3g-B-B\", \"https://e-disclosure.ru/portal/event.aspx?EventId=uY0r1pCQdk-CYZlj6cKeQbA-B-B\", \"https://e-disclosure.ru/portal/event.aspx?EventId=8AgvAu8W1UmtbGspIMP-Cxg-B-B\", \"https://e-disclosure.ru/portal/event.aspx?EventId=p8bllyrmVkarQ3Ivu1HanA-B-B\", \"https://e-disclosure.ru/portal/event.aspx?EventId=i-ArhvKVSH0iF3ppITahccA-B-B\", \"https://e-disclosure.ru/portal/event.aspx?EventId=62uOrZAlfkCaSc4hcCguYA-B-B\", \"https://e-disclosure.ru/portal/event.aspx?EventId=vxpadKQ58keFDdqr3-C1t1w-B-B\", \"https://e-disclosure.ru/portal/event.aspx?EventId=RNiTsCObl0qfp7W28SN7cg-B-B\", \"https://e-disclosure.ru/portal/event.aspx?EventId=uTZneLrLo026Hu9-APTcn9g-B-B\", \"https://e-disclosure.ru/portal/event.aspx?EventId=f-CPohi-A9Z0eynALI8CG-Agw-B-B\", \"https://e-disclosure.ru/portal/event.aspx?EventId=2-A6RawhsH0Gtdpi73PghoA-B-B\", \"https://e-disclosure.ru/portal/event.aspx?EventId=J7XRdBfvBECIC88WkCT1OQ-B-B\", \"https://e-disclosure.ru/portal/event.aspx?EventId=yx6VNieKUUy4phWjgeiQ9Q-B-B\", \"https://e-disclosure.ru/portal/event.aspx?EventId=RrbK5hQ050KKn-Cqbv0sb2Q-B-B\", \"https://e-disclosure.ru/portal/event.aspx?EventId=sR7kR6E5VkKeGhQB1EMTng-B-B\", \"https://e-disclosure.ru/portal/event.aspx?EventId=zQUCgYq7XE6iJzg1ONW0vQ-B-B\", \"https://e-disclosure.ru/portal/event.aspx?EventId=aTNvfrGA4U6scP8w7dOEIw-B-B\", \"https://e-disclosure.ru/portal/event.aspx?EventId=3FAX3dkn3kmvVTuDW3UCjA-B-B\", \"https://e-disclosure.ru/portal/event.aspx?EventId=5PNPsiVV7UaxJqtE-Cg9FCQ-B-B\", \"https://e-disclosure.ru/portal/event.aspx?EventId=khuoVFoJiE6tiFUlIsQXRA-B-B\", \"https://e-disclosure.ru/portal/event.aspx?EventId=OwkUIXbTakKBJwFReh2ejg-B-B\", \"https://e-disclosure.ru/portal/event.aspx?EventId=mxdmTzDDf0Ghpbf3Fdd26Q-B-B\", \"https://e-disclosure.ru/portal/event.aspx?EventId=I-AAkWkz-Ac0Cw-Ci1qi8n1Pw-B-B\", \"https://e-disclosure.ru/portal/event.aspx?EventId=YmfMJB-AlNkie2UqbXAahTw-B-B\", \"https://e-disclosure.ru/portal/event.aspx?EventId=7nxJnNwl1UGgwpV0xeyC-Aw-B-B\", \"https://e-disclosure.ru/portal/event.aspx?EventId=bkY-AKXIQtkq6atqMOsmthw-B-B\", \"https://e-disclosure.ru/portal/event.aspx?EventId=f4ohC-C51CU-CyTt5ZDEvYsw-B-B\", \"https://e-disclosure.ru/portal/event.aspx?EventId=2CLSVPHuFEesavT02-AESkg-B-B\", \"https://e-disclosure.ru/portal/event.aspx?EventId=99lUQJeGQ0i-AkqRVvRoDBQ-B-B\", \"https://e-disclosure.ru/portal/event.aspx?EventId=gRFNghINK0ummeayaS-Alog-B-B\", \"https://e-disclosure.ru/portal/event.aspx?EventId=DMXSkvZxnkaMeODs-CFacpw-B-B\", \"https://e-disclosure.ru/portal/event.aspx?EventId=B5FDvyS7aEOf67dcSZZSiA-B-B\", \"https://e-disclosure.ru/portal/event.aspx?EventId=JYwrWQH0Q0Os0mlZ-Cc8v0g-B-B\", \"https://e-disclosure.ru/portal/event.aspx?EventId=8Szogxs-C00SUHEK2t01igw-B-B\", \"https://e-disclosure.ru/portal/event.aspx?EventId=tZTYCHoG0EOVJY-A-ClAKe9Q-B-B\", \"https://e-disclosure.ru/portal/event.aspx?EventId=nAv01TtEjUyQUkI4HWMHgg-B-B\", \"https://e-disclosure.ru/portal/event.aspx?EventId=7iz4IJE2-CECXWSUbTJgkgg-B-B\", \"https://e-disclosure.ru/portal/event.aspx?EventId=mNH9CSiHFkmu4w5QNsB6jA-B-B\", \"https://e-disclosure.ru/portal/event.aspx?EventId=eg3ox0I-CT02NUYJTL-CwjFQ-B-B\", \"https://e-disclosure.ru/portal/event.aspx?EventId=8EiP1-CXTQkqQPId6hRBANA-B-B\", \"https://e-disclosure.ru/portal/event.aspx?EventId=qppXEtLXjke0Nb80dE7xrg-B-B\", \"https://e-disclosure.ru/portal/event.aspx?EventId=gUcNVbaiQkOY471vpy63bw-B-B\", \"https://e-disclosure.ru/portal/event.aspx?EventId=wq6NoOHQPEeA7aoDS20XOQ-B-B\", \"https://e-disclosure.ru/portal/event.aspx?EventId=D4mFXilOlUCvGmhqJTagDw-B-B\", \"https://e-disclosure.ru/portal/event.aspx?EventId=HYpWAqyxD0OUC4XZjcxMoA-B-B\", \"https://e-disclosure.ru/portal/event.aspx?EventId=H722-Cl7xd0SvKpwFPUZLIA-B-B\", \"https://e-disclosure.ru/portal/event.aspx?EventId=vj3R3-CdalUq0PFDmGL9mNQ-B-B\", \"https://e-disclosure.ru/portal/event.aspx?EventId=-CJpcdhpIw0SM5tJ7AICnRQ-B-B\", \"https://e-disclosure.ru/portal/event.aspx?EventId=IlH-CRUQVB0GPXQfHU6iltA-B-B\", \"https://e-disclosure.ru/portal/event.aspx?EventId=xdrx4IVoM0mImuoG3d2EQQ-B-B\", \"https://e-disclosure.ru/portal/event.aspx?EventId=s2zPX6C-Ac0u0O2oD9v7MYQ-B-B\", \"https://e-disclosure.ru/portal/event.aspx?EventId=KD9cy9O5r0KjcMVWxiguuQ-B-B\", \"https://e-disclosure.ru/portal/event.aspx?EventId=0u1VQ5V38UiNAkMFdmjpYg-B-B\", \"https://e-disclosure.ru/portal/event.aspx?EventId=vWVvF3HyoEGvR9776MP1kA-B-B\", \"https://e-disclosure.ru/portal/event.aspx?EventId=g2jFaXCI-CEWRouFrjYI0Ug-B-B\", \"https://e-disclosure.ru/portal/event.aspx?EventId=1pDB8lrGu0yq9zU6QCcS6Q-B-B\", \"https://e-disclosure.ru/portal/event.aspx?EventId=B-C92tHlHG0GPJ-AmvSyz8Gw-B-B\", \"https://e-disclosure.ru/portal/event.aspx?EventId=mh6TTKFSIUSuoO0jWUZI7g-B-B\", \"https://e-disclosure.ru/portal/event.aspx?EventId=i5XGRIFnvEywYt7Ym5-CXYg-B-B\", \"https://e-disclosure.ru/portal/event.aspx?EventId=M2Xa8KGnAEq7RT4DPPgvzA-B-B\", \"https://e-disclosure.ru/portal/event.aspx?EventId=bEG5K3rm40eivRAG2eTRsw-B-B\", \"https://e-disclosure.ru/portal/event.aspx?EventId=3jCd1qw9yU-C6o-AYQprlbxw-B-B\", \"https://e-disclosure.ru/portal/event.aspx?EventId=qHOI0CmrtUyg3J3KAgmdOw-B-B\", \"https://e-disclosure.ru/portal/event.aspx?EventId=BuvAJuGmy0GOG-A351dhxDg-B-B\", \"https://e-disclosure.ru/portal/event.aspx?EventId=9A5jymVbj0SNqRKnYcs6oA-B-B\", \"https://e-disclosure.ru/portal/event.aspx?EventId=mmuC8RYjd023drRK06rWTQ-B-B\", \"https://e-disclosure.ru/portal/event.aspx?EventId=C3xZN50SmUqdAicFyhUXBg-B-B\", \"https://e-disclosure.ru/portal/event.aspx?EventId=miVLhsiY-CkOx2rSx-A0ukgA-B-B\", \"https://e-disclosure.ru/portal/event.aspx?EventId=oipEo5ETD0muSMIMMHZhtA-B-B\", \"https://e-disclosure.ru/portal/event.aspx?EventId=ydX03oJPhEWgR4Z8NfuUrg-B-B\", \"https://e-disclosure.ru/portal/event.aspx?EventId=ehYQY8EpKE2P3aNzc6WkbA-B-B\", \"https://e-disclosure.ru/portal/event.aspx?EventId=o8NnXcKnIkahgX5SqM-Cakw-B-B\", \"https://e-disclosure.ru/portal/event.aspx?EventId=zJ4tttkumk-C7f57LGzQNQA-B-B\", \"https://e-disclosure.ru/portal/event.aspx?EventId=UCad6N4i0UKgj0jfcNx8HA-B-B\", \"https://e-disclosure.ru/portal/event.aspx?EventId=6kvjPtAtGUarlUv2ZDz72Q-B-B\", \"https://e-disclosure.ru/portal/event.aspx?EventId=xABn1Knmd0239lLxhL68yw-B-B\", \"https://e-disclosure.ru/portal/event.aspx?EventId=WkQTYqBxi0isMmiH9bvMkA-B-B\", \"https://e-disclosure.ru/portal/event.aspx?EventId=0j7zgEmvVUC1inKIjoyhsA-B-B\", \"https://e-disclosure.ru/portal/event.aspx?EventId=gMk7oxZygUSamUQZUfztqQ-B-B\", \"https://e-disclosure.ru/portal/event.aspx?EventId=lEgi7z48Z0ONZ4hdT3312g-B-B\", \"https://e-disclosure.ru/portal/event.aspx?EventId=clZF0VFPZkKeWxz4IDBTMg-B-B\", \"https://e-disclosure.ru/portal/event.aspx?EventId=BYevRCMha0GqWoUSJzb59A-B-B\", \"https://e-disclosure.ru/portal/event.aspx?EventId=ovutW7cfiU2ngJTwHSuAhw-B-B\", \"https://e-disclosure.ru/portal/event.aspx?EventId=8ydXdJaA0EalJ9GbkhTn8Q-B-B\", \"https://e-disclosure.ru/portal/event.aspx?EventId=m5uQkwtFr0ac2a1rQBsmJw-B-B\", \"https://e-disclosure.ru/portal/event.aspx?EventId=MZJmB-A-C9v0igmEH7O3UwFA-B-B\", \"https://e-disclosure.ru/portal/event.aspx?EventId=-ChokgBfTzkCQCpW2CHnF5w-B-B\", \"https://e-disclosure.ru/portal/event.aspx?EventId=u3z8JCvTe0-CesnVYwSNTkQ-B-B\", \"https://e-disclosure.ru/portal/event.aspx?EventId=K9qJf-CI7Dk6mWxv-CCgqS-Cw-B-B\", \"https://e-disclosure.ru/portal/event.aspx?EventId=zaU7CJOzF0ek-CVKtBIvd3Q-B-B\", \"https://e-disclosure.ru/portal/event.aspx?EventId=r7vs7SOrxU-Cy4LTCjx9-A-AA-B-B\", \"https://e-disclosure.ru/portal/event.aspx?EventId=K-CD26xjjAEW-C-AQzMjF3rVA-B-B\", \"https://e-disclosure.ru/portal/event.aspx?EventId=X4Pzzeb5Nk23z6CKewGFIA-B-B\", \"https://e-disclosure.ru/portal/event.aspx?EventId=ijWZKFDMUEGwQiox4QPdlQ-B-B\", \"https://e-disclosure.ru/portal/event.aspx?EventId=ghRZfliIKUqsOCmoTjg1qA-B-B\", \"https://e-disclosure.ru/portal/event.aspx?EventId=onUemoymcEaPpUK5NdS85g-B-B\", \"https://e-disclosure.ru/portal/event.aspx?EventId=qhNu3zi5EkWqM-CLdjnNbBA-B-B\", \"https://e-disclosure.ru/portal/event.aspx?EventId=k-AFP5Uf-AgUijpZPFW3gLfA-B-B\", \"https://e-disclosure.ru/portal/event.aspx?EventId=wATtzjEx-C0GJysnDdRUAhw-B-B\", \"https://e-disclosure.ru/portal/event.aspx?EventId=-A2o1WZbPnUaSa2JSuUHsng-B-B\", \"https://e-disclosure.ru/portal/event.aspx?EventId=lcVpdH-Ax1U-C9ob0Q6hL3gQ-B-B\", \"https://e-disclosure.ru/portal/event.aspx?EventId=tlGjBe4240yv6WAIRquHuQ-B-B\", \"https://e-disclosure.ru/portal/event.aspx?EventId=4cp9H0BasU2kRgJZ9cMhTA-B-B\", \"https://e-disclosure.ru/portal/event.aspx?EventId=lWxZ76ZZdUi-AWkGYWwWjwA-B-B\", \"https://e-disclosure.ru/portal/event.aspx?EventId=YN4R8YE-CCEqCKr0-CLNtDgA-B-B\", \"https://e-disclosure.ru/portal/event.aspx?EventId=L-CO6r7n-Cj0amZLx6RhSW-Aw-B-B\", \"https://e-disclosure.ru/portal/event.aspx?EventId=d9asjf8k8kG9bttV-Cr8-CLg-B-B\", \"https://e-disclosure.ru/portal/event.aspx?EventId=TUS7b8rIt0-CjnAnXh7DovQ-B-B\", \"https://e-disclosure.ru/portal/event.aspx?EventId=zEBwr2IhI0yeYxZNC-AoE9Q-B-B\", \"https://e-disclosure.ru/portal/event.aspx?EventId=bVdFv5S2XUK0IRpcqIjrXg-B-B\", \"https://e-disclosure.ru/portal/event.aspx?EventId=Um8pP3JhzUGisKhyDPimNw-B-B\", \"https://e-disclosure.ru/portal/event.aspx?EventId=qDEd-CN21Gk-CVXaghq9WApw-B-B\", \"https://e-disclosure.ru/portal/event.aspx?EventId=phRG7QcX-CE6P0Ob9TzBV4g-B-B\", \"https://e-disclosure.ru/portal/event.aspx?EventId=5sY4sXQNvEWZB0k2elBD1w-B-B\", \"https://e-disclosure.ru/portal/event.aspx?EventId=M3zg9UlzLUyrZm7vjmddYA-B-B\", \"https://e-disclosure.ru/portal/event.aspx?EventId=qviBQwpKQE22TCIzQucNUg-B-B\", \"https://e-disclosure.ru/portal/event.aspx?EventId=YL8-C18IprUqkcMnhJsWZfA-B-B\", \"https://e-disclosure.ru/portal/event.aspx?EventId=VV7pBr9XP0KymMHJTwmW1w-B-B\", \"https://e-disclosure.ru/portal/event.aspx?EventId=qMrH23eSZU2LZU18bpIPQg-B-B\", \"https://e-disclosure.ru/portal/event.aspx?EventId=fdGwOfS2CEu0PRZ0m8n64g-B-B\", \"https://e-disclosure.ru/portal/event.aspx?EventId=EA6Gr-ApbmkqaBYIQXGWjxQ-B-B\", \"https://e-disclosure.ru/portal/event.aspx?EventId=OIjc2OmnA0iUEbE1wWdRcg-B-B\", \"https://e-disclosure.ru/portal/event.aspx?EventId=Zw2xGrRcFUCr6QiSBwJsLQ-B-B\", \"https://e-disclosure.ru/portal/event.aspx?EventId=tIncI8U4CEuieyah2jtoVw-B-B\", \"https://e-disclosure.ru/portal/event.aspx?EventId=WzLGf7mdQUSvrHgxZzfIIg-B-B\", \"https://e-disclosure.ru/portal/event.aspx?EventId=mwor3VVj8EWskOD7zwZcmg-B-B\", \"https://e-disclosure.ru/portal/event.aspx?EventId=1Hk8U6rB60avXIDeHpqInw-B-B\", \"https://e-disclosure.ru/portal/event.aspx?EventId=zwsO4PUoZU6-CJtwC4-AcPpA-B-B\", \"https://e-disclosure.ru/portal/event.aspx?EventId=mcTChlG7Y0Gg2E7a7zH6rQ-B-B\", \"https://e-disclosure.ru/portal/event.aspx?EventId=vEGr7MWkrUq3b7W6PQmMFw-B-B\", \"https://e-disclosure.ru/portal/event.aspx?EventId=rbgYyNfr00OWUymdPbm9Tw-B-B\", \"https://e-disclosure.ru/portal/event.aspx?EventId=Z-Cj-CEDTtmEWH1IoRm-CJU-Ag-B-B\", \"https://e-disclosure.ru/portal/event.aspx?EventId=4nUeh9ZATkCNDPr5L7Dk0w-B-B\", \"https://e-disclosure.ru/portal/event.aspx?EventId=s2HD7skbw06YDn0pgKHSEw-B-B\", \"https://e-disclosure.ru/portal/event.aspx?EventId=tda1yFfxTUaP532w7IsUQw-B-B\", \"https://e-disclosure.ru/portal/event.aspx?EventId=qPUm7QmMNE6Z4BxmINNtZg-B-B\", \"https://e-disclosure.ru/portal/event.aspx?EventId=9Tt0zvw0NE6-CXK0NDBaU7A-B-B\", \"https://e-disclosure.ru/portal/event.aspx?EventId=Frd7XWV39EifRB9-C8mLPwA-B-B\", \"https://e-disclosure.ru/portal/event.aspx?EventId=ou9z5usvsUmaoeafKBOMOA-B-B\", \"https://e-disclosure.ru/portal/event.aspx?EventId=dUY0UrISl0Kj-AoRW69NFkA-B-B\", \"https://e-disclosure.ru/portal/event.aspx?EventId=ZoZWCEN5-AEGHojjgV81IoA-B-B\", \"https://e-disclosure.ru/portal/event.aspx?EventId=phIPgoGIgkKN6H1aGyXo3w-B-B\", \"https://e-disclosure.ru/portal/event.aspx?EventId=zsQRs798-CEiJtGWjjZLQpg-B-B\", \"https://e-disclosure.ru/portal/event.aspx?EventId=EUo1gOd9a0ebsl5UHsr4zw-B-B\", \"https://e-disclosure.ru/portal/event.aspx?EventId=F31XCa6d-A0up3Q0xjVF0RA-B-B\", \"https://e-disclosure.ru/portal/event.aspx?EventId=GABSUm5SfECAoysFIe1GwA-B-B\", \"https://e-disclosure.ru/portal/event.aspx?EventId=i5CxU0UeqUqrUZrNSnQ77g-B-B\", \"https://e-disclosure.ru/portal/event.aspx?EventId=TwPDtSVAdkabVLC-CjJXz-Cw-B-B\", \"https://e-disclosure.ru/portal/event.aspx?EventId=PB-ANGQQ5-A0OFBTYRXfPh-AA-B-B\", \"https://e-disclosure.ru/portal/event.aspx?EventId=aa9d6-Cf170WW2jDeb12PEA-B-B\", \"https://e-disclosure.ru/portal/event.aspx?EventId=PaqL8cOdfEOzokVtaqybKQ-B-B\", \"https://e-disclosure.ru/portal/event.aspx?EventId=sv0G0eRtSE20aLgVinJsqQ-B-B\", \"https://e-disclosure.ru/portal/event.aspx?EventId=lMXLAqQRYkeK9-Cm9awJN-Cw-B-B\", \"https://e-disclosure.ru/portal/event.aspx?EventId=IOnxT3V2NUyxblvgFb58CQ-B-B\", \"https://e-disclosure.ru/portal/event.aspx?EventId=DoBifTpGnEq-AnRQdR6tLEg-B-B\", \"https://e-disclosure.ru/portal/event.aspx?EventId=jUQgHep4wkWlGjl8oz2wCw-B-B\", \"https://e-disclosure.ru/portal/event.aspx?EventId=j7J0nrONwkiGU5-AujoQOtQ-B-B\", \"https://e-disclosure.ru/portal/event.aspx?EventId=R9ODTIHmu0aWob-AZvjk0Ww-B-B\", \"https://e-disclosure.ru/portal/event.aspx?EventId=1ScBVHeSsE-CUNMVm72MI8A-B-B\", \"https://e-disclosure.ru/portal/event.aspx?EventId=gqWMGUW8CEWB2Bs-AoprDug-B-B\", \"https://e-disclosure.ru/portal/event.aspx?EventId=nx4q9wXiFUiuJOTqSAKxRg-B-B\", \"https://e-disclosure.ru/portal/event.aspx?EventId=ZmrWZlLOWEO6UvW9kj7xAw-B-B\", \"https://e-disclosure.ru/portal/event.aspx?EventId=h8dK0X2MR0q8p9h1WHsnww-B-B\", \"https://e-disclosure.ru/portal/event.aspx?EventId=EwnVjoLI8kKMuQadZH6Uqg-B-B\", \"https://e-disclosure.ru/portal/event.aspx?EventId=PH-A1-AoxU6063ZgJZReM02A-B-B\", \"https://e-disclosure.ru/portal/event.aspx?EventId=nyY2DP-Ab90qc3tL8JmDF1Q-B-B\", \"https://e-disclosure.ru/portal/event.aspx?EventId=rH6dAaGIiEyO7cRdh4bEwg-B-B\", \"https://e-disclosure.ru/portal/event.aspx?EventId=st5RkuV8-AkWInUYmoMyuHw-B-B\", \"https://e-disclosure.ru/portal/event.aspx?EventId=njkzzI-Ayw0y1ZO3wbHOK4A-B-B\", \"https://e-disclosure.ru/portal/event.aspx?EventId=kJMKfjz16UytTU0ypjQnYA-B-B\", \"https://e-disclosure.ru/portal/event.aspx?EventId=6XfNHn7K6EOIrfv6fBy-CqQ-B-B\", \"https://e-disclosure.ru/portal/event.aspx?EventId=AdRocnKfEE2y5PLeM3S9NA-B-B\", \"https://e-disclosure.ru/portal/event.aspx?EventId=WbTYtUtqU0ikZ-AZ3PnoO5A-B-B\", \"https://e-disclosure.ru/portal/event.aspx?EventId=mYJxyPTHmkOcILxSEHYckw-B-B\", \"https://e-disclosure.ru/portal/event.aspx?EventId=LrT3eDyHC0Go8k-ApCHmYtA-B-B\", \"https://e-disclosure.ru/portal/event.aspx?EventId=7sUMJZoR0kGClS9nRDuQuw-B-B\", \"https://e-disclosure.ru/portal/event.aspx?EventId=W-CyWfzNuKkm6qzNKE-C6afw-B-B\", \"https://e-disclosure.ru/portal/event.aspx?EventId=6RdV0Vz160u2SQsQ5Kid6Q-B-B\", \"https://e-disclosure.ru/portal/event.aspx?EventId=SqsW1rA-ATkixD2FgV31i-CQ-B-B\", \"https://e-disclosure.ru/portal/event.aspx?EventId=wVPuWrrnwESXE-C0xezo5-Cg-B-B\", \"https://e-disclosure.ru/portal/event.aspx?EventId=sAAWduNnvUa0sC7OhpgF6A-B-B\", \"https://e-disclosure.ru/portal/event.aspx?EventId=CsuEziJHUUCXLisJY0mYGw-B-B\", \"https://e-disclosure.ru/portal/event.aspx?EventId=dMdzFHD2QUOks0UlQz3PAA-B-B\", \"https://e-disclosure.ru/portal/event.aspx?EventId=rUdlR6OEtki1xHXMKkzg2Q-B-B\", \"https://e-disclosure.ru/portal/event.aspx?EventId=iQIrw0jvL0qq9jy1ORniRA-B-B\", \"https://e-disclosure.ru/portal/event.aspx?EventId=cjiMU3ce40C29DlZ-CRPdSg-B-B\", \"https://e-disclosure.ru/portal/event.aspx?EventId=kwFH7i7j-Ck6PpIgktVDz1A-B-B\", \"https://e-disclosure.ru/portal/event.aspx?EventId=NOiJQBTqiEC-CfRVXIQJcBg-B-B\", \"https://e-disclosure.ru/portal/event.aspx?EventId=ox3Q-AyGxo02CAdaDuK78uQ-B-B\", \"https://e-disclosure.ru/portal/event.aspx?EventId=QCidyZc03kq4x47twbfXPQ-B-B\", \"https://e-disclosure.ru/portal/event.aspx?EventId=3EKx-C8O6lk-CuQLn1v-CDnJQ-B-B\", \"https://e-disclosure.ru/portal/event.aspx?EventId=fdsfc9yrrkyiZRuxSxJTKw-B-B\", \"https://e-disclosure.ru/portal/event.aspx?EventId=65y61Ap-Cf0yt41VVTN7toQ-B-B\", \"https://e-disclosure.ru/portal/event.aspx?EventId=nOkEgYAC5EuD-A1qC9wXgxw-B-B\", \"https://e-disclosure.ru/portal/event.aspx?EventId=viQkGhsMSUut-CCuN5mf4Zw-B-B\", \"https://e-disclosure.ru/portal/event.aspx?EventId=I8lT6FsyqUCeMdUwdqQpIQ-B-B\", \"https://e-disclosure.ru/portal/event.aspx?EventId=9EyAmi98rEye2KJZBgVg1w-B-B\", \"https://e-disclosure.ru/portal/event.aspx?EventId=UfOwO2c-CMUuJqZn2yqvKeA-B-B\", \"https://e-disclosure.ru/portal/event.aspx?EventId=5kQYB-Cv53kan3wrfiAK-Cww-B-B\", \"https://e-disclosure.ru/portal/event.aspx?EventId=MQJtbHE1REWmuraNmDLFGw-B-B\", \"https://e-disclosure.ru/portal/event.aspx?EventId=x8WpONvv6UGGd2bw9GxDrw-B-B\", \"https://e-disclosure.ru/portal/event.aspx?EventId=2xZZ1ZzP6k2WaH56vUmpgQ-B-B\", \"https://e-disclosure.ru/portal/event.aspx?EventId=HaCdpT3hSUiWGzv3kE-CdwA-B-B\", \"https://e-disclosure.ru/portal/event.aspx?EventId=SPpuR-CLyw0Wz3z4IyqdElA-B-B\", \"https://e-disclosure.ru/portal/event.aspx?EventId=SgN3wsmuU0ykagabcRrlig-B-B\", \"https://e-disclosure.ru/portal/event.aspx?EventId=YRxdPs-AIF0GK3v8mKNQdIQ-B-B\", \"https://e-disclosure.ru/portal/event.aspx?EventId=afwnZ2S41km9lBZNbtE3-AQ-B-B\", \"https://e-disclosure.ru/portal/event.aspx?EventId=rxTahZMNakOhnlNxFEyi5Q-B-B\", \"https://e-disclosure.ru/portal/event.aspx?EventId=Czka0b-Ag9kaicxcc-CbIn7w-B-B\", \"https://e-disclosure.ru/portal/event.aspx?EventId=j-CLiU2dwcE2k-CzsPElo0tA-B-B\", \"https://e-disclosure.ru/portal/event.aspx?EventId=DUbBcX83-AkK7gmH2ZPQd5A-B-B\", \"https://e-disclosure.ru/portal/event.aspx?EventId=LvJxfcyh20OHjy-AI5EKn2Q-B-B\", \"https://e-disclosure.ru/portal/event.aspx?EventId=ae2RK2QlUU28jYlDudwLlA-B-B\", \"https://e-disclosure.ru/portal/event.aspx?EventId=dRzeSANlmUOaXMt2fh-CxHg-B-B\", \"https://e-disclosure.ru/portal/event.aspx?EventId=xiMnyZ3pcEWJTMQS3TRYXg-B-B\", \"https://e-disclosure.ru/portal/event.aspx?EventId=EaGPTKIh5E-CIW3NjceY0-Ag-B-B\", \"https://e-disclosure.ru/portal/event.aspx?EventId=TRxTakvLvUi2r5Gg7o5cIw-B-B\", \"https://e-disclosure.ru/portal/event.aspx?EventId=OK3qJltWR0esHgqaY4Cvqw-B-B\", \"https://e-disclosure.ru/portal/event.aspx?EventId=Zrcwdn2OkEycRH-AKhSk7tg-B-B\", \"https://e-disclosure.ru/portal/event.aspx?EventId=knmXs6JoBUmL-A-Cs5BFREhw-B-B\", \"https://e-disclosure.ru/portal/event.aspx?EventId=wb0vrdYTOESjSrWsHjASgw-B-B\", \"https://e-disclosure.ru/portal/event.aspx?EventId=3jbH-Cr0DQU-CRJnORWOqZUA-B-B\", \"https://e-disclosure.ru/portal/event.aspx?EventId=pqIfYum0jkaQgaRpQBee6A-B-B\", \"https://e-disclosure.ru/portal/event.aspx?EventId=SH4kUteT4kef9GWO2NR0bQ-B-B\", \"https://e-disclosure.ru/portal/event.aspx?EventId=r8dZ3PUl40WqUY5DkCziFQ-B-B\", \"https://e-disclosure.ru/portal/event.aspx?EventId=VprWH-CqCZ0OzXZcEDw8nDQ-B-B\", \"https://e-disclosure.ru/portal/event.aspx?EventId=KvUc4OmlKUKOZSv4XZt2RA-B-B\", \"https://e-disclosure.ru/portal/event.aspx?EventId=LvqsKBHZy0i3r2LQvPE5TA-B-B\", \"https://e-disclosure.ru/portal/event.aspx?EventId=Ek0kaOzmHkOGRMRdrOK9Bg-B-B\", \"https://e-disclosure.ru/portal/event.aspx?EventId=vJ84NuC2uEWOvcNSlJSxnA-B-B\", \"https://e-disclosure.ru/portal/event.aspx?EventId=O737HrSAXkWK23xXSp9xiQ-B-B\", \"https://e-disclosure.ru/portal/event.aspx?EventId=wBmyYLHqFECDdgjoS60n9g-B-B\", \"https://e-disclosure.ru/portal/event.aspx?EventId=4s-AfQ6sBU0qheZ80-CCrLnA-B-B\", \"https://e-disclosure.ru/portal/event.aspx?EventId=jgm8NMBnv0OY82Qs-AUOg0w-B-B\", \"https://e-disclosure.ru/portal/event.aspx?EventId=1Lf-CZ4VKCkylSeVwZmXvFA-B-B\", \"https://e-disclosure.ru/portal/event.aspx?EventId=mwLDTSdOUUS08jAvZuiCsw-B-B\", \"https://e-disclosure.ru/portal/event.aspx?EventId=Xp0BqvO-CtkuR8gj5UgAOeA-B-B\", \"https://e-disclosure.ru/portal/event.aspx?EventId=L7VjcutrbU-C3mmIeCMF6Ow-B-B\", \"https://e-disclosure.ru/portal/event.aspx?EventId=MuQSCbqvyEWt1vL828BFnw-B-B\", \"https://e-disclosure.ru/portal/event.aspx?EventId=uBXEw5zYdEyd95cRdsZytQ-B-B\", \"https://e-disclosure.ru/portal/event.aspx?EventId=KlUAf8mQEU2OG1YC3CErnQ-B-B\", \"https://e-disclosure.ru/portal/event.aspx?EventId=LyBDoS6bA0G3lAHhKLr4Bw-B-B\", \"https://e-disclosure.ru/portal/event.aspx?EventId=o-AgxXOfp8EaEwZAGBXMBaQ-B-B\", \"https://e-disclosure.ru/portal/event.aspx?EventId=WckQY6ayN0ihGRasFeGPQA-B-B\", \"https://e-disclosure.ru/portal/event.aspx?EventId=V-CmQnT0HNE2HSVOlP2-C1ew-B-B\", \"https://e-disclosure.ru/portal/event.aspx?EventId=xlYgD4wh-CUO-C7rskqkPAUA-B-B\", \"https://e-disclosure.ru/portal/event.aspx?EventId=dUMfpl0WSECOYVmjANLnGw-B-B\", \"https://e-disclosure.ru/portal/event.aspx?EventId=nU08nSiOkkKQuwK3cNHMXQ-B-B\", \"https://e-disclosure.ru/portal/event.aspx?EventId=GzrOeiioOUapmdQnIDzk4Q-B-B\", \"https://e-disclosure.ru/portal/event.aspx?EventId=ixiULptWSUmhJbBbfLiSog-B-B\", \"https://e-disclosure.ru/portal/event.aspx?EventId=7DPof41rjEaRKexSCwTUbw-B-B\", \"https://e-disclosure.ru/portal/event.aspx?EventId=0isEOom9IUC-AnQ0pgPcIyg-B-B\", \"https://e-disclosure.ru/portal/event.aspx?EventId=uM2CZOH8nEmDsHSx2CIW6g-B-B\", \"https://e-disclosure.ru/portal/event.aspx?EventId=6ZJj0-CWLU0Wu-AyLkT2SFHQ-B-B\", \"https://e-disclosure.ru/portal/event.aspx?EventId=NMcyLjQv3kCD52V-CHg41zg-B-B\", \"https://e-disclosure.ru/portal/event.aspx?EventId=NfWpUA1A30SaBFcJq-CMKOg-B-B\", \"https://e-disclosure.ru/portal/event.aspx?EventId=-Cnp-CSkv5f0CJnozUQ-AhDNw-B-B\", \"https://e-disclosure.ru/portal/event.aspx?EventId=9Rn7AB0Zok-C1OlBnFvXipg-B-B\", \"https://e-disclosure.ru/portal/event.aspx?EventId=jaN2Ywo5V0qswpZayt32GQ-B-B\", \"https://e-disclosure.ru/portal/event.aspx?EventId=UYvDLD2D9EKcWNL9VckrkQ-B-B\", \"https://e-disclosure.ru/portal/event.aspx?EventId=BewMaqrlG0OUU0ExfdmYfQ-B-B\", \"https://e-disclosure.ru/portal/event.aspx?EventId=-Cj8HecJm2E-CWSE6uAcFwNA-B-B\", \"https://e-disclosure.ru/portal/event.aspx?EventId=OGW8X-Aiv9kWhAnfLRi-CtTA-B-B\", \"https://e-disclosure.ru/portal/event.aspx?EventId=QtQDQgRgQkmho5y-A8wo1Fg-B-B\", \"https://e-disclosure.ru/portal/event.aspx?EventId=HfUuYamKjkqIlqr6Sz5-C8w-B-B\", \"https://e-disclosure.ru/portal/event.aspx?EventId=fna5G-CJmJ0SrKoUs717gAA-B-B\", \"https://e-disclosure.ru/portal/event.aspx?EventId=vkus68ftzkKjtiQ81DBHoQ-B-B\", \"https://e-disclosure.ru/portal/event.aspx?EventId=u-ApTj6nSv0uSe5dKxOWAEg-B-B\", \"https://e-disclosure.ru/portal/event.aspx?EventId=ESK4dbzJL0mkKcpzem9ONQ-B-B\", \"https://e-disclosure.ru/portal/event.aspx?EventId=EZLRSsa52kefxS7-C7pNM6g-B-B\", \"https://e-disclosure.ru/portal/event.aspx?EventId=9xlUokDC2kCa1JqmZW7UQg-B-B\", \"https://e-disclosure.ru/portal/event.aspx?EventId=hq93T-AWWV0KhYzzfy5z4mw-B-B\", \"https://e-disclosure.ru/portal/event.aspx?EventId=ArTGR2A3r0ORrxqghuzr9A-B-B\", \"https://e-disclosure.ru/portal/event.aspx?EventId=Cr0GPbMug0aTHJBRbDQ8RA-B-B\", \"https://e-disclosure.ru/portal/event.aspx?EventId=xyjc4ybe40-CsnkIy-AtF6YA-B-B\", \"https://e-disclosure.ru/portal/event.aspx?EventId=LTcfgLvUy0mUpq3GiNWqxA-B-B\", \"https://e-disclosure.ru/portal/event.aspx?EventId=m-Av7r8rsf0GvcfKkVNu4Gw-B-B\", \"https://e-disclosure.ru/portal/event.aspx?EventId=Z4JyevQhGk2HCYMWiGduOg-B-B\", \"https://e-disclosure.ru/portal/event.aspx?EventId=Pm07LcE45kCWUANsjyBzcQ-B-B\", \"https://e-disclosure.ru/portal/event.aspx?EventId=SMLozOzfJUu6CPtRkRwdaw-B-B\", \"https://e-disclosure.ru/portal/event.aspx?EventId=CnuRdtizdkqGcVZjySz6uQ-B-B\", \"https://e-disclosure.ru/portal/event.aspx?EventId=Nd9mO3OL8kywssOxRTyrtw-B-B\", \"https://e-disclosure.ru/portal/event.aspx?EventId=BSOjfMkwx0K6eRNbSkqlvg-B-B\", \"https://e-disclosure.ru/portal/event.aspx?EventId=E2SQFQaJakqADYu-AlDXw2Q-B-B\", \"https://e-disclosure.ru/portal/event.aspx?EventId=04cDZ5dem02-ADGFNOx1UGA-B-B\", \"https://e-disclosure.ru/portal/event.aspx?EventId=xzgu75BBwk2rUXbOz9Vd3Q-B-B\", \"https://e-disclosure.ru/portal/event.aspx?EventId=5qhI0b3hXEWZVAhCZ2IUGQ-B-B\", \"https://e-disclosure.ru/portal/event.aspx?EventId=fGT9hmhgykqK1lxIW3MfPQ-B-B\", \"https://e-disclosure.ru/portal/event.aspx?EventId=U1tOJa5AgkOoQ01LAhrFfw-B-B\", \"https://e-disclosure.ru/portal/event.aspx?EventId=eI6m969Pp0akYF7qFFab1A-B-B\", \"https://e-disclosure.ru/portal/event.aspx?EventId=uuX4rJORSU2teBZq9M5YPg-B-B\", \"https://e-disclosure.ru/portal/event.aspx?EventId=NWF0ISG75UaYobg8oI-C0Ng-B-B\", \"https://e-disclosure.ru/portal/event.aspx?EventId=V4PW9JCkg0uVhmvUJkaS1Q-B-B\", \"https://e-disclosure.ru/portal/event.aspx?EventId=odNDEat5IUi-AcyfIGJgF2Q-B-B\", \"https://e-disclosure.ru/portal/event.aspx?EventId=dsj59dtZG0yGYYWsSLqk-Ag-B-B\", \"https://e-disclosure.ru/portal/event.aspx?EventId=lewjrZtWqkWJSbVvnt6C-Ag-B-B\", \"https://e-disclosure.ru/portal/event.aspx?EventId=87v88b5tHki-CeYhbMUfmbA-B-B\", \"https://e-disclosure.ru/portal/event.aspx?EventId=2Uko94B8NkOfpzE0lcvlRg-B-B\", \"https://e-disclosure.ru/portal/event.aspx?EventId=pdSCdqZNJEWzFVbwaDoNDg-B-B\", \"https://e-disclosure.ru/portal/event.aspx?EventId=spC8F8tvwUquXMpO36fMZw-B-B\", \"https://e-disclosure.ru/portal/event.aspx?EventId=6Xs3Q8AH-AUCXQteWHGaLAw-B-B\", \"https://e-disclosure.ru/portal/event.aspx?EventId=W-Cnybl1M-A0SPA7avROT-CKw-B-B\", \"https://e-disclosure.ru/portal/event.aspx?EventId=2F9O09myL0u1mFG4YMmY2Q-B-B\", \"https://e-disclosure.ru/portal/event.aspx?EventId=uaNILwVyokOofHcwPGB-Atw-B-B\", \"https://e-disclosure.ru/portal/event.aspx?EventId=gvV1sk1Ib0SqtiMOVPPsfw-B-B\", \"https://e-disclosure.ru/portal/event.aspx?EventId=PLQOR2VJsEulTm1wmm-Chhw-B-B\", \"https://e-disclosure.ru/portal/event.aspx?EventId=ZOdnh6HkgE-CD8NASk8AhBQ-B-B\", \"https://e-disclosure.ru/portal/event.aspx?EventId=psz0Y1YC2ECtY8VWEXc1Sw-B-B\", \"https://e-disclosure.ru/portal/event.aspx?EventId=DKDyzTWl8UiWav22cvDeeg-B-B\", \"https://e-disclosure.ru/portal/event.aspx?EventId=7idHcTbtnEmumU-A0cBZCPQ-B-B\", \"https://e-disclosure.ru/portal/event.aspx?EventId=w75w-CHeMSU2odZNwayOYPg-B-B\", \"https://e-disclosure.ru/portal/event.aspx?EventId=5tI6BwJiZEejgwxchu-AlYA-B-B\", \"https://e-disclosure.ru/portal/event.aspx?EventId=qwPMSBZLqEuMNaha1FU-AZw-B-B\", \"https://e-disclosure.ru/portal/event.aspx?EventId=hpbR7SD6wEquXTInzN8xeA-B-B\", \"https://e-disclosure.ru/portal/event.aspx?EventId=iO03ZiTiEUWyOdWtKbX4-Cw-B-B\", \"https://e-disclosure.ru/portal/event.aspx?EventId=SpK7CBGGFEOB-CniwbSQ-Ciw-B-B\", \"https://e-disclosure.ru/portal/event.aspx?EventId=xDK-ADkAXRU-CjuyzMbD0Qtw-B-B\", \"https://e-disclosure.ru/portal/event.aspx?EventId=apCa0vTZ3UiFe0HEL1yZAA-B-B\", \"https://e-disclosure.ru/portal/event.aspx?EventId=xFvuvdm2ZEi3Xy8hpuDviQ-B-B\", \"https://e-disclosure.ru/portal/event.aspx?EventId=yKz7iqQBY06YijI8j8rDpQ-B-B\", \"https://e-disclosure.ru/portal/event.aspx?EventId=sdtPKQo7bEucD0VZukKc9g-B-B\", \"https://e-disclosure.ru/portal/event.aspx?EventId=fKm-C12luZEa53LDlJaC-A0A-B-B\", \"https://e-disclosure.ru/portal/event.aspx?EventId=GRx7CByQYUqQf-AkhPCUSwg-B-B\", \"https://e-disclosure.ru/portal/event.aspx?EventId=tHpofyLY-CUWUnVU1xnfopg-B-B\", \"https://e-disclosure.ru/portal/event.aspx?EventId=LM-ATqrKgKkqR5aQdn5j7RA-B-B\", \"https://e-disclosure.ru/portal/event.aspx?EventId=7fFMcTHxD06FvuDCbdie-Ag-B-B\", \"https://e-disclosure.ru/portal/event.aspx?EventId=gz-CbZCisJUqRtH6I4462Qw-B-B\", \"https://e-disclosure.ru/portal/event.aspx?EventId=8SuQe9WHwEClApTq4p-Adrg-B-B\", \"https://e-disclosure.ru/portal/event.aspx?EventId=ICR-CXPQukkinp0POS25QrQ-B-B\", \"https://e-disclosure.ru/portal/event.aspx?EventId=S0QpLgAD00e79UdUiOftkg-B-B\", \"https://e-disclosure.ru/portal/event.aspx?EventId=1rX2nBdlokSEnvJO61E9EA-B-B\", \"https://e-disclosure.ru/portal/event.aspx?EventId=67DdzfK-C4Emk6iPB5EgFhw-B-B\", \"https://e-disclosure.ru/portal/event.aspx?EventId=6V3WetY50EG4UWL3X3gOjA-B-B\", \"https://e-disclosure.ru/portal/event.aspx?EventId=Evue4heeU02QilfqGiOmRg-B-B\", \"https://e-disclosure.ru/portal/event.aspx?EventId=0LYL1YDzQkaoX4bZRNrZtg-B-B\", \"https://e-disclosure.ru/portal/event.aspx?EventId=iakYlJHTt0G60WVK4LdUjQ-B-B\", \"https://e-disclosure.ru/portal/event.aspx?EventId=vg3teQhGpEOVDH2Rc6gqxg-B-B\", \"https://e-disclosure.ru/portal/event.aspx?EventId=uus5XTlElka6q-CeqU995YA-B-B\", \"https://e-disclosure.ru/portal/event.aspx?EventId=WPvVb-CTPAEe2XCF9A5pRdA-B-B\", \"https://e-disclosure.ru/portal/event.aspx?EventId=NXZMl6Bd0ESVzaC-CGqjzBw-B-B\", \"https://e-disclosure.ru/portal/event.aspx?EventId=atxlY4FtB0KlFh5x1FuH6A-B-B\", \"https://e-disclosure.ru/portal/event.aspx?EventId=YxzWb46puE6teQS1zfSe7w-B-B\", \"https://e-disclosure.ru/portal/event.aspx?EventId=celRjfNXfk-CqN975wEarhw-B-B\", \"https://e-disclosure.ru/portal/event.aspx?EventId=NrKL62otiUixhXvIlT0YJg-B-B\", \"https://e-disclosure.ru/portal/event.aspx?EventId=HlGLkKofXEKVu-AC7LGZN-Cw-B-B\", \"https://e-disclosure.ru/portal/event.aspx?EventId=z67CphIlVE-C33YFuPsVxBg-B-B\", \"https://e-disclosure.ru/portal/event.aspx?EventId=ulPJipavXk23T3IVfNXlRA-B-B\", \"https://e-disclosure.ru/portal/event.aspx?EventId=pXgpTX2sAEeXT284-CVJaMg-B-B\", \"https://e-disclosure.ru/portal/event.aspx?EventId=klDR9aVoa0OtfJeo0hcwug-B-B\", \"https://e-disclosure.ru/portal/event.aspx?EventId=pk0Q63qfe02Ab0d-Cu61i8Q-B-B\", \"https://e-disclosure.ru/portal/event.aspx?EventId=n4-C0kRTHIUqtcPF-CysiOJA-B-B\", \"https://e-disclosure.ru/portal/event.aspx?EventId=j19G3n2JRUeVVIScURzgyg-B-B\", \"https://e-disclosure.ru/portal/event.aspx?EventId=ezRRMRo7Mk2AtavDT60t9A-B-B\", \"https://e-disclosure.ru/portal/event.aspx?EventId=VOeMgR9nskGm5pkC37tXvw-B-B\", \"https://e-disclosure.ru/portal/event.aspx?EventId=tKDe9XALq0Wzm33LzS8DrQ-B-B\", \"https://e-disclosure.ru/portal/event.aspx?EventId=PdZ5CeRZz0OhRGmtocxOYA-B-B\", \"https://e-disclosure.ru/portal/event.aspx?EventId=pA6EiQ5-CJ0yoxKImuMTC0A-B-B\", \"https://e-disclosure.ru/portal/event.aspx?EventId=YJHFp1JqsUeVIppPoRJplg-B-B\", \"https://e-disclosure.ru/portal/event.aspx?EventId=jC9aSykjZU6bk2eqQR7fRg-B-B\", \"https://e-disclosure.ru/portal/event.aspx?EventId=b1LJEVzJYkKj6X6nSEmblw-B-B\", \"https://e-disclosure.ru/portal/event.aspx?EventId=GDDUPHf-AfEqMTnCK-ATwfvQ-B-B\", \"https://e-disclosure.ru/portal/event.aspx?EventId=TZgI-ACEtRk6r6dxTarJzew-B-B\", \"https://e-disclosure.ru/portal/event.aspx?EventId=GOJc-ASqhmkWA7d-AxV1kzPg-B-B\", \"https://e-disclosure.ru/portal/event.aspx?EventId=dsiH9KLIS0qDiB9-AbsVehw-B-B\", \"https://e-disclosure.ru/portal/event.aspx?EventId=0L1-C1PsiYkG-CVleNhv8zQw-B-B\", \"https://e-disclosure.ru/portal/event.aspx?EventId=spJD6lVfokmaJ8l58Htsfg-B-B\", \"https://e-disclosure.ru/portal/event.aspx?EventId=YySn-CGAkOU6tlLuvL-ARyCA-B-B\", \"https://e-disclosure.ru/portal/event.aspx?EventId=ZRqvzrJlOku6oPjMSYDTUg-B-B\", \"https://e-disclosure.ru/portal/event.aspx?EventId=UjviNqyNBkiLMrSZX6TOCA-B-B\", \"https://e-disclosure.ru/portal/event.aspx?EventId=TppwZzTD70-C0HsdeImZ37g-B-B\", \"https://e-disclosure.ru/portal/event.aspx?EventId=SG3pPi6CKkah71rmpFtPTw-B-B\", \"https://e-disclosure.ru/portal/event.aspx?EventId=ssufyP3XCEOA5doscGYCnw-B-B\", \"https://e-disclosure.ru/portal/event.aspx?EventId=cb9gc5QQa0y4mC660Fvrtw-B-B\", \"https://e-disclosure.ru/portal/event.aspx?EventId=Blj8MkVLmE-CrEInjFKMTMQ-B-B\", \"https://e-disclosure.ru/portal/event.aspx?EventId=F61uqNnw2kOba8tYFmHcMg-B-B\", \"https://e-disclosure.ru/portal/event.aspx?EventId=NuwBoJaQEE2zVodKNosF-Aw-B-B\", \"https://e-disclosure.ru/portal/event.aspx?EventId=Lt3ytTjJfE-Cg3pWSQ1Z70g-B-B\", \"https://e-disclosure.ru/portal/event.aspx?EventId=3BAEOKBgYkWxLG9KD0uMHQ-B-B\", \"https://e-disclosure.ru/portal/event.aspx?EventId=s-AWdtqRkFka91yHuLyCKlg-B-B\", \"https://e-disclosure.ru/portal/event.aspx?EventId=tMoy-CpqOdUSm5UyDwl2e7g-B-B\", \"https://e-disclosure.ru/portal/event.aspx?EventId=ssY9rJHUkkCXqs8RBWminA-B-B\", \"https://e-disclosure.ru/portal/event.aspx?EventId=7hmDLgPruEWzKKYGfzMdPw-B-B\", \"https://e-disclosure.ru/portal/event.aspx?EventId=4LgASgIWF0K4-Cr94rTSzcA-B-B\", \"https://e-disclosure.ru/portal/event.aspx?EventId=VU2Z01H7CEWRo4RdG29CRA-B-B\", \"https://e-disclosure.ru/portal/event.aspx?EventId=jwpmwxdIXEadu0gNK-AO72w-B-B\", \"https://e-disclosure.ru/portal/event.aspx?EventId=nQckxLnhE0aZBGCq5izviA-B-B\", \"https://e-disclosure.ru/portal/event.aspx?EventId=ZLp2KoKSFU-CiSEHv0gWN0w-B-B\", \"https://e-disclosure.ru/portal/event.aspx?EventId=GqX3rJhkikCEdb-CPyo2v6g-B-B\", \"https://e-disclosure.ru/portal/event.aspx?EventId=jP0axSOeF026qYlSqi-Ahcg-B-B\", \"https://e-disclosure.ru/portal/event.aspx?EventId=i4vWtM0TBkqRtkWSUqGAPw-B-B\", \"https://e-disclosure.ru/portal/event.aspx?EventId=NKhB9mVnKUKQaEGVfD0qbw-B-B\", \"https://e-disclosure.ru/portal/event.aspx?EventId=evewIbWquEe49T8tMwZwpQ-B-B\", \"https://e-disclosure.ru/portal/event.aspx?EventId=jZy5J-CV3cEWZAhtPtMhZpw-B-B\", \"https://e-disclosure.ru/portal/event.aspx?EventId=-CYhZOuCEOkqL4CU49XKA7w-B-B\", \"https://e-disclosure.ru/portal/event.aspx?EventId=YNh3zeG5IUul8fKS2Hx0-CQ-B-B\", \"https://e-disclosure.ru/portal/event.aspx?EventId=fsiCYIGBFU-C-C2XS0KOnuiA-B-B\", \"https://e-disclosure.ru/portal/event.aspx?EventId=Wn8qJTz94E-CixBgRBa8ikw-B-B\", \"https://e-disclosure.ru/portal/event.aspx?EventId=6GINqUfcskyM97WL3ZIjfg-B-B\", \"https://e-disclosure.ru/portal/event.aspx?EventId=MVjTorP70k-CqzAfE7EV-Cwg-B-B\", \"https://e-disclosure.ru/portal/event.aspx?EventId=RMg3fwXfQUWtwyYMi09MkQ-B-B\", \"https://e-disclosure.ru/portal/event.aspx?EventId=sK8zeZ9DdEyVd6oGTUbnnQ-B-B\", \"https://e-disclosure.ru/portal/event.aspx?EventId=CmkxuxPPa0aJe8rN2-CLjhg-B-B\", \"https://e-disclosure.ru/portal/event.aspx?EventId=Zhf-CsQY-AckOr2PC9ZtGrJA-B-B\", \"https://e-disclosure.ru/portal/event.aspx?EventId=jeg7xjQ6A0-C20CgdfhkCgw-B-B\", \"https://e-disclosure.ru/portal/event.aspx?EventId=LRQuo0vdT0OaYwAhUrUbdQ-B-B\", \"https://e-disclosure.ru/portal/event.aspx?EventId=lWJkgfiUJUqge7tfyTYKfQ-B-B\", \"https://e-disclosure.ru/portal/event.aspx?EventId=OCduFIWExU6WQC2qFljXUA-B-B\", \"https://e-disclosure.ru/portal/event.aspx?EventId=nQGXj5Va80W7SRN2cBREKQ-B-B\", \"https://e-disclosure.ru/portal/event.aspx?EventId=uTJL3-CTRsk6zCYz-A9Lislw-B-B\", \"https://e-disclosure.ru/portal/event.aspx?EventId=FkOChg-AbYEqEqlQ99iSehQ-B-B\", \"https://e-disclosure.ru/portal/event.aspx?EventId=H0RTMKip7EmKPJFYu52eQw-B-B\", \"https://e-disclosure.ru/portal/event.aspx?EventId=NLdO0Qv0Pk-CKfSzDxKRGzA-B-B\", \"https://e-disclosure.ru/portal/event.aspx?EventId=FKtvzhB-AcEq2DDKVRbgbPA-B-B\", \"https://e-disclosure.ru/portal/event.aspx?EventId=CpIPcobKrUCsQhD40gge-CA-B-B\", \"https://e-disclosure.ru/portal/event.aspx?EventId=uzswDCSKaEGsIfJpl5-C2yQ-B-B\", \"https://e-disclosure.ru/portal/event.aspx?EventId=jnLR59X9wEG0gCOE1VNyMQ-B-B\", \"https://e-disclosure.ru/portal/event.aspx?EventId=NqUj35hrPUWZ5Fe-AIPZyEQ-B-B\", \"https://e-disclosure.ru/portal/event.aspx?EventId=2l5CAqPl6ECJU3ipNUydoA-B-B\", \"https://e-disclosure.ru/portal/event.aspx?EventId=2qTz1PZ0mEeSzhO5L67rJA-B-B\", \"https://e-disclosure.ru/portal/event.aspx?EventId=Mf8LHvJA1UCC4ozMpJyqtA-B-B\", \"https://e-disclosure.ru/portal/event.aspx?EventId=hhtLi2dxaEm1b6mTSb4uzg-B-B\", \"https://e-disclosure.ru/portal/event.aspx?EventId=0QaECXdXZk2pK-CcZLPgHbw-B-B\", \"https://e-disclosure.ru/portal/event.aspx?EventId=lX0VsPwDaEiNNiz6tqvlKA-B-B\", \"https://e-disclosure.ru/portal/event.aspx?EventId=B9QBMJnrE0OdQT9LtJnJpA-B-B\", \"https://e-disclosure.ru/portal/event.aspx?EventId=PBrLSn4q1kKirqdWZ76ADw-B-B\", \"https://e-disclosure.ru/portal/event.aspx?EventId=Y5z-CH9xGz0qzMKfKkRWmAg-B-B\", \"https://e-disclosure.ru/portal/event.aspx?EventId=0r0EYfABv0Gq7XsBid7AVQ-B-B\", \"https://e-disclosure.ru/portal/event.aspx?EventId=GmE0HgGB5kqy1HIfGdtHmQ-B-B\", \"https://e-disclosure.ru/portal/event.aspx?EventId=JIyVbnher0qxKW8Y5q0fRA-B-B\", \"https://e-disclosure.ru/portal/event.aspx?EventId=l1uShZJfGEuhxWoDgHoolA-B-B\", \"https://e-disclosure.ru/portal/event.aspx?EventId=7xuWKEnkxU6h7811jFedog-B-B\", \"https://e-disclosure.ru/portal/event.aspx?EventId=pFzp1jPy6UOk8WbN2UUR1g-B-B\", \"https://e-disclosure.ru/portal/event.aspx?EventId=7cYEhyai10SBoF5DKB5DEQ-B-B\", \"https://e-disclosure.ru/portal/event.aspx?EventId=KArO-CnAUSEmV-AvJ3uo4ddw-B-B\", \"https://e-disclosure.ru/portal/event.aspx?EventId=OAcXsqbjFU2-Ct4V7E2L8Iw-B-B\", \"https://e-disclosure.ru/portal/event.aspx?EventId=x3ktQPvZ-A0iJgk4gOd3ClQ-B-B\", \"https://e-disclosure.ru/portal/event.aspx?EventId=ugHWJQ1n0EKMfKFNU83XIA-B-B\", \"https://e-disclosure.ru/portal/event.aspx?EventId=o3Aqv7o0A0Kvxu9iaP6lww-B-B\", \"https://e-disclosure.ru/portal/event.aspx?EventId=LyWGy7-AcQ0yf9ot7GFr1dg-B-B\", \"https://e-disclosure.ru/portal/event.aspx?EventId=BuH2LuFU5kG2ajpbYdr7lQ-B-B\", \"https://e-disclosure.ru/portal/event.aspx?EventId=SOmgtiabvEq8kn69loQL6A-B-B\", \"https://e-disclosure.ru/portal/event.aspx?EventId=bwENh-C-CQ9kKngn0ahbjCOw-B-B\", \"https://e-disclosure.ru/portal/event.aspx?EventId=uYmWvTQuDkWYUqJyc-ApSDQ-B-B\", \"https://e-disclosure.ru/portal/event.aspx?EventId=J9TOVfHm8EeP46NV1DHhWA-B-B\", \"https://e-disclosure.ru/portal/event.aspx?EventId=yIAO4sR7okaCFxmdvcEd9w-B-B\", \"https://e-disclosure.ru/portal/event.aspx?EventId=3Ni-AASErc0KEjZa4nBwJvg-B-B\", \"https://e-disclosure.ru/portal/event.aspx?EventId=YEKPZbLOEUS-CoAO54rNerA-B-B\", \"https://e-disclosure.ru/portal/event.aspx?EventId=FvpQMsziOUCu80qTqJoCBQ-B-B\", \"https://e-disclosure.ru/portal/event.aspx?EventId=eWySP6N1y0u4kt22R-AWKjQ-B-B\", \"https://e-disclosure.ru/portal/event.aspx?EventId=uKCOoApfSE-CyyVAq7MKF0A-B-B\", \"https://e-disclosure.ru/portal/event.aspx?EventId=NrnzV6HXi0yDQPkiRWg2yA-B-B\", \"https://e-disclosure.ru/portal/event.aspx?EventId=mF3FtjheREadLfjo7dq9JQ-B-B\", \"https://e-disclosure.ru/portal/event.aspx?EventId=rVKjg1Jaf0CshukodqwXUA-B-B\", \"https://e-disclosure.ru/portal/event.aspx?EventId=fpxmab3iokWstClcjdjtzA-B-B\", \"https://e-disclosure.ru/portal/event.aspx?EventId=Cv4jCMo1X0GheCz0Isoqsw-B-B\", \"https://e-disclosure.ru/portal/event.aspx?EventId=fCTnbkRLz0mpuvSg7Ogseg-B-B\", \"https://e-disclosure.ru/portal/event.aspx?EventId=gwJpLU79A06uNvZeIi69fg-B-B\", \"https://e-disclosure.ru/portal/event.aspx?EventId=4bYGZRtnU0q16v1zgU39-CQ-B-B\", \"https://e-disclosure.ru/portal/event.aspx?EventId=-AGqIXaA30U2XE5Ayjar9fg-B-B\", \"https://e-disclosure.ru/portal/event.aspx?EventId=uMu-AfotKTkC1ieB7EJuEvg-B-B\", \"https://e-disclosure.ru/portal/event.aspx?EventId=tmSSuFGNdkKlcbKWUuz1WQ-B-B\", \"https://e-disclosure.ru/portal/event.aspx?EventId=m-C-AfsQd9UU2w0op2PK-AzXQ-B-B\", \"https://e-disclosure.ru/portal/event.aspx?EventId=vPrAfwa5vku9RLG456VaQQ-B-B\", \"https://e-disclosure.ru/portal/event.aspx?EventId=11cUQrasiU2AYMPPGVJVtA-B-B\", \"https://e-disclosure.ru/portal/event.aspx?EventId=HSqeLWA9dkOSpisnt3iEXQ-B-B\", \"https://e-disclosure.ru/portal/event.aspx?EventId=omsa7YTM-Ak6f8leNGUAZZg-B-B\", \"https://e-disclosure.ru/portal/event.aspx?EventId=FdutcfqUrUSobOzAdwzmfA-B-B\", \"https://e-disclosure.ru/portal/event.aspx?EventId=JrhLx7kKd0aXzdcBm7FS-Cg-B-B\", \"https://e-disclosure.ru/portal/event.aspx?EventId=QMKYCasmukaM-AHGZUIzi2w-B-B\", \"https://e-disclosure.ru/portal/event.aspx?EventId=1MWGk6b9GUKl-CIeShxZ4pQ-B-B\", \"https://e-disclosure.ru/portal/event.aspx?EventId=fL1q4-A-A3ekilGdhJ7QVaRw-B-B\", \"https://e-disclosure.ru/portal/event.aspx?EventId=hKOOCPR7aE2D28l2qw7Kqw-B-B\", \"https://e-disclosure.ru/portal/event.aspx?EventId=-Cmy43VXFTUC7D02pBKyb8A-B-B\", \"https://e-disclosure.ru/portal/event.aspx?EventId=joSO307aQkmhabF11CWFIQ-B-B\", \"https://e-disclosure.ru/portal/event.aspx?EventId=QSdvLPhWbU6eDvzJ7jJvig-B-B\", \"https://e-disclosure.ru/portal/event.aspx?EventId=z9uEBA2v4kecNpAIFEcOAQ-B-B\", \"https://e-disclosure.ru/portal/event.aspx?EventId=9UJYyusc1UOj1mIzljwPKQ-B-B\", \"https://e-disclosure.ru/portal/event.aspx?EventId=8GYDa5fK4EuqX1GAALf6TQ-B-B\", \"https://e-disclosure.ru/portal/event.aspx?EventId=hX2MzxLjMUeum7JT43kcmA-B-B\", \"https://e-disclosure.ru/portal/event.aspx?EventId=IipinN4Y0U-C5l1IEpqqKUw-B-B\", \"https://e-disclosure.ru/portal/event.aspx?EventId=7UgxBCEMpkKo9P3tOj1o0w-B-B\", \"https://e-disclosure.ru/portal/event.aspx?EventId=CxRagEuhlU-CDf6SNAyWOyA-B-B\", \"https://e-disclosure.ru/portal/event.aspx?EventId=LXwLzMyxCEWI5WYKsb100g-B-B\", \"https://e-disclosure.ru/portal/event.aspx?EventId=J4VtQPDnlkSJSkaA2qY17A-B-B\", \"https://e-disclosure.ru/portal/event.aspx?EventId=pYAN-CRrWf0OF8-A6nQHCUWA-B-B\", \"https://e-disclosure.ru/portal/event.aspx?EventId=ldpPtXf8yEeTllEAqBTFqA-B-B\", \"https://e-disclosure.ru/portal/event.aspx?EventId=o8XATzl6BU-CXgmkOzEO1NA-B-B\", \"https://e-disclosure.ru/portal/event.aspx?EventId=ZVcE4smqgkS0ObWdJifsSg-B-B\", \"https://e-disclosure.ru/portal/event.aspx?EventId=fUUiZBpeDUS2fsh6CltLzg-B-B\", \"https://e-disclosure.ru/portal/event.aspx?EventId=nMb9lahVmkKjUkOCDx-AKhg-B-B\", \"https://e-disclosure.ru/portal/event.aspx?EventId=3qg8MU02kUqrwYo5ZukiCQ-B-B\", \"https://e-disclosure.ru/portal/event.aspx?EventId=PcQu9ruY2UC-ABHTpnIwkZA-B-B\", \"https://e-disclosure.ru/portal/event.aspx?EventId=9CUUKxsfkUyBqsQ-AOt3jiA-B-B\", \"https://e-disclosure.ru/portal/event.aspx?EventId=BnaTUMLW40OBeCv1hpJvng-B-B\", \"https://e-disclosure.ru/portal/event.aspx?EventId=kyMgoAL6v0qqjcv8Q-CK9qA-B-B\", \"https://e-disclosure.ru/portal/event.aspx?EventId=O-Cm-AI-AIwNEKzS42nQ-AJnOw-B-B\", \"https://e-disclosure.ru/portal/event.aspx?EventId=oVim5kKJk0KuILuYyznKOg-B-B\", \"https://e-disclosure.ru/portal/event.aspx?EventId=npEDCUd-C3k6FXJ-A9pDvTsQ-B-B\", \"https://e-disclosure.ru/portal/event.aspx?EventId=WcNM4qv5-AEmHLcDkIhpdgQ-B-B\", \"https://e-disclosure.ru/portal/event.aspx?EventId=ET8p2v393060h667xPWLbQ-B-B\", \"https://e-disclosure.ru/portal/event.aspx?EventId=44gjYuucjEeix5TeCJCTrw-B-B\", \"https://e-disclosure.ru/portal/event.aspx?EventId=IvSl7X3HY06kMxDgPbYapw-B-B\", \"https://e-disclosure.ru/portal/event.aspx?EventId=utC47ozHrU2x03A4TBvr3A-B-B\", \"https://e-disclosure.ru/portal/event.aspx?EventId=yDkgCt4OZUexMKwbHPAHrw-B-B\", \"https://e-disclosure.ru/portal/event.aspx?EventId=RKyEqjb-AkE-CNudAwssuuNg-B-B\", \"https://e-disclosure.ru/portal/event.aspx?EventId=pMq94XHS8UeYdU-A25PaYhg-B-B\", \"https://e-disclosure.ru/portal/event.aspx?EventId=TCvpbU9y-A0WWF2kw83uBSg-B-B\", \"https://e-disclosure.ru/portal/event.aspx?EventId=F-CcEscGUYky9c0zLmp-ClMQ-B-B\", \"https://e-disclosure.ru/portal/event.aspx?EventId=l9S8v-CeOS06xBeGoYN2hhg-B-B\", \"https://e-disclosure.ru/portal/event.aspx?EventId=zgX4aNbPEEeckDp2mBnRCw-B-B\", \"https://e-disclosure.ru/portal/event.aspx?EventId=R1JVYORUSUezONDpnVjOQA-B-B\", \"https://e-disclosure.ru/portal/event.aspx?EventId=Yth66g6jtEWFPl9h-AUQKoQ-B-B\", \"https://e-disclosure.ru/portal/event.aspx?EventId=Igki9zuqbkeitBq2puhCcg-B-B\", \"https://e-disclosure.ru/portal/event.aspx?EventId=7nvmZcAuyUm6byY-CUw7mEg-B-B\", \"https://e-disclosure.ru/portal/event.aspx?EventId=OzRq49B4z0e4ojPeHVJ06w-B-B\", \"https://e-disclosure.ru/portal/event.aspx?EventId=H5jqbB4TbUOdtagF92dNsg-B-B\", \"https://e-disclosure.ru/portal/event.aspx?EventId=AvG7lAyqTESIGLRkxrg34Q-B-B\", \"https://e-disclosure.ru/portal/event.aspx?EventId=RrJoHVyC4E6am6pd2IbxNA-B-B\", \"https://e-disclosure.ru/portal/event.aspx?EventId=isUd29iIeU6xjEzkjWmwlA-B-B\", \"https://e-disclosure.ru/portal/event.aspx?EventId=Pa1nGqfkZECtCkJyYalYhA-B-B\", \"https://e-disclosure.ru/portal/event.aspx?EventId=PqTKVM4mb0aOJcN6iqIT4g-B-B\", \"https://e-disclosure.ru/portal/event.aspx?EventId=9-AOZvKCAEU6Kx-AKiptlabQ-B-B\", \"https://e-disclosure.ru/portal/event.aspx?EventId=DKk8h5gigESpST-CgvPS6CQ-B-B\", \"https://e-disclosure.ru/portal/event.aspx?EventId=9P-Aez6MYGkSK7VXBWP01lA-B-B\", \"https://e-disclosure.ru/portal/event.aspx?EventId=tVQrAA3nZ0m7edH-Ak1TvWA-B-B\", \"https://e-disclosure.ru/portal/event.aspx?EventId=CB-CUS-AU28EO7Hm5gNx6raA-B-B\", \"https://e-disclosure.ru/portal/event.aspx?EventId=dgj5MrTf9kqZ5fgVEGg8Cw-B-B\", \"https://e-disclosure.ru/portal/event.aspx?EventId=pykuoYNxJkiv2mMgc72W-CQ-B-B\", \"https://e-disclosure.ru/portal/event.aspx?EventId=ghk3wlV5ykKzV-Ci2gpkdIQ-B-B\", \"https://e-disclosure.ru/portal/event.aspx?EventId=U9L60pjP-AkCK22HmDzM5XA-B-B\", \"https://e-disclosure.ru/portal/event.aspx?EventId=LUOkVkB9rUynF1o2Ot4SwQ-B-B\", \"https://e-disclosure.ru/portal/event.aspx?EventId=6jn30QA1EUeJxRAUpke8IQ-B-B\", \"https://e-disclosure.ru/portal/event.aspx?EventId=0SWPrNOsHUW-CDiQ4NZeYKg-B-B\", \"https://e-disclosure.ru/portal/event.aspx?EventId=8nmN7hby0UWp7nDKWVyqsQ-B-B\", \"https://e-disclosure.ru/portal/event.aspx?EventId=HtPmRPLuH0-Cw1Hc1uAiFog-B-B\", \"https://e-disclosure.ru/portal/event.aspx?EventId=WsyMLDVZbUeLPdr-AeG-C1OA-B-B\", \"https://e-disclosure.ru/portal/event.aspx?EventId=jBpifA4GQkyiWgerx2hNOg-B-B\", \"https://e-disclosure.ru/portal/event.aspx?EventId=9VHh2VZFeUazUia06oNQKg-B-B\", \"https://e-disclosure.ru/portal/event.aspx?EventId=jq9rczGYFkikK45HoiGnLQ-B-B\", \"https://e-disclosure.ru/portal/event.aspx?EventId=gPCjAOMoZEe8xazm-CGomYA-B-B\", \"https://e-disclosure.ru/portal/event.aspx?EventId=448qNjSxvU2blTjTV6Kvkg-B-B\", \"https://e-disclosure.ru/portal/event.aspx?EventId=DAATEZMdmk6UJCPHREfYrw-B-B\", \"https://e-disclosure.ru/portal/event.aspx?EventId=0qEfbaISKE20Tv3BTi6n-CA-B-B\", \"https://e-disclosure.ru/portal/event.aspx?EventId=a3NTnjgvuEaS73TleMxgQg-B-B\", \"https://e-disclosure.ru/portal/event.aspx?EventId=OXd9LdJ3sEm6UGwXbJji5Q-B-B\", \"https://e-disclosure.ru/portal/event.aspx?EventId=-Axk-AMyXPcU6Ow4eykJ7Y6w-B-B\", \"https://e-disclosure.ru/portal/event.aspx?EventId=dIUgPBVhfE22Y9XeN4EmLg-B-B\", \"https://e-disclosure.ru/portal/event.aspx?EventId=IoHIHpcRPk692Rc6EAElLw-B-B\", \"https://e-disclosure.ru/portal/event.aspx?EventId=vVJCz7-AARECM2R3pXCtJpQ-B-B\", \"https://e-disclosure.ru/portal/event.aspx?EventId=OiGDscBvCEmeMc3KZmmuNA-B-B\", \"https://e-disclosure.ru/portal/event.aspx?EventId=-AJfxQafw0UOUVaEdJvRLJw-B-B\", \"https://e-disclosure.ru/portal/event.aspx?EventId=fFTixetZbkOrjB8ISbhCIw-B-B\", \"https://e-disclosure.ru/portal/event.aspx?EventId=PADFBV0RzkOm6hwaq0YsRQ-B-B\", \"https://e-disclosure.ru/portal/event.aspx?EventId=O-Cb2VL69Ok6aCA5Dgnbhhw-B-B\", \"https://e-disclosure.ru/portal/event.aspx?EventId=28AnasXpEkCAAPPRLN8qdg-B-B\", \"https://e-disclosure.ru/portal/event.aspx?EventId=2-AVFKKlYTUaSsvk0Jz72tw-B-B\", \"https://e-disclosure.ru/portal/event.aspx?EventId=DMPdUh2d3E2wXYXLbl3ijQ-B-B\"]"
     ]
    }
   ],
   "source": [
    "!head articles.json"
   ]
  },
  {
   "cell_type": "code",
   "execution_count": null,
   "metadata": {},
   "outputs": [],
   "source": []
  },
  {
   "cell_type": "code",
   "execution_count": 62,
   "metadata": {},
   "outputs": [
    {
     "name": "stderr",
     "output_type": "stream",
     "text": [
      " 87%|████████▋ | 436/500 [07:20<01:04,  1.01s/it]\n"
     ]
    },
    {
     "ename": "ConnectionError",
     "evalue": "HTTPSConnectionPool(host='e-disclosure.ru', port=443): Max retries exceeded with url: /portal/event.aspx?EventId=AcC8-AxU5a0OK-AMFViB9dAQ-B-B (Caused by NewConnectionError('<urllib3.connection.VerifiedHTTPSConnection object at 0x11f83a790>: Failed to establish a new connection: [Errno 61] Connection refused'))",
     "output_type": "error",
     "traceback": [
      "\u001b[0;31m---------------------------------------------------------------------------\u001b[0m",
      "\u001b[0;31mConnectionRefusedError\u001b[0m                    Traceback (most recent call last)",
      "\u001b[0;32m~/env/lib/python3.8/site-packages/urllib3/connection.py\u001b[0m in \u001b[0;36m_new_conn\u001b[0;34m(self)\u001b[0m\n\u001b[1;32m    157\u001b[0m         \u001b[0;32mtry\u001b[0m\u001b[0;34m:\u001b[0m\u001b[0;34m\u001b[0m\u001b[0;34m\u001b[0m\u001b[0m\n\u001b[0;32m--> 158\u001b[0;31m             conn = connection.create_connection(\n\u001b[0m\u001b[1;32m    159\u001b[0m                 (self._dns_host, self.port), self.timeout, **extra_kw)\n",
      "\u001b[0;32m~/env/lib/python3.8/site-packages/urllib3/util/connection.py\u001b[0m in \u001b[0;36mcreate_connection\u001b[0;34m(address, timeout, source_address, socket_options)\u001b[0m\n\u001b[1;32m     79\u001b[0m     \u001b[0;32mif\u001b[0m \u001b[0merr\u001b[0m \u001b[0;32mis\u001b[0m \u001b[0;32mnot\u001b[0m \u001b[0;32mNone\u001b[0m\u001b[0;34m:\u001b[0m\u001b[0;34m\u001b[0m\u001b[0;34m\u001b[0m\u001b[0m\n\u001b[0;32m---> 80\u001b[0;31m         \u001b[0;32mraise\u001b[0m \u001b[0merr\u001b[0m\u001b[0;34m\u001b[0m\u001b[0;34m\u001b[0m\u001b[0m\n\u001b[0m\u001b[1;32m     81\u001b[0m \u001b[0;34m\u001b[0m\u001b[0m\n",
      "\u001b[0;32m~/env/lib/python3.8/site-packages/urllib3/util/connection.py\u001b[0m in \u001b[0;36mcreate_connection\u001b[0;34m(address, timeout, source_address, socket_options)\u001b[0m\n\u001b[1;32m     69\u001b[0m                 \u001b[0msock\u001b[0m\u001b[0;34m.\u001b[0m\u001b[0mbind\u001b[0m\u001b[0;34m(\u001b[0m\u001b[0msource_address\u001b[0m\u001b[0;34m)\u001b[0m\u001b[0;34m\u001b[0m\u001b[0;34m\u001b[0m\u001b[0m\n\u001b[0;32m---> 70\u001b[0;31m             \u001b[0msock\u001b[0m\u001b[0;34m.\u001b[0m\u001b[0mconnect\u001b[0m\u001b[0;34m(\u001b[0m\u001b[0msa\u001b[0m\u001b[0;34m)\u001b[0m\u001b[0;34m\u001b[0m\u001b[0;34m\u001b[0m\u001b[0m\n\u001b[0m\u001b[1;32m     71\u001b[0m             \u001b[0;32mreturn\u001b[0m \u001b[0msock\u001b[0m\u001b[0;34m\u001b[0m\u001b[0;34m\u001b[0m\u001b[0m\n",
      "\u001b[0;31mConnectionRefusedError\u001b[0m: [Errno 61] Connection refused",
      "\nDuring handling of the above exception, another exception occurred:\n",
      "\u001b[0;31mNewConnectionError\u001b[0m                        Traceback (most recent call last)",
      "\u001b[0;32m~/env/lib/python3.8/site-packages/urllib3/connectionpool.py\u001b[0m in \u001b[0;36murlopen\u001b[0;34m(self, method, url, body, headers, retries, redirect, assert_same_host, timeout, pool_timeout, release_conn, chunked, body_pos, **response_kw)\u001b[0m\n\u001b[1;32m    596\u001b[0m             \u001b[0;31m# Make the request on the httplib connection object.\u001b[0m\u001b[0;34m\u001b[0m\u001b[0;34m\u001b[0m\u001b[0;34m\u001b[0m\u001b[0m\n\u001b[0;32m--> 597\u001b[0;31m             httplib_response = self._make_request(conn, method, url,\n\u001b[0m\u001b[1;32m    598\u001b[0m                                                   \u001b[0mtimeout\u001b[0m\u001b[0;34m=\u001b[0m\u001b[0mtimeout_obj\u001b[0m\u001b[0;34m,\u001b[0m\u001b[0;34m\u001b[0m\u001b[0;34m\u001b[0m\u001b[0m\n",
      "\u001b[0;32m~/env/lib/python3.8/site-packages/urllib3/connectionpool.py\u001b[0m in \u001b[0;36m_make_request\u001b[0;34m(self, conn, method, url, timeout, chunked, **httplib_request_kw)\u001b[0m\n\u001b[1;32m    342\u001b[0m         \u001b[0;32mtry\u001b[0m\u001b[0;34m:\u001b[0m\u001b[0;34m\u001b[0m\u001b[0;34m\u001b[0m\u001b[0m\n\u001b[0;32m--> 343\u001b[0;31m             \u001b[0mself\u001b[0m\u001b[0;34m.\u001b[0m\u001b[0m_validate_conn\u001b[0m\u001b[0;34m(\u001b[0m\u001b[0mconn\u001b[0m\u001b[0;34m)\u001b[0m\u001b[0;34m\u001b[0m\u001b[0;34m\u001b[0m\u001b[0m\n\u001b[0m\u001b[1;32m    344\u001b[0m         \u001b[0;32mexcept\u001b[0m \u001b[0;34m(\u001b[0m\u001b[0mSocketTimeout\u001b[0m\u001b[0;34m,\u001b[0m \u001b[0mBaseSSLError\u001b[0m\u001b[0;34m)\u001b[0m \u001b[0;32mas\u001b[0m \u001b[0me\u001b[0m\u001b[0;34m:\u001b[0m\u001b[0;34m\u001b[0m\u001b[0;34m\u001b[0m\u001b[0m\n",
      "\u001b[0;32m~/env/lib/python3.8/site-packages/urllib3/connectionpool.py\u001b[0m in \u001b[0;36m_validate_conn\u001b[0;34m(self, conn)\u001b[0m\n\u001b[1;32m    838\u001b[0m         \u001b[0;32mif\u001b[0m \u001b[0;32mnot\u001b[0m \u001b[0mgetattr\u001b[0m\u001b[0;34m(\u001b[0m\u001b[0mconn\u001b[0m\u001b[0;34m,\u001b[0m \u001b[0;34m'sock'\u001b[0m\u001b[0;34m,\u001b[0m \u001b[0;32mNone\u001b[0m\u001b[0;34m)\u001b[0m\u001b[0;34m:\u001b[0m  \u001b[0;31m# AppEngine might not have  `.sock`\u001b[0m\u001b[0;34m\u001b[0m\u001b[0;34m\u001b[0m\u001b[0m\n\u001b[0;32m--> 839\u001b[0;31m             \u001b[0mconn\u001b[0m\u001b[0;34m.\u001b[0m\u001b[0mconnect\u001b[0m\u001b[0;34m(\u001b[0m\u001b[0;34m)\u001b[0m\u001b[0;34m\u001b[0m\u001b[0;34m\u001b[0m\u001b[0m\n\u001b[0m\u001b[1;32m    840\u001b[0m \u001b[0;34m\u001b[0m\u001b[0m\n",
      "\u001b[0;32m~/env/lib/python3.8/site-packages/urllib3/connection.py\u001b[0m in \u001b[0;36mconnect\u001b[0;34m(self)\u001b[0m\n\u001b[1;32m    300\u001b[0m         \u001b[0;31m# Add certificate verification\u001b[0m\u001b[0;34m\u001b[0m\u001b[0;34m\u001b[0m\u001b[0;34m\u001b[0m\u001b[0m\n\u001b[0;32m--> 301\u001b[0;31m         \u001b[0mconn\u001b[0m \u001b[0;34m=\u001b[0m \u001b[0mself\u001b[0m\u001b[0;34m.\u001b[0m\u001b[0m_new_conn\u001b[0m\u001b[0;34m(\u001b[0m\u001b[0;34m)\u001b[0m\u001b[0;34m\u001b[0m\u001b[0;34m\u001b[0m\u001b[0m\n\u001b[0m\u001b[1;32m    302\u001b[0m         \u001b[0mhostname\u001b[0m \u001b[0;34m=\u001b[0m \u001b[0mself\u001b[0m\u001b[0;34m.\u001b[0m\u001b[0mhost\u001b[0m\u001b[0;34m\u001b[0m\u001b[0;34m\u001b[0m\u001b[0m\n",
      "\u001b[0;32m~/env/lib/python3.8/site-packages/urllib3/connection.py\u001b[0m in \u001b[0;36m_new_conn\u001b[0;34m(self)\u001b[0m\n\u001b[1;32m    166\u001b[0m         \u001b[0;32mexcept\u001b[0m \u001b[0mSocketError\u001b[0m \u001b[0;32mas\u001b[0m \u001b[0me\u001b[0m\u001b[0;34m:\u001b[0m\u001b[0;34m\u001b[0m\u001b[0;34m\u001b[0m\u001b[0m\n\u001b[0;32m--> 167\u001b[0;31m             raise NewConnectionError(\n\u001b[0m\u001b[1;32m    168\u001b[0m                 self, \"Failed to establish a new connection: %s\" % e)\n",
      "\u001b[0;31mNewConnectionError\u001b[0m: <urllib3.connection.VerifiedHTTPSConnection object at 0x11f83a790>: Failed to establish a new connection: [Errno 61] Connection refused",
      "\nDuring handling of the above exception, another exception occurred:\n",
      "\u001b[0;31mMaxRetryError\u001b[0m                             Traceback (most recent call last)",
      "\u001b[0;32m~/env/lib/python3.8/site-packages/requests/adapters.py\u001b[0m in \u001b[0;36msend\u001b[0;34m(self, request, stream, timeout, verify, cert, proxies)\u001b[0m\n\u001b[1;32m    438\u001b[0m             \u001b[0;32mif\u001b[0m \u001b[0;32mnot\u001b[0m \u001b[0mchunked\u001b[0m\u001b[0;34m:\u001b[0m\u001b[0;34m\u001b[0m\u001b[0;34m\u001b[0m\u001b[0m\n\u001b[0;32m--> 439\u001b[0;31m                 resp = conn.urlopen(\n\u001b[0m\u001b[1;32m    440\u001b[0m                     \u001b[0mmethod\u001b[0m\u001b[0;34m=\u001b[0m\u001b[0mrequest\u001b[0m\u001b[0;34m.\u001b[0m\u001b[0mmethod\u001b[0m\u001b[0;34m,\u001b[0m\u001b[0;34m\u001b[0m\u001b[0;34m\u001b[0m\u001b[0m\n",
      "\u001b[0;32m~/env/lib/python3.8/site-packages/urllib3/connectionpool.py\u001b[0m in \u001b[0;36murlopen\u001b[0;34m(self, method, url, body, headers, retries, redirect, assert_same_host, timeout, pool_timeout, release_conn, chunked, body_pos, **response_kw)\u001b[0m\n\u001b[1;32m    636\u001b[0m \u001b[0;34m\u001b[0m\u001b[0m\n\u001b[0;32m--> 637\u001b[0;31m             retries = retries.increment(method, url, error=e, _pool=self,\n\u001b[0m\u001b[1;32m    638\u001b[0m                                         _stacktrace=sys.exc_info()[2])\n",
      "\u001b[0;32m~/env/lib/python3.8/site-packages/urllib3/util/retry.py\u001b[0m in \u001b[0;36mincrement\u001b[0;34m(self, method, url, response, error, _pool, _stacktrace)\u001b[0m\n\u001b[1;32m    398\u001b[0m         \u001b[0;32mif\u001b[0m \u001b[0mnew_retry\u001b[0m\u001b[0;34m.\u001b[0m\u001b[0mis_exhausted\u001b[0m\u001b[0;34m(\u001b[0m\u001b[0;34m)\u001b[0m\u001b[0;34m:\u001b[0m\u001b[0;34m\u001b[0m\u001b[0;34m\u001b[0m\u001b[0m\n\u001b[0;32m--> 399\u001b[0;31m             \u001b[0;32mraise\u001b[0m \u001b[0mMaxRetryError\u001b[0m\u001b[0;34m(\u001b[0m\u001b[0m_pool\u001b[0m\u001b[0;34m,\u001b[0m \u001b[0murl\u001b[0m\u001b[0;34m,\u001b[0m \u001b[0merror\u001b[0m \u001b[0;32mor\u001b[0m \u001b[0mResponseError\u001b[0m\u001b[0;34m(\u001b[0m\u001b[0mcause\u001b[0m\u001b[0;34m)\u001b[0m\u001b[0;34m)\u001b[0m\u001b[0;34m\u001b[0m\u001b[0;34m\u001b[0m\u001b[0m\n\u001b[0m\u001b[1;32m    400\u001b[0m \u001b[0;34m\u001b[0m\u001b[0m\n",
      "\u001b[0;31mMaxRetryError\u001b[0m: HTTPSConnectionPool(host='e-disclosure.ru', port=443): Max retries exceeded with url: /portal/event.aspx?EventId=AcC8-AxU5a0OK-AMFViB9dAQ-B-B (Caused by NewConnectionError('<urllib3.connection.VerifiedHTTPSConnection object at 0x11f83a790>: Failed to establish a new connection: [Errno 61] Connection refused'))",
      "\nDuring handling of the above exception, another exception occurred:\n",
      "\u001b[0;31mConnectionError\u001b[0m                           Traceback (most recent call last)",
      "\u001b[0;32m<ipython-input-62-787619d897f2>\u001b[0m in \u001b[0;36m<module>\u001b[0;34m\u001b[0m\n\u001b[1;32m      5\u001b[0m \u001b[0;32mfor\u001b[0m \u001b[0mi\u001b[0m\u001b[0;34m,\u001b[0m \u001b[0marticle\u001b[0m \u001b[0;32min\u001b[0m \u001b[0mtqdm\u001b[0m\u001b[0;34m(\u001b[0m\u001b[0menumerate\u001b[0m\u001b[0;34m(\u001b[0m\u001b[0marticles\u001b[0m\u001b[0;34m)\u001b[0m\u001b[0;34m,\u001b[0m \u001b[0mtotal\u001b[0m\u001b[0;34m=\u001b[0m\u001b[0mlen\u001b[0m\u001b[0;34m(\u001b[0m\u001b[0marticles\u001b[0m\u001b[0;34m)\u001b[0m\u001b[0;34m)\u001b[0m\u001b[0;34m:\u001b[0m\u001b[0;34m\u001b[0m\u001b[0;34m\u001b[0m\u001b[0m\n\u001b[1;32m      6\u001b[0m     \u001b[0;32mwith\u001b[0m \u001b[0mopen\u001b[0m\u001b[0;34m(\u001b[0m\u001b[0mos\u001b[0m\u001b[0;34m.\u001b[0m\u001b[0mpath\u001b[0m\u001b[0;34m.\u001b[0m\u001b[0mjoin\u001b[0m\u001b[0;34m(\u001b[0m\u001b[0;34m\"pages\"\u001b[0m\u001b[0;34m,\u001b[0m \u001b[0;34mf\"{i}_artice\"\u001b[0m\u001b[0;34m)\u001b[0m\u001b[0;34m,\u001b[0m \u001b[0;34m\"w\"\u001b[0m\u001b[0;34m)\u001b[0m \u001b[0;32mas\u001b[0m \u001b[0mf\u001b[0m\u001b[0;34m:\u001b[0m\u001b[0;34m\u001b[0m\u001b[0;34m\u001b[0m\u001b[0m\n\u001b[0;32m----> 7\u001b[0;31m         \u001b[0mf\u001b[0m\u001b[0;34m.\u001b[0m\u001b[0mwrite\u001b[0m\u001b[0;34m(\u001b[0m\u001b[0mrequests\u001b[0m\u001b[0;34m.\u001b[0m\u001b[0mget\u001b[0m\u001b[0;34m(\u001b[0m\u001b[0marticle\u001b[0m\u001b[0;34m)\u001b[0m\u001b[0;34m.\u001b[0m\u001b[0mcontent\u001b[0m\u001b[0;34m.\u001b[0m\u001b[0mdecode\u001b[0m\u001b[0;34m(\u001b[0m\u001b[0;34m\"utf-8\"\u001b[0m\u001b[0;34m)\u001b[0m\u001b[0;34m)\u001b[0m\u001b[0;34m\u001b[0m\u001b[0;34m\u001b[0m\u001b[0m\n\u001b[0m",
      "\u001b[0;32m~/env/lib/python3.8/site-packages/requests/api.py\u001b[0m in \u001b[0;36mget\u001b[0;34m(url, params, **kwargs)\u001b[0m\n\u001b[1;32m     74\u001b[0m \u001b[0;34m\u001b[0m\u001b[0m\n\u001b[1;32m     75\u001b[0m     \u001b[0mkwargs\u001b[0m\u001b[0;34m.\u001b[0m\u001b[0msetdefault\u001b[0m\u001b[0;34m(\u001b[0m\u001b[0;34m'allow_redirects'\u001b[0m\u001b[0;34m,\u001b[0m \u001b[0;32mTrue\u001b[0m\u001b[0;34m)\u001b[0m\u001b[0;34m\u001b[0m\u001b[0;34m\u001b[0m\u001b[0m\n\u001b[0;32m---> 76\u001b[0;31m     \u001b[0;32mreturn\u001b[0m \u001b[0mrequest\u001b[0m\u001b[0;34m(\u001b[0m\u001b[0;34m'get'\u001b[0m\u001b[0;34m,\u001b[0m \u001b[0murl\u001b[0m\u001b[0;34m,\u001b[0m \u001b[0mparams\u001b[0m\u001b[0;34m=\u001b[0m\u001b[0mparams\u001b[0m\u001b[0;34m,\u001b[0m \u001b[0;34m**\u001b[0m\u001b[0mkwargs\u001b[0m\u001b[0;34m)\u001b[0m\u001b[0;34m\u001b[0m\u001b[0;34m\u001b[0m\u001b[0m\n\u001b[0m\u001b[1;32m     77\u001b[0m \u001b[0;34m\u001b[0m\u001b[0m\n\u001b[1;32m     78\u001b[0m \u001b[0;34m\u001b[0m\u001b[0m\n",
      "\u001b[0;32m~/env/lib/python3.8/site-packages/requests/api.py\u001b[0m in \u001b[0;36mrequest\u001b[0;34m(method, url, **kwargs)\u001b[0m\n\u001b[1;32m     59\u001b[0m     \u001b[0;31m# cases, and look like a memory leak in others.\u001b[0m\u001b[0;34m\u001b[0m\u001b[0;34m\u001b[0m\u001b[0;34m\u001b[0m\u001b[0m\n\u001b[1;32m     60\u001b[0m     \u001b[0;32mwith\u001b[0m \u001b[0msessions\u001b[0m\u001b[0;34m.\u001b[0m\u001b[0mSession\u001b[0m\u001b[0;34m(\u001b[0m\u001b[0;34m)\u001b[0m \u001b[0;32mas\u001b[0m \u001b[0msession\u001b[0m\u001b[0;34m:\u001b[0m\u001b[0;34m\u001b[0m\u001b[0;34m\u001b[0m\u001b[0m\n\u001b[0;32m---> 61\u001b[0;31m         \u001b[0;32mreturn\u001b[0m \u001b[0msession\u001b[0m\u001b[0;34m.\u001b[0m\u001b[0mrequest\u001b[0m\u001b[0;34m(\u001b[0m\u001b[0mmethod\u001b[0m\u001b[0;34m=\u001b[0m\u001b[0mmethod\u001b[0m\u001b[0;34m,\u001b[0m \u001b[0murl\u001b[0m\u001b[0;34m=\u001b[0m\u001b[0murl\u001b[0m\u001b[0;34m,\u001b[0m \u001b[0;34m**\u001b[0m\u001b[0mkwargs\u001b[0m\u001b[0;34m)\u001b[0m\u001b[0;34m\u001b[0m\u001b[0;34m\u001b[0m\u001b[0m\n\u001b[0m\u001b[1;32m     62\u001b[0m \u001b[0;34m\u001b[0m\u001b[0m\n\u001b[1;32m     63\u001b[0m \u001b[0;34m\u001b[0m\u001b[0m\n",
      "\u001b[0;32m~/env/lib/python3.8/site-packages/requests/sessions.py\u001b[0m in \u001b[0;36mrequest\u001b[0;34m(self, method, url, params, data, headers, cookies, files, auth, timeout, allow_redirects, proxies, hooks, stream, verify, cert, json)\u001b[0m\n\u001b[1;32m    528\u001b[0m         }\n\u001b[1;32m    529\u001b[0m         \u001b[0msend_kwargs\u001b[0m\u001b[0;34m.\u001b[0m\u001b[0mupdate\u001b[0m\u001b[0;34m(\u001b[0m\u001b[0msettings\u001b[0m\u001b[0;34m)\u001b[0m\u001b[0;34m\u001b[0m\u001b[0;34m\u001b[0m\u001b[0m\n\u001b[0;32m--> 530\u001b[0;31m         \u001b[0mresp\u001b[0m \u001b[0;34m=\u001b[0m \u001b[0mself\u001b[0m\u001b[0;34m.\u001b[0m\u001b[0msend\u001b[0m\u001b[0;34m(\u001b[0m\u001b[0mprep\u001b[0m\u001b[0;34m,\u001b[0m \u001b[0;34m**\u001b[0m\u001b[0msend_kwargs\u001b[0m\u001b[0;34m)\u001b[0m\u001b[0;34m\u001b[0m\u001b[0;34m\u001b[0m\u001b[0m\n\u001b[0m\u001b[1;32m    531\u001b[0m \u001b[0;34m\u001b[0m\u001b[0m\n\u001b[1;32m    532\u001b[0m         \u001b[0;32mreturn\u001b[0m \u001b[0mresp\u001b[0m\u001b[0;34m\u001b[0m\u001b[0;34m\u001b[0m\u001b[0m\n",
      "\u001b[0;32m~/env/lib/python3.8/site-packages/requests/sessions.py\u001b[0m in \u001b[0;36msend\u001b[0;34m(self, request, **kwargs)\u001b[0m\n\u001b[1;32m    641\u001b[0m \u001b[0;34m\u001b[0m\u001b[0m\n\u001b[1;32m    642\u001b[0m         \u001b[0;31m# Send the request\u001b[0m\u001b[0;34m\u001b[0m\u001b[0;34m\u001b[0m\u001b[0;34m\u001b[0m\u001b[0m\n\u001b[0;32m--> 643\u001b[0;31m         \u001b[0mr\u001b[0m \u001b[0;34m=\u001b[0m \u001b[0madapter\u001b[0m\u001b[0;34m.\u001b[0m\u001b[0msend\u001b[0m\u001b[0;34m(\u001b[0m\u001b[0mrequest\u001b[0m\u001b[0;34m,\u001b[0m \u001b[0;34m**\u001b[0m\u001b[0mkwargs\u001b[0m\u001b[0;34m)\u001b[0m\u001b[0;34m\u001b[0m\u001b[0;34m\u001b[0m\u001b[0m\n\u001b[0m\u001b[1;32m    644\u001b[0m \u001b[0;34m\u001b[0m\u001b[0m\n\u001b[1;32m    645\u001b[0m         \u001b[0;31m# Total elapsed time of the request (approximately)\u001b[0m\u001b[0;34m\u001b[0m\u001b[0;34m\u001b[0m\u001b[0;34m\u001b[0m\u001b[0m\n",
      "\u001b[0;32m~/env/lib/python3.8/site-packages/requests/adapters.py\u001b[0m in \u001b[0;36msend\u001b[0;34m(self, request, stream, timeout, verify, cert, proxies)\u001b[0m\n\u001b[1;32m    514\u001b[0m                 \u001b[0;32mraise\u001b[0m \u001b[0mSSLError\u001b[0m\u001b[0;34m(\u001b[0m\u001b[0me\u001b[0m\u001b[0;34m,\u001b[0m \u001b[0mrequest\u001b[0m\u001b[0;34m=\u001b[0m\u001b[0mrequest\u001b[0m\u001b[0;34m)\u001b[0m\u001b[0;34m\u001b[0m\u001b[0;34m\u001b[0m\u001b[0m\n\u001b[1;32m    515\u001b[0m \u001b[0;34m\u001b[0m\u001b[0m\n\u001b[0;32m--> 516\u001b[0;31m             \u001b[0;32mraise\u001b[0m \u001b[0mConnectionError\u001b[0m\u001b[0;34m(\u001b[0m\u001b[0me\u001b[0m\u001b[0;34m,\u001b[0m \u001b[0mrequest\u001b[0m\u001b[0;34m=\u001b[0m\u001b[0mrequest\u001b[0m\u001b[0;34m)\u001b[0m\u001b[0;34m\u001b[0m\u001b[0;34m\u001b[0m\u001b[0m\n\u001b[0m\u001b[1;32m    517\u001b[0m \u001b[0;34m\u001b[0m\u001b[0m\n\u001b[1;32m    518\u001b[0m         \u001b[0;32mexcept\u001b[0m \u001b[0mClosedPoolError\u001b[0m \u001b[0;32mas\u001b[0m \u001b[0me\u001b[0m\u001b[0;34m:\u001b[0m\u001b[0;34m\u001b[0m\u001b[0;34m\u001b[0m\u001b[0m\n",
      "\u001b[0;31mConnectionError\u001b[0m: HTTPSConnectionPool(host='e-disclosure.ru', port=443): Max retries exceeded with url: /portal/event.aspx?EventId=AcC8-AxU5a0OK-AMFViB9dAQ-B-B (Caused by NewConnectionError('<urllib3.connection.VerifiedHTTPSConnection object at 0x11f83a790>: Failed to establish a new connection: [Errno 61] Connection refused'))"
     ]
    }
   ],
   "source": [
    "from tqdm import tqdm\n",
    "os.makedirs(\"pages\", exist_ok=True)\n",
    "articles = articles[:500]\n",
    "\n",
    "for i, article in tqdm(enumerate(articles), total=len(articles)):\n",
    "    with open(os.path.join(\"pages\", f\"{i}_artice\"), \"w\") as f:\n",
    "        f.write(requests.get(article).content.decode(\"utf-8\"))"
   ]
  },
  {
   "cell_type": "markdown",
   "metadata": {},
   "source": [
    "подбанили походу"
   ]
  },
  {
   "cell_type": "code",
   "execution_count": null,
   "metadata": {},
   "outputs": [],
   "source": []
  },
  {
   "cell_type": "code",
   "execution_count": null,
   "metadata": {},
   "outputs": [],
   "source": []
  },
  {
   "cell_type": "code",
   "execution_count": 101,
   "metadata": {},
   "outputs": [
    {
     "name": "stderr",
     "output_type": "stream",
     "text": [
      "100%|██████████| 438/438 [00:11<00:00, 38.69it/s]"
     ]
    },
    {
     "name": "stdout",
     "output_type": "stream",
     "text": [
      "have erros - 2\n"
     ]
    },
    {
     "name": "stderr",
     "output_type": "stream",
     "text": [
      "\n"
     ]
    },
    {
     "data": {
      "text/html": [
       "<div>\n",
       "<style scoped>\n",
       "    .dataframe tbody tr th:only-of-type {\n",
       "        vertical-align: middle;\n",
       "    }\n",
       "\n",
       "    .dataframe tbody tr th {\n",
       "        vertical-align: top;\n",
       "    }\n",
       "\n",
       "    .dataframe thead th {\n",
       "        text-align: right;\n",
       "    }\n",
       "</style>\n",
       "<table border=\"1\" class=\"dataframe\">\n",
       "  <thead>\n",
       "    <tr style=\"text-align: right;\">\n",
       "      <th></th>\n",
       "      <th>href</th>\n",
       "      <th>text</th>\n",
       "    </tr>\n",
       "  </thead>\n",
       "  <tbody>\n",
       "    <tr>\n",
       "      <th>0</th>\n",
       "      <td>https://e-disclosure.ru/portal/event.aspx?Even...</td>\n",
       "      <td>\\n            Раскрытие в сети Интернет списка...</td>\n",
       "    </tr>\n",
       "    <tr>\n",
       "      <th>1</th>\n",
       "      <td>https://e-disclosure.ru/portal/event.aspx?Even...</td>\n",
       "      <td>\\n            Решения совета директоров (наблю...</td>\n",
       "    </tr>\n",
       "    <tr>\n",
       "      <th>2</th>\n",
       "      <td>https://e-disclosure.ru/portal/event.aspx?Even...</td>\n",
       "      <td>\\n\\nРаскрытие в сети Интернет списка аффилиров...</td>\n",
       "    </tr>\n",
       "    <tr>\n",
       "      <th>3</th>\n",
       "      <td>https://e-disclosure.ru/portal/event.aspx?Even...</td>\n",
       "      <td>\\n            Созыв общего собрания участников...</td>\n",
       "    </tr>\n",
       "    <tr>\n",
       "      <th>4</th>\n",
       "      <td>https://e-disclosure.ru/portal/event.aspx?Even...</td>\n",
       "      <td>\\n\\nРаскрытие в сети Интернет списка аффилиров...</td>\n",
       "    </tr>\n",
       "  </tbody>\n",
       "</table>\n",
       "</div>"
      ],
      "text/plain": [
       "                                                href  \\\n",
       "0  https://e-disclosure.ru/portal/event.aspx?Even...   \n",
       "1  https://e-disclosure.ru/portal/event.aspx?Even...   \n",
       "2  https://e-disclosure.ru/portal/event.aspx?Even...   \n",
       "3  https://e-disclosure.ru/portal/event.aspx?Even...   \n",
       "4  https://e-disclosure.ru/portal/event.aspx?Even...   \n",
       "\n",
       "                                                text  \n",
       "0  \\n            Раскрытие в сети Интернет списка...  \n",
       "1  \\n            Решения совета директоров (наблю...  \n",
       "2  \\n\\nРаскрытие в сети Интернет списка аффилиров...  \n",
       "3  \\n            Созыв общего собрания участников...  \n",
       "4  \\n\\nРаскрытие в сети Интернет списка аффилиров...  "
      ]
     },
     "execution_count": 101,
     "metadata": {},
     "output_type": "execute_result"
    }
   ],
   "source": [
    "texts_df = []\n",
    "errors = 0\n",
    "\n",
    "for i, page_file in enumerate(tqdm(os.listdir(\"pages\"))):\n",
    "    try:\n",
    "        with open(os.path.join(\"pages\", page_file), \"r\") as f:\n",
    "            page = BeautifulSoup(f.read(), \"lxml\")\n",
    "\n",
    "        texts = list(list(page.find_all(\"div\", {\"id\": \"cont_wrap\"})[0].children)[3].children)        \n",
    "        texts = '\\n'.join(text for text in texts if type(text) is bs4.element.NavigableString)\n",
    "        \n",
    "        texts_df.append([articles[i], texts])\n",
    "    except:\n",
    "        errors += 1\n",
    "        pass\n",
    "\n",
    "print(f\"have erros - {errors}\")\n",
    "texts_df = pd.DataFrame(texts_df, columns=[\"href\", \"text\"])\n",
    "texts_df.head()"
   ]
  },
  {
   "cell_type": "code",
   "execution_count": 109,
   "metadata": {},
   "outputs": [
    {
     "name": "stdout",
     "output_type": "stream",
     "text": [
      "\n",
      "            Раскрытие в сети Интернет списка аффилированных лиц\n",
      "\n",
      "\n",
      "\n",
      "1. Общие сведения\n",
      "\n",
      "1.1. Полное фирменное наименование эмитента (для некоммерческой организации – наименование): Акционерное общество \"ПромИнТех\"\n",
      "\n",
      "1.2. Сокращенное фирменное наименование эмитента: АО \"ПромИнТех\"\n",
      "\n",
      "1.3. Место нахождения эмитента: 693012, Сахалинская область, г. Южно-Сахалинск, переулок Энергетиков,д.3/4, строение 1.\n",
      "\n",
      "1.4. ОГРН эмитента: 1142468062000\n",
      "\n",
      "1.5. ИНН эмитента: 6501271228\n",
      "\n",
      "1.6. Уникальный код эмитента, присвоенный регистрирующим органом: 13255-F\n",
      "\n",
      "1.7. Адрес страницы в сети Интернет, используемой эмитентом для раскрытия информации: http://www.e-disclosure.ru/portal/company.aspx?id=35065\n",
      "\n",
      "1.8. Дата наступления события (существенного факта), о котором составлено сообщение: 31.12.2020\n",
      "\n",
      "\n",
      "\n",
      "2. Содержание сообщения\n",
      "\n",
      "2.1. Вид документа, текст которого опубликован на странице в сети Интернет: список аффилированных лиц на дату 31.12.2020\n",
      "\n",
      "2.2. Дата опубликования текста документа на странице в сети Интернет, используемой эмитентом для раскрытия информации: 31.12.2020.\n",
      "\n",
      "\n",
      "\n",
      "3. Подпись\n",
      "\n",
      "3.1. Генеральный директор\n",
      "\n",
      "А.М. Бойко\n",
      "\n",
      "\n",
      "\n",
      "\n",
      "\n",
      "3.2. Дата 31.12.2020г.\n",
      "        \n"
     ]
    }
   ],
   "source": [
    "print(texts_df.iloc[0]['text'])"
   ]
  },
  {
   "cell_type": "code",
   "execution_count": 4,
   "metadata": {},
   "outputs": [
    {
     "data": {
      "text/html": [
       "<div>\n",
       "<style scoped>\n",
       "    .dataframe tbody tr th:only-of-type {\n",
       "        vertical-align: middle;\n",
       "    }\n",
       "\n",
       "    .dataframe tbody tr th {\n",
       "        vertical-align: top;\n",
       "    }\n",
       "\n",
       "    .dataframe thead th {\n",
       "        text-align: right;\n",
       "    }\n",
       "</style>\n",
       "<table border=\"1\" class=\"dataframe\">\n",
       "  <thead>\n",
       "    <tr style=\"text-align: right;\">\n",
       "      <th></th>\n",
       "      <th>href</th>\n",
       "      <th>text</th>\n",
       "    </tr>\n",
       "  </thead>\n",
       "  <tbody>\n",
       "    <tr>\n",
       "      <th>0</th>\n",
       "      <td>https://e-disclosure.ru/portal/event.aspx?Even...</td>\n",
       "      <td>\\n            Решения общих собраний участнико...</td>\n",
       "    </tr>\n",
       "    <tr>\n",
       "      <th>1</th>\n",
       "      <td>https://e-disclosure.ru/portal/event.aspx?Even...</td>\n",
       "      <td>\\n            Решения общих собраний участнико...</td>\n",
       "    </tr>\n",
       "    <tr>\n",
       "      <th>2</th>\n",
       "      <td>https://e-disclosure.ru/portal/event.aspx?Even...</td>\n",
       "      <td>\\n            Решения общих собраний участнико...</td>\n",
       "    </tr>\n",
       "    <tr>\n",
       "      <th>3</th>\n",
       "      <td>https://e-disclosure.ru/portal/event.aspx?Even...</td>\n",
       "      <td>\\n            Решения общих собраний участнико...</td>\n",
       "    </tr>\n",
       "    <tr>\n",
       "      <th>4</th>\n",
       "      <td>https://e-disclosure.ru/portal/event.aspx?Even...</td>\n",
       "      <td>\\n            Сообщение о существенном факте \"...</td>\n",
       "    </tr>\n",
       "  </tbody>\n",
       "</table>\n",
       "</div>"
      ],
      "text/plain": [
       "                                                href  \\\n",
       "0  https://e-disclosure.ru/portal/event.aspx?Even...   \n",
       "1  https://e-disclosure.ru/portal/event.aspx?Even...   \n",
       "2  https://e-disclosure.ru/portal/event.aspx?Even...   \n",
       "3  https://e-disclosure.ru/portal/event.aspx?Even...   \n",
       "4  https://e-disclosure.ru/portal/event.aspx?Even...   \n",
       "\n",
       "                                                text  \n",
       "0  \\n            Решения общих собраний участнико...  \n",
       "1  \\n            Решения общих собраний участнико...  \n",
       "2  \\n            Решения общих собраний участнико...  \n",
       "3  \\n            Решения общих собраний участнико...  \n",
       "4  \\n            Сообщение о существенном факте \"...  "
      ]
     },
     "execution_count": 4,
     "metadata": {},
     "output_type": "execute_result"
    }
   ],
   "source": [
    "texts_df = pd.read_parquet('../data/parsed_texts.parquet')\n",
    "texts_df.head()"
   ]
  },
  {
   "cell_type": "code",
   "execution_count": 9,
   "metadata": {},
   "outputs": [
    {
     "data": {
      "text/plain": [
       "<AxesSubplot:>"
      ]
     },
     "execution_count": 9,
     "metadata": {},
     "output_type": "execute_result"
    },
    {
     "data": {
      "image/png": "[encoded data removed]",
      "text/plain": [
       "<Figure size 432x288 with 1 Axes>"
      ]
     },
     "metadata": {
      "needs_background": "light"
     },
     "output_type": "display_data"
    }
   ],
   "source": [
    "texts_df['len'] = texts_df['text'].str.len()\n",
    "texts_df[texts_df.len.lt(20_000)]['len'].hist(bins=20)"
   ]
  },
  {
   "cell_type": "code",
   "execution_count": 10,
   "metadata": {},
   "outputs": [
    {
     "data": {
      "text/html": [
       "<div>\n",
       "<style scoped>\n",
       "    .dataframe tbody tr th:only-of-type {\n",
       "        vertical-align: middle;\n",
       "    }\n",
       "\n",
       "    .dataframe tbody tr th {\n",
       "        vertical-align: top;\n",
       "    }\n",
       "\n",
       "    .dataframe thead th {\n",
       "        text-align: right;\n",
       "    }\n",
       "</style>\n",
       "<table border=\"1\" class=\"dataframe\">\n",
       "  <thead>\n",
       "    <tr style=\"text-align: right;\">\n",
       "      <th></th>\n",
       "      <th>href</th>\n",
       "      <th>text</th>\n",
       "      <th>len</th>\n",
       "    </tr>\n",
       "  </thead>\n",
       "  <tbody>\n",
       "    <tr>\n",
       "      <th>153</th>\n",
       "      <td>https://e-disclosure.ru/portal/event.aspx?Even...</td>\n",
       "      <td>\\n            Решения общих собраний участнико...</td>\n",
       "      <td>1824</td>\n",
       "    </tr>\n",
       "    <tr>\n",
       "      <th>164</th>\n",
       "      <td>https://e-disclosure.ru/portal/event.aspx?Even...</td>\n",
       "      <td>\\n            Решения общих собраний участнико...</td>\n",
       "      <td>2157</td>\n",
       "    </tr>\n",
       "    <tr>\n",
       "      <th>336</th>\n",
       "      <td>https://e-disclosure.ru/portal/event.aspx?Even...</td>\n",
       "      <td>\\n            Решения общих собраний участнико...</td>\n",
       "      <td>2255</td>\n",
       "    </tr>\n",
       "    <tr>\n",
       "      <th>26</th>\n",
       "      <td>https://e-disclosure.ru/portal/event.aspx?Even...</td>\n",
       "      <td>\\n            Сообщение о существенном факте\\n...</td>\n",
       "      <td>2349</td>\n",
       "    </tr>\n",
       "    <tr>\n",
       "      <th>70</th>\n",
       "      <td>https://e-disclosure.ru/portal/event.aspx?Even...</td>\n",
       "      <td>\\n            Решения общих собраний участнико...</td>\n",
       "      <td>2380</td>\n",
       "    </tr>\n",
       "    <tr>\n",
       "      <th>...</th>\n",
       "      <td>...</td>\n",
       "      <td>...</td>\n",
       "      <td>...</td>\n",
       "    </tr>\n",
       "    <tr>\n",
       "      <th>29</th>\n",
       "      <td>https://e-disclosure.ru/portal/event.aspx?Even...</td>\n",
       "      <td>\\n            Решения общих собраний участнико...</td>\n",
       "      <td>78187</td>\n",
       "    </tr>\n",
       "    <tr>\n",
       "      <th>175</th>\n",
       "      <td>https://e-disclosure.ru/portal/event.aspx?Even...</td>\n",
       "      <td>\\n            Решения общих собраний участнико...</td>\n",
       "      <td>79802</td>\n",
       "    </tr>\n",
       "    <tr>\n",
       "      <th>282</th>\n",
       "      <td>https://e-disclosure.ru/portal/event.aspx?Even...</td>\n",
       "      <td>\\n            Сообщение о существенном факте о...</td>\n",
       "      <td>80206</td>\n",
       "    </tr>\n",
       "    <tr>\n",
       "      <th>399</th>\n",
       "      <td>https://e-disclosure.ru/portal/event.aspx?Even...</td>\n",
       "      <td>\\n            Сообщение о существенном факте о...</td>\n",
       "      <td>81804</td>\n",
       "    </tr>\n",
       "    <tr>\n",
       "      <th>283</th>\n",
       "      <td>https://e-disclosure.ru/portal/event.aspx?Even...</td>\n",
       "      <td>\\n            Сообщение о существенном факте о...</td>\n",
       "      <td>81979</td>\n",
       "    </tr>\n",
       "  </tbody>\n",
       "</table>\n",
       "<p>450 rows × 3 columns</p>\n",
       "</div>"
      ],
      "text/plain": [
       "                                                  href  \\\n",
       "153  https://e-disclosure.ru/portal/event.aspx?Even...   \n",
       "164  https://e-disclosure.ru/portal/event.aspx?Even...   \n",
       "336  https://e-disclosure.ru/portal/event.aspx?Even...   \n",
       "26   https://e-disclosure.ru/portal/event.aspx?Even...   \n",
       "70   https://e-disclosure.ru/portal/event.aspx?Even...   \n",
       "..                                                 ...   \n",
       "29   https://e-disclosure.ru/portal/event.aspx?Even...   \n",
       "175  https://e-disclosure.ru/portal/event.aspx?Even...   \n",
       "282  https://e-disclosure.ru/portal/event.aspx?Even...   \n",
       "399  https://e-disclosure.ru/portal/event.aspx?Even...   \n",
       "283  https://e-disclosure.ru/portal/event.aspx?Even...   \n",
       "\n",
       "                                                  text    len  \n",
       "153  \\n            Решения общих собраний участнико...   1824  \n",
       "164  \\n            Решения общих собраний участнико...   2157  \n",
       "336  \\n            Решения общих собраний участнико...   2255  \n",
       "26   \\n            Сообщение о существенном факте\\n...   2349  \n",
       "70   \\n            Решения общих собраний участнико...   2380  \n",
       "..                                                 ...    ...  \n",
       "29   \\n            Решения общих собраний участнико...  78187  \n",
       "175  \\n            Решения общих собраний участнико...  79802  \n",
       "282  \\n            Сообщение о существенном факте о...  80206  \n",
       "399  \\n            Сообщение о существенном факте о...  81804  \n",
       "283  \\n            Сообщение о существенном факте о...  81979  \n",
       "\n",
       "[450 rows x 3 columns]"
      ]
     },
     "execution_count": 10,
     "metadata": {},
     "output_type": "execute_result"
    }
   ],
   "source": [
    "texts_df.sort_values(by=['len'])"
   ]
  },
  {
   "cell_type": "code",
   "execution_count": 11,
   "metadata": {},
   "outputs": [
    {
     "data": {
      "text/html": [
       "<div>\n",
       "<style scoped>\n",
       "    .dataframe tbody tr th:only-of-type {\n",
       "        vertical-align: middle;\n",
       "    }\n",
       "\n",
       "    .dataframe tbody tr th {\n",
       "        vertical-align: top;\n",
       "    }\n",
       "\n",
       "    .dataframe thead th {\n",
       "        text-align: right;\n",
       "    }\n",
       "</style>\n",
       "<table border=\"1\" class=\"dataframe\">\n",
       "  <thead>\n",
       "    <tr style=\"text-align: right;\">\n",
       "      <th></th>\n",
       "      <th>href</th>\n",
       "      <th>text</th>\n",
       "      <th>len</th>\n",
       "    </tr>\n",
       "  </thead>\n",
       "  <tbody>\n",
       "    <tr>\n",
       "      <th>1</th>\n",
       "      <td>https://e-disclosure.ru/portal/event.aspx?Even...</td>\n",
       "      <td>\\n            Решения общих собраний участнико...</td>\n",
       "      <td>6269</td>\n",
       "    </tr>\n",
       "    <tr>\n",
       "      <th>2</th>\n",
       "      <td>https://e-disclosure.ru/portal/event.aspx?Even...</td>\n",
       "      <td>\\n            Решения общих собраний участнико...</td>\n",
       "      <td>8477</td>\n",
       "    </tr>\n",
       "    <tr>\n",
       "      <th>3</th>\n",
       "      <td>https://e-disclosure.ru/portal/event.aspx?Even...</td>\n",
       "      <td>\\n            Решения общих собраний участнико...</td>\n",
       "      <td>9073</td>\n",
       "    </tr>\n",
       "    <tr>\n",
       "      <th>8</th>\n",
       "      <td>https://e-disclosure.ru/portal/event.aspx?Even...</td>\n",
       "      <td>\\n            Решения общих собраний участнико...</td>\n",
       "      <td>4382</td>\n",
       "    </tr>\n",
       "    <tr>\n",
       "      <th>12</th>\n",
       "      <td>https://e-disclosure.ru/portal/event.aspx?Even...</td>\n",
       "      <td>\\n            Сообщение о существенном факте\\n...</td>\n",
       "      <td>4156</td>\n",
       "    </tr>\n",
       "    <tr>\n",
       "      <th>...</th>\n",
       "      <td>...</td>\n",
       "      <td>...</td>\n",
       "      <td>...</td>\n",
       "    </tr>\n",
       "    <tr>\n",
       "      <th>417</th>\n",
       "      <td>https://e-disclosure.ru/portal/event.aspx?Even...</td>\n",
       "      <td>\\n\\nО проведении общего собрания участников (а...</td>\n",
       "      <td>5457</td>\n",
       "    </tr>\n",
       "    <tr>\n",
       "      <th>419</th>\n",
       "      <td>https://e-disclosure.ru/portal/event.aspx?Even...</td>\n",
       "      <td>\\n            Решения общих собраний участнико...</td>\n",
       "      <td>7013</td>\n",
       "    </tr>\n",
       "    <tr>\n",
       "      <th>424</th>\n",
       "      <td>https://e-disclosure.ru/portal/event.aspx?Even...</td>\n",
       "      <td>\\n            Решения общих собраний участнико...</td>\n",
       "      <td>7789</td>\n",
       "    </tr>\n",
       "    <tr>\n",
       "      <th>427</th>\n",
       "      <td>https://e-disclosure.ru/portal/event.aspx?Even...</td>\n",
       "      <td>\\n            Решения общих собраний участнико...</td>\n",
       "      <td>5009</td>\n",
       "    </tr>\n",
       "    <tr>\n",
       "      <th>434</th>\n",
       "      <td>https://e-disclosure.ru/portal/event.aspx?Even...</td>\n",
       "      <td>\\n            Решения общих собраний участнико...</td>\n",
       "      <td>3524</td>\n",
       "    </tr>\n",
       "  </tbody>\n",
       "</table>\n",
       "<p>98 rows × 3 columns</p>\n",
       "</div>"
      ],
      "text/plain": [
       "                                                  href  \\\n",
       "1    https://e-disclosure.ru/portal/event.aspx?Even...   \n",
       "2    https://e-disclosure.ru/portal/event.aspx?Even...   \n",
       "3    https://e-disclosure.ru/portal/event.aspx?Even...   \n",
       "8    https://e-disclosure.ru/portal/event.aspx?Even...   \n",
       "12   https://e-disclosure.ru/portal/event.aspx?Even...   \n",
       "..                                                 ...   \n",
       "417  https://e-disclosure.ru/portal/event.aspx?Even...   \n",
       "419  https://e-disclosure.ru/portal/event.aspx?Even...   \n",
       "424  https://e-disclosure.ru/portal/event.aspx?Even...   \n",
       "427  https://e-disclosure.ru/portal/event.aspx?Even...   \n",
       "434  https://e-disclosure.ru/portal/event.aspx?Even...   \n",
       "\n",
       "                                                  text   len  \n",
       "1    \\n            Решения общих собраний участнико...  6269  \n",
       "2    \\n            Решения общих собраний участнико...  8477  \n",
       "3    \\n            Решения общих собраний участнико...  9073  \n",
       "8    \\n            Решения общих собраний участнико...  4382  \n",
       "12   \\n            Сообщение о существенном факте\\n...  4156  \n",
       "..                                                 ...   ...  \n",
       "417  \\n\\nО проведении общего собрания участников (а...  5457  \n",
       "419  \\n            Решения общих собраний участнико...  7013  \n",
       "424  \\n            Решения общих собраний участнико...  7789  \n",
       "427  \\n            Решения общих собраний участнико...  5009  \n",
       "434  \\n            Решения общих собраний участнико...  3524  \n",
       "\n",
       "[98 rows x 3 columns]"
      ]
     },
     "execution_count": 11,
     "metadata": {},
     "output_type": "execute_result"
    }
   ],
   "source": [
    "texts_df[texts_df.text.str.contains(\"дивиденд\")]"
   ]
  },
  {
   "cell_type": "code",
   "execution_count": 15,
   "metadata": {},
   "outputs": [
    {
     "data": {
      "text/html": [
       "<div>\n",
       "<style scoped>\n",
       "    .dataframe tbody tr th:only-of-type {\n",
       "        vertical-align: middle;\n",
       "    }\n",
       "\n",
       "    .dataframe tbody tr th {\n",
       "        vertical-align: top;\n",
       "    }\n",
       "\n",
       "    .dataframe thead th {\n",
       "        text-align: right;\n",
       "    }\n",
       "</style>\n",
       "<table border=\"1\" class=\"dataframe\">\n",
       "  <thead>\n",
       "    <tr style=\"text-align: right;\">\n",
       "      <th></th>\n",
       "      <th>href</th>\n",
       "      <th>text</th>\n",
       "      <th>len</th>\n",
       "    </tr>\n",
       "  </thead>\n",
       "  <tbody>\n",
       "    <tr>\n",
       "      <th>1</th>\n",
       "      <td>https://e-disclosure.ru/portal/event.aspx?Even...</td>\n",
       "      <td>\\n            Решения общих собраний участнико...</td>\n",
       "      <td>6269</td>\n",
       "    </tr>\n",
       "    <tr>\n",
       "      <th>2</th>\n",
       "      <td>https://e-disclosure.ru/portal/event.aspx?Even...</td>\n",
       "      <td>\\n            Решения общих собраний участнико...</td>\n",
       "      <td>8477</td>\n",
       "    </tr>\n",
       "    <tr>\n",
       "      <th>3</th>\n",
       "      <td>https://e-disclosure.ru/portal/event.aspx?Even...</td>\n",
       "      <td>\\n            Решения общих собраний участнико...</td>\n",
       "      <td>9073</td>\n",
       "    </tr>\n",
       "    <tr>\n",
       "      <th>8</th>\n",
       "      <td>https://e-disclosure.ru/portal/event.aspx?Even...</td>\n",
       "      <td>\\n            Решения общих собраний участнико...</td>\n",
       "      <td>4382</td>\n",
       "    </tr>\n",
       "    <tr>\n",
       "      <th>12</th>\n",
       "      <td>https://e-disclosure.ru/portal/event.aspx?Even...</td>\n",
       "      <td>\\n            Сообщение о существенном факте\\n...</td>\n",
       "      <td>4156</td>\n",
       "    </tr>\n",
       "    <tr>\n",
       "      <th>...</th>\n",
       "      <td>...</td>\n",
       "      <td>...</td>\n",
       "      <td>...</td>\n",
       "    </tr>\n",
       "    <tr>\n",
       "      <th>417</th>\n",
       "      <td>https://e-disclosure.ru/portal/event.aspx?Even...</td>\n",
       "      <td>\\n\\nО проведении общего собрания участников (а...</td>\n",
       "      <td>5457</td>\n",
       "    </tr>\n",
       "    <tr>\n",
       "      <th>419</th>\n",
       "      <td>https://e-disclosure.ru/portal/event.aspx?Even...</td>\n",
       "      <td>\\n            Решения общих собраний участнико...</td>\n",
       "      <td>7013</td>\n",
       "    </tr>\n",
       "    <tr>\n",
       "      <th>424</th>\n",
       "      <td>https://e-disclosure.ru/portal/event.aspx?Even...</td>\n",
       "      <td>\\n            Решения общих собраний участнико...</td>\n",
       "      <td>7789</td>\n",
       "    </tr>\n",
       "    <tr>\n",
       "      <th>427</th>\n",
       "      <td>https://e-disclosure.ru/portal/event.aspx?Even...</td>\n",
       "      <td>\\n            Решения общих собраний участнико...</td>\n",
       "      <td>5009</td>\n",
       "    </tr>\n",
       "    <tr>\n",
       "      <th>434</th>\n",
       "      <td>https://e-disclosure.ru/portal/event.aspx?Even...</td>\n",
       "      <td>\\n            Решения общих собраний участнико...</td>\n",
       "      <td>3524</td>\n",
       "    </tr>\n",
       "  </tbody>\n",
       "</table>\n",
       "<p>98 rows × 3 columns</p>\n",
       "</div>"
      ],
      "text/plain": [
       "                                                  href  \\\n",
       "1    https://e-disclosure.ru/portal/event.aspx?Even...   \n",
       "2    https://e-disclosure.ru/portal/event.aspx?Even...   \n",
       "3    https://e-disclosure.ru/portal/event.aspx?Even...   \n",
       "8    https://e-disclosure.ru/portal/event.aspx?Even...   \n",
       "12   https://e-disclosure.ru/portal/event.aspx?Even...   \n",
       "..                                                 ...   \n",
       "417  https://e-disclosure.ru/portal/event.aspx?Even...   \n",
       "419  https://e-disclosure.ru/portal/event.aspx?Even...   \n",
       "424  https://e-disclosure.ru/portal/event.aspx?Even...   \n",
       "427  https://e-disclosure.ru/portal/event.aspx?Even...   \n",
       "434  https://e-disclosure.ru/portal/event.aspx?Even...   \n",
       "\n",
       "                                                  text   len  \n",
       "1    \\n            Решения общих собраний участнико...  6269  \n",
       "2    \\n            Решения общих собраний участнико...  8477  \n",
       "3    \\n            Решения общих собраний участнико...  9073  \n",
       "8    \\n            Решения общих собраний участнико...  4382  \n",
       "12   \\n            Сообщение о существенном факте\\n...  4156  \n",
       "..                                                 ...   ...  \n",
       "417  \\n\\nО проведении общего собрания участников (а...  5457  \n",
       "419  \\n            Решения общих собраний участнико...  7013  \n",
       "424  \\n            Решения общих собраний участнико...  7789  \n",
       "427  \\n            Решения общих собраний участнико...  5009  \n",
       "434  \\n            Решения общих собраний участнико...  3524  \n",
       "\n",
       "[98 rows x 3 columns]"
      ]
     },
     "execution_count": 15,
     "metadata": {},
     "output_type": "execute_result"
    }
   ],
   "source": [
    "texts_df[texts_df.text.str.contains('дивиденд')]"
   ]
  },
  {
   "cell_type": "code",
   "execution_count": 16,
   "metadata": {},
   "outputs": [
    {
     "data": {
      "text/html": [
       "<div>\n",
       "<style scoped>\n",
       "    .dataframe tbody tr th:only-of-type {\n",
       "        vertical-align: middle;\n",
       "    }\n",
       "\n",
       "    .dataframe tbody tr th {\n",
       "        vertical-align: top;\n",
       "    }\n",
       "\n",
       "    .dataframe thead th {\n",
       "        text-align: right;\n",
       "    }\n",
       "</style>\n",
       "<table border=\"1\" class=\"dataframe\">\n",
       "  <thead>\n",
       "    <tr style=\"text-align: right;\">\n",
       "      <th></th>\n",
       "      <th>href</th>\n",
       "      <th>text</th>\n",
       "      <th>len</th>\n",
       "    </tr>\n",
       "  </thead>\n",
       "  <tbody>\n",
       "    <tr>\n",
       "      <th>0</th>\n",
       "      <td>https://e-disclosure.ru/portal/event.aspx?Even...</td>\n",
       "      <td>\\n            Решения общих собраний участнико...</td>\n",
       "      <td>19248</td>\n",
       "    </tr>\n",
       "    <tr>\n",
       "      <th>1</th>\n",
       "      <td>https://e-disclosure.ru/portal/event.aspx?Even...</td>\n",
       "      <td>\\n            Решения общих собраний участнико...</td>\n",
       "      <td>6269</td>\n",
       "    </tr>\n",
       "    <tr>\n",
       "      <th>2</th>\n",
       "      <td>https://e-disclosure.ru/portal/event.aspx?Even...</td>\n",
       "      <td>\\n            Решения общих собраний участнико...</td>\n",
       "      <td>8477</td>\n",
       "    </tr>\n",
       "    <tr>\n",
       "      <th>3</th>\n",
       "      <td>https://e-disclosure.ru/portal/event.aspx?Even...</td>\n",
       "      <td>\\n            Решения общих собраний участнико...</td>\n",
       "      <td>9073</td>\n",
       "    </tr>\n",
       "    <tr>\n",
       "      <th>4</th>\n",
       "      <td>https://e-disclosure.ru/portal/event.aspx?Even...</td>\n",
       "      <td>\\n            Сообщение о существенном факте \"...</td>\n",
       "      <td>8689</td>\n",
       "    </tr>\n",
       "    <tr>\n",
       "      <th>...</th>\n",
       "      <td>...</td>\n",
       "      <td>...</td>\n",
       "      <td>...</td>\n",
       "    </tr>\n",
       "    <tr>\n",
       "      <th>444</th>\n",
       "      <td>https://e-disclosure.ru/portal/event.aspx?Even...</td>\n",
       "      <td>\\n            Решения общих собраний участнико...</td>\n",
       "      <td>4146</td>\n",
       "    </tr>\n",
       "    <tr>\n",
       "      <th>445</th>\n",
       "      <td>https://e-disclosure.ru/portal/event.aspx?Even...</td>\n",
       "      <td>\\n\\nО проведении общего собрания участников (а...</td>\n",
       "      <td>5411</td>\n",
       "    </tr>\n",
       "    <tr>\n",
       "      <th>447</th>\n",
       "      <td>https://e-disclosure.ru/portal/event.aspx?Even...</td>\n",
       "      <td>\\n            Решения общих собраний участнико...</td>\n",
       "      <td>3876</td>\n",
       "    </tr>\n",
       "    <tr>\n",
       "      <th>448</th>\n",
       "      <td>https://e-disclosure.ru/portal/event.aspx?Even...</td>\n",
       "      <td>\\n            Решения общих собраний участнико...</td>\n",
       "      <td>3002</td>\n",
       "    </tr>\n",
       "    <tr>\n",
       "      <th>449</th>\n",
       "      <td>https://e-disclosure.ru/portal/event.aspx?Even...</td>\n",
       "      <td>\\n            Сообщение о существенном факте \\...</td>\n",
       "      <td>3530</td>\n",
       "    </tr>\n",
       "  </tbody>\n",
       "</table>\n",
       "<p>424 rows × 3 columns</p>\n",
       "</div>"
      ],
      "text/plain": [
       "                                                  href  \\\n",
       "0    https://e-disclosure.ru/portal/event.aspx?Even...   \n",
       "1    https://e-disclosure.ru/portal/event.aspx?Even...   \n",
       "2    https://e-disclosure.ru/portal/event.aspx?Even...   \n",
       "3    https://e-disclosure.ru/portal/event.aspx?Even...   \n",
       "4    https://e-disclosure.ru/portal/event.aspx?Even...   \n",
       "..                                                 ...   \n",
       "444  https://e-disclosure.ru/portal/event.aspx?Even...   \n",
       "445  https://e-disclosure.ru/portal/event.aspx?Even...   \n",
       "447  https://e-disclosure.ru/portal/event.aspx?Even...   \n",
       "448  https://e-disclosure.ru/portal/event.aspx?Even...   \n",
       "449  https://e-disclosure.ru/portal/event.aspx?Even...   \n",
       "\n",
       "                                                  text    len  \n",
       "0    \\n            Решения общих собраний участнико...  19248  \n",
       "1    \\n            Решения общих собраний участнико...   6269  \n",
       "2    \\n            Решения общих собраний участнико...   8477  \n",
       "3    \\n            Решения общих собраний участнико...   9073  \n",
       "4    \\n            Сообщение о существенном факте \"...   8689  \n",
       "..                                                 ...    ...  \n",
       "444  \\n            Решения общих собраний участнико...   4146  \n",
       "445  \\n\\nО проведении общего собрания участников (а...   5411  \n",
       "447  \\n            Решения общих собраний участнико...   3876  \n",
       "448  \\n            Решения общих собраний участнико...   3002  \n",
       "449  \\n            Сообщение о существенном факте \\...   3530  \n",
       "\n",
       "[424 rows x 3 columns]"
      ]
     },
     "execution_count": 16,
     "metadata": {},
     "output_type": "execute_result"
    }
   ],
   "source": [
    "texts_df[texts_df.text.str.contains('участников')]"
   ]
  },
  {
   "cell_type": "code",
   "execution_count": 19,
   "metadata": {},
   "outputs": [
    {
     "name": "stdout",
     "output_type": "stream",
     "text": [
      "\n",
      "            Сообщение о существенном факте \n",
      "о созыве и проведении общего собрания участников (акционеров) эмитента, а также о решениях, принятых общим собранием участников (акционеров) эмитента\n",
      "1. Общие сведения\n",
      "1.1. Полное фирменное наименование эмитента\tОбщество с ограниченной ответственностью\n",
      "«Хоум Кредит энд Финанс Банк»\n",
      "1.2. Сокращенное фирменное наименование эмитента\tООО «ХКФ Банк»\n",
      "1.3. Место нахождения эмитента\t125124, Москва, улица Правды, дом 8, корпус 1\n",
      "1.4. ОГРН эмитента\t1027700280937\n",
      "1.5. ИНН эмитента\t7735057951\n",
      "1.6. Уникальный код эмитента, присвоенный регистрирующим органом\t00316В\n",
      "1.7. Адрес страницы в сети Интернет, используемой эмитентом для раскрытия информации\twww.homecredit.ru, \n",
      "www.e-disclosure.ru/portal/company.aspx?id=4644\n",
      "1.8. Дата наступления события (существенного факта), о котором составлено сообщение (если применимо)\t«12» октября 2020 г.\n",
      "\t2. Содержание сообщения\n",
      "О проведении общего собрания участников эмитента и о принятых им решениях\n",
      "2.1. Вид общего собрания участников эмитента: внеочередное.\n",
      "2.2. Форма проведения общего собрания участников эмитента: собрание (совместное присутствие).\n",
      "2.3. Дата, место, время проведения общего собрания участников эмитента: «12» октября 2020 г., г. Амстердам, 09:00 по местному времени.\n",
      "2.4. Кворум общего собрания участников эмитента:\n",
      "Присутствовали:\n",
      "1. Home Credit N.V. (Публичная компания с ограниченной ответственностью «Хоум Кредит Н.В.») – 41 726 600 голосов;\n",
      "2. Home Credit International a.s. (Хоум Кредит Интернешнл а.с.) – 3 400 голосов.\n",
      "Всего голосов – 41 730 000 голосов.\n",
      "Участвуют в голосовании – 41 730 000 голосов\n",
      "Необходимый кворум – 41 730 000 голосов.\n",
      "Фактически присутствовало – 41 730 000 голосов.\n",
      "Кворум имеется.\n",
      "Собрание правомочно принимать решения по всем вопросам повестки дня. \n",
      "2.5. Повестка дня общего собрания участников эмитента:\n",
      "1.\tО выплате части нераспределенной прибыли  прошлых лет.\n",
      "2.6. Результаты голосования по вопросам повестки дня общего собрания участников эмитента, по которым имелся кворум, и формулировки решений, принятых общим собранием участников эмитента по указанным вопросам:\n",
      "1.\tО выплате части нераспределенной прибыли  прошлых лет.\n",
      "  ГОЛОСОВАЛИ: \n",
      "   «за» - единогласно\n",
      "«против» - нет\n",
      "«воздержалось» - нет\n",
      "ПОСТАНОВИЛИ:\t1.1.\tРаспределить между участниками Банка – Публичной компанией с ограниченной ответственностью «Хоум Кредит Н.В.» и  Хоум Кредит Интернешнл а.с. часть нераспределенной прибыли Банка прошлых лет в общей сумме 4 608 000 000   (четыре миллиарда шестьсот восемь миллионов) рублей 00 копеек в следующих размерах:\n",
      "\t4 607 624 557 (четыре миллиарда шестьсот семь миллионов шестьсот двадцать четыре тысячи пятьсот пятьдесят семь) рублей 85 копеек – Публичной компании с ограниченной ответственностью «Хоум Кредит Н.В.»,\n",
      "\t375 442   (триста семьдесят пять тысяч четыреста сорок два) рублей 15 копеек – Хоум Кредит Интернешнл а.с.\n",
      "1.2.\tРаспределенную между участниками часть прибыли прошлых лет в соответствии с п. 1.1 настоящего протокола выплатить участникам безналичным перечислением денежных средств в рублях РФ на их банковские счета не позднее 60 (шестидесяти) календарных дней с даты принятия настоящего решения, после удержания налогов в соответствии с налоговым законодательством РФ.\n",
      "2.7. Дата составления и номер протокола общего собрания участников эмитента: «12» октября 2020 г., Протокол № 394.\n",
      "3. Подпись\n",
      "3.1. Финансовый директор ООО «ХКФ Банк»,\n",
      "действующий на основании \n",
      "доверенности № 1-6/171 от 18.02.2019 г.\t\tИ.В. Коликова\n",
      "\t(подпись)\t\n",
      "3.2. Дата «12» октября 2020 г.\t М.П.\t\n",
      "\n",
      "\n"
     ]
    }
   ],
   "source": [
    "print(texts_df.iloc[449]['text'])"
   ]
  },
  {
   "cell_type": "code",
   "execution_count": null,
   "metadata": {},
   "outputs": [],
   "source": []
  },
  {
   "cell_type": "code",
   "execution_count": 112,
   "metadata": {},
   "outputs": [],
   "source": [
    "texts_df.to_parquet(\"parsed_data.parquet\")"
   ]
  },
  {
   "cell_type": "code",
   "execution_count": 113,
   "metadata": {},
   "outputs": [],
   "source": [
    "from wordcloud import WordCloud"
   ]
  },
  {
   "cell_type": "code",
   "execution_count": null,
   "metadata": {},
   "outputs": [],
   "source": [
    "WordCloud()"
   ]
  },
  {
   "cell_type": "code",
   "execution_count": null,
   "metadata": {},
   "outputs": [],
   "source": []
  },
  {
   "cell_type": "code",
   "execution_count": null,
   "metadata": {},
   "outputs": [],
   "source": []
  }
 ],
 "metadata": {
  "kernelspec": {
   "display_name": "Python 3",
   "language": "python",
   "name": "python3"
  },
  "language_info": {
   "codemirror_mode": {
    "name": "ipython",
    "version": 3
   },
   "file_extension": ".py",
   "mimetype": "text/x-python",
   "name": "python",
   "nbconvert_exporter": "python",
   "pygments_lexer": "ipython3",
   "version": "3.8.5"
  }
 },
 "nbformat": 4,
 "nbformat_minor": 4
}
